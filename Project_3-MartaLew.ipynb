{
 "cells": [
  {
   "cell_type": "code",
   "execution_count": 2,
   "metadata": {},
   "outputs": [],
   "source": [
    "import requests\n",
    "import pandas as pd\n",
    "import numpy as np\n",
    "import matplotlib.pyplot as plt\n",
    "import seaborn as sns\n",
    "from nltk.tag import pos_tag\n",
    "from nltk.tokenize import word_tokenize, wordpunct_tokenize\n",
    "#from nltk import FreqDist\n",
    "from sklearn.model_selection import train_test_split, GridSearchCV\n",
    "from sklearn.pipeline import Pipeline\n",
    "from sklearn.naive_bayes import MultinomialNB\n",
    "from sklearn.linear_model import LogisticRegression\n",
    "from sklearn.metrics import confusion_matrix, plot_confusion_matrix\n",
    "from sklearn.feature_extraction.text import CountVectorizer, TfidfVectorizer"
   ]
  },
  {
   "cell_type": "markdown",
   "metadata": {},
   "source": [
    "### Getting data from LA Subreddit ###"
   ]
  },
  {
   "cell_type": "code",
   "execution_count": 3,
   "metadata": {},
   "outputs": [],
   "source": [
    "url_submissions = 'https://api.pushshift.io/reddit/search/submission'\n",
    "url_comments = 'https://api.pushshift.io/reddit/search/comment'"
   ]
  },
  {
   "cell_type": "code",
   "execution_count": 4,
   "metadata": {},
   "outputs": [],
   "source": [
    "LA_posts_cols = ['all_awardings', 'allow_live_comments', 'author',\n",
    "       'author_flair_css_class', 'author_flair_richtext', 'author_flair_text',\n",
    "       'author_flair_type', 'author_fullname', 'author_patreon_flair',\n",
    "       'author_premium', 'awarders', 'can_mod_post', 'contest_mode',\n",
    "       'created_utc', 'domain', 'full_link', 'gildings', 'id',\n",
    "       'is_reddit_media_domain', 'is_robot_indexable', 'is_self', 'is_video',\n",
    "       'link_flair_background_color', 'link_flair_richtext', 'link_flair_text',\n",
    "       'link_flair_text_color', 'link_flair_type', 'locked', 'media_only',\n",
    "       'no_follow', 'num_comments', 'num_crossposts', 'over_18',\n",
    "       'parent_whitelist_status', 'permalink', 'pinned', 'pwls',\n",
    "       'removed_by_category', 'retrieved_on', 'score', 'selftext',\n",
    "       'send_replies', 'spoiler', 'steward_reports', 'stickied', 'subreddit',\n",
    "       'subreddit_id', 'subreddit_subscribers', 'subreddit_type', 'thumbnail',\n",
    "       'title', 'total_awards_received', 'url', 'whitelist_status', 'wls',\n",
    "       'author_flair_background_color', 'author_flair_text_color',\n",
    "       'link_flair_css_class', 'author_flair_template_id', 'crosspost_parent',\n",
    "       'crosspost_parent_list', 'post_hint', 'preview', 'thumbnail_height',\n",
    "       'thumbnail_width', 'media_metadata', 'media', 'media_embed',\n",
    "       'secure_media', 'secure_media_embed', 'suggested_sort']"
   ]
  },
  {
   "cell_type": "code",
   "execution_count": 5,
   "metadata": {},
   "outputs": [],
   "source": [
    "LA_posts_df = pd.DataFrame(columns = LA_posts_cols)\n",
    "before_params = [1577865600] # first timestamp is equivalent to midnight PT on 01/01/2020 \n",
    "for i in range(1, 11):\n",
    "    resp = requests.get(url_submissions, params = {'subreddit': 'LosAngeles','size': 100,'before': before_params[-1]})\n",
    "    try: \n",
    "        batch = pd.DataFrame(resp.json()['data'])\n",
    "        LA_posts_df = pd.concat([LA_posts_df, batch], axis = 0 )\n",
    "        before_params.append(batch['created_utc'].min())\n",
    "    except:\n",
    "        print(resp.status_code)"
   ]
  },
  {
   "cell_type": "code",
   "execution_count": 6,
   "metadata": {},
   "outputs": [
    {
     "data": {
      "text/plain": [
       "(1000, 76)"
      ]
     },
     "execution_count": 6,
     "metadata": {},
     "output_type": "execute_result"
    }
   ],
   "source": [
    "LA_posts_df.shape"
   ]
  },
  {
   "cell_type": "code",
   "execution_count": 172,
   "metadata": {},
   "outputs": [
    {
     "data": {
      "text/html": [
       "<div>\n",
       "<style scoped>\n",
       "    .dataframe tbody tr th:only-of-type {\n",
       "        vertical-align: middle;\n",
       "    }\n",
       "\n",
       "    .dataframe tbody tr th {\n",
       "        vertical-align: top;\n",
       "    }\n",
       "\n",
       "    .dataframe thead th {\n",
       "        text-align: right;\n",
       "    }\n",
       "</style>\n",
       "<table border=\"1\" class=\"dataframe\">\n",
       "  <thead>\n",
       "    <tr style=\"text-align: right;\">\n",
       "      <th></th>\n",
       "      <th>title_selftext</th>\n",
       "      <th>title</th>\n",
       "      <th>selftext</th>\n",
       "    </tr>\n",
       "  </thead>\n",
       "  <tbody>\n",
       "    <tr>\n",
       "      <th>0</th>\n",
       "      <td>Anyone in the LA area want to hang tomorrow?[r...</td>\n",
       "      <td>Anyone in the LA area want to hang tomorrow?</td>\n",
       "      <td>[removed]</td>\n",
       "    </tr>\n",
       "    <tr>\n",
       "      <th>1</th>\n",
       "      <td>Father’s 1985 Toyota MR2 stolen this AM from S...</td>\n",
       "      <td>Father’s 1985 Toyota MR2 stolen this AM from SFV</td>\n",
       "      <td>My dad’s MR2 was stolen from the front of his ...</td>\n",
       "    </tr>\n",
       "    <tr>\n",
       "      <th>2</th>\n",
       "      <td>Why does Downtown Los Angeles have so many lux...</td>\n",
       "      <td>Why does Downtown Los Angeles have so many lux...</td>\n",
       "      <td></td>\n",
       "    </tr>\n",
       "    <tr>\n",
       "      <th>3</th>\n",
       "      <td>Mt baldythinking of heading there tomorrow,cha...</td>\n",
       "      <td>Mt baldy</td>\n",
       "      <td>thinking of heading there tomorrow,chains need...</td>\n",
       "    </tr>\n",
       "    <tr>\n",
       "      <th>4</th>\n",
       "      <td>20//20</td>\n",
       "      <td>20//20</td>\n",
       "      <td></td>\n",
       "    </tr>\n",
       "  </tbody>\n",
       "</table>\n",
       "</div>"
      ],
      "text/plain": [
       "                                      title_selftext  \\\n",
       "0  Anyone in the LA area want to hang tomorrow?[r...   \n",
       "1  Father’s 1985 Toyota MR2 stolen this AM from S...   \n",
       "2  Why does Downtown Los Angeles have so many lux...   \n",
       "3  Mt baldythinking of heading there tomorrow,cha...   \n",
       "4                                             20//20   \n",
       "\n",
       "                                               title  \\\n",
       "0       Anyone in the LA area want to hang tomorrow?   \n",
       "1   Father’s 1985 Toyota MR2 stolen this AM from SFV   \n",
       "2  Why does Downtown Los Angeles have so many lux...   \n",
       "3                                           Mt baldy   \n",
       "4                                             20//20   \n",
       "\n",
       "                                            selftext  \n",
       "0                                          [removed]  \n",
       "1  My dad’s MR2 was stolen from the front of his ...  \n",
       "2                                                     \n",
       "3  thinking of heading there tomorrow,chains need...  \n",
       "4                                                     "
      ]
     },
     "execution_count": 172,
     "metadata": {},
     "output_type": "execute_result"
    }
   ],
   "source": [
    "LA_posts_df['title_selftext'] = LA_posts_df['title']+LA_posts_df['selftext']\n",
    "LA_posts_df[['title_selftext', 'title', 'selftext']].head()"
   ]
  },
  {
   "cell_type": "code",
   "execution_count": 7,
   "metadata": {},
   "outputs": [],
   "source": [
    "LA_comments_cols = ['all_awardings', 'associated_award', 'author',\n",
    "       'author_flair_background_color', 'author_flair_css_class',\n",
    "       'author_flair_richtext', 'author_flair_template_id',\n",
    "       'author_flair_text', 'author_flair_text_color', 'author_flair_type',\n",
    "       'author_fullname', 'author_patreon_flair', 'author_premium', 'awarders',\n",
    "       'body', 'collapsed_because_crowd_control', 'created_utc', 'gildings',\n",
    "       'id', 'is_submitter', 'link_id', 'locked', 'no_follow', 'parent_id',\n",
    "       'permalink', 'retrieved_on', 'score', 'send_replies', 'steward_reports',\n",
    "       'stickied', 'subreddit', 'subreddit_id', 'total_awards_received',\n",
    "       'distinguished']"
   ]
  },
  {
   "cell_type": "code",
   "execution_count": 8,
   "metadata": {},
   "outputs": [],
   "source": [
    "LA_comments_df = pd.DataFrame(columns = LA_comments_cols)\n",
    "before_params = [1577865600] # first timestamp is equivalent to midnight PT on 01/01/2020 \n",
    "for i in range(1, 11):\n",
    "    resp = requests.get(url_comments, params = {'subreddit': 'LosAngeles','size': 100,'before': before_params[-1]})\n",
    "    try: \n",
    "        batch = pd.DataFrame(resp.json()['data'])\n",
    "        LA_comments_df = pd.concat([LA_comments_df, batch], axis = 0 )\n",
    "        before_params.append(batch['created_utc'].min())\n",
    "    except:\n",
    "        print(resp.status_code)"
   ]
  },
  {
   "cell_type": "code",
   "execution_count": 9,
   "metadata": {},
   "outputs": [
    {
     "data": {
      "text/plain": [
       "(1000, 35)"
      ]
     },
     "execution_count": 9,
     "metadata": {},
     "output_type": "execute_result"
    }
   ],
   "source": [
    "LA_comments_df.shape"
   ]
  },
  {
   "cell_type": "markdown",
   "metadata": {},
   "source": [
    "### Getting data from BOS Subreddit ###"
   ]
  },
  {
   "cell_type": "code",
   "execution_count": 10,
   "metadata": {},
   "outputs": [],
   "source": [
    "BOS_posts_cols = ['all_awardings', 'allow_live_comments', 'author',\n",
    "       'author_flair_background_color', 'author_flair_css_class',\n",
    "       'author_flair_richtext', 'author_flair_text', 'author_flair_text_color',\n",
    "       'author_flair_type', 'author_fullname', 'author_patreon_flair',\n",
    "       'author_premium', 'awarders', 'can_mod_post', 'contest_mode',\n",
    "       'created_utc', 'domain', 'full_link', 'gildings', 'id',\n",
    "       'is_crosspostable', 'is_meta', 'is_original_content',\n",
    "       'is_reddit_media_domain', 'is_robot_indexable', 'is_self', 'is_video',\n",
    "       'link_flair_background_color', 'link_flair_richtext',\n",
    "       'link_flair_text_color', 'link_flair_type', 'locked', 'media_only',\n",
    "       'no_follow', 'num_comments', 'num_crossposts', 'over_18',\n",
    "       'parent_whitelist_status', 'permalink', 'pinned', 'pwls',\n",
    "       'retrieved_on', 'score', 'selftext', 'send_replies', 'spoiler',\n",
    "       'steward_reports', 'stickied', 'subreddit', 'subreddit_id',\n",
    "       'subreddit_subscribers', 'subreddit_type', 'thumbnail', 'title',\n",
    "       'total_awards_received', 'url', 'whitelist_status', 'wls',\n",
    "       'link_flair_css_class', 'link_flair_template_id', 'link_flair_text',\n",
    "       'author_flair_template_id', 'post_hint', 'preview', 'thumbnail_height',\n",
    "       'thumbnail_width', 'removed_by_category', 'media', 'secure_media',\n",
    "       'crosspost_parent', 'crosspost_parent_list', 'media_embed',\n",
    "       'secure_media_embed']"
   ]
  },
  {
   "cell_type": "code",
   "execution_count": 11,
   "metadata": {},
   "outputs": [],
   "source": [
    "BOS_posts_df = pd.DataFrame(columns = BOS_posts_cols)\n",
    "before_params = [1577872800] # first timestamp is equivalent to midnight ET on 01/01/2020 \n",
    "for i in range(1, 11):\n",
    "    resp = requests.get(url_submissions, params = {'subreddit': 'boston','size': 100,'before': before_params[-1]})\n",
    "    try: \n",
    "        batch = pd.DataFrame(resp.json()['data'])\n",
    "        BOS_posts_df = pd.concat([BOS_posts_df, batch], axis = 0 )\n",
    "        before_params.append(batch['created_utc'].min())\n",
    "    except:\n",
    "        print(resp.status_code)"
   ]
  },
  {
   "cell_type": "code",
   "execution_count": 12,
   "metadata": {},
   "outputs": [
    {
     "data": {
      "text/plain": [
       "(1000, 75)"
      ]
     },
     "execution_count": 12,
     "metadata": {},
     "output_type": "execute_result"
    }
   ],
   "source": [
    "BOS_posts_df.shape"
   ]
  },
  {
   "cell_type": "code",
   "execution_count": 171,
   "metadata": {},
   "outputs": [
    {
     "data": {
      "text/html": [
       "<div>\n",
       "<style scoped>\n",
       "    .dataframe tbody tr th:only-of-type {\n",
       "        vertical-align: middle;\n",
       "    }\n",
       "\n",
       "    .dataframe tbody tr th {\n",
       "        vertical-align: top;\n",
       "    }\n",
       "\n",
       "    .dataframe thead th {\n",
       "        text-align: right;\n",
       "    }\n",
       "</style>\n",
       "<table border=\"1\" class=\"dataframe\">\n",
       "  <thead>\n",
       "    <tr style=\"text-align: right;\">\n",
       "      <th></th>\n",
       "      <th>title_selftext</th>\n",
       "      <th>title</th>\n",
       "      <th>selftext</th>\n",
       "    </tr>\n",
       "  </thead>\n",
       "  <tbody>\n",
       "    <tr>\n",
       "      <th>0</th>\n",
       "      <td>Fireworks from the Seaport</td>\n",
       "      <td>Fireworks from the Seaport</td>\n",
       "      <td></td>\n",
       "    </tr>\n",
       "    <tr>\n",
       "      <th>1</th>\n",
       "      <td>Missed the last train home from north station ...</td>\n",
       "      <td>Missed the last train home from north station :(</td>\n",
       "      <td>What are my options and I can’t afford an Uber...</td>\n",
       "    </tr>\n",
       "    <tr>\n",
       "      <th>2</th>\n",
       "      <td>Moving To BostonHello people of Boston I’m fro...</td>\n",
       "      <td>Moving To Boston</td>\n",
       "      <td>Hello people of Boston I’m from the south shor...</td>\n",
       "    </tr>\n",
       "    <tr>\n",
       "      <th>3</th>\n",
       "      <td>$71 to go from the North End to the South End</td>\n",
       "      <td>$71 to go from the North End to the South End</td>\n",
       "      <td></td>\n",
       "    </tr>\n",
       "    <tr>\n",
       "      <th>4</th>\n",
       "      <td>Boston First Night Family Fireworks</td>\n",
       "      <td>Boston First Night Family Fireworks</td>\n",
       "      <td></td>\n",
       "    </tr>\n",
       "  </tbody>\n",
       "</table>\n",
       "</div>"
      ],
      "text/plain": [
       "                                      title_selftext  \\\n",
       "0                         Fireworks from the Seaport   \n",
       "1  Missed the last train home from north station ...   \n",
       "2  Moving To BostonHello people of Boston I’m fro...   \n",
       "3      $71 to go from the North End to the South End   \n",
       "4                Boston First Night Family Fireworks   \n",
       "\n",
       "                                              title  \\\n",
       "0                        Fireworks from the Seaport   \n",
       "1  Missed the last train home from north station :(   \n",
       "2                                  Moving To Boston   \n",
       "3     $71 to go from the North End to the South End   \n",
       "4               Boston First Night Family Fireworks   \n",
       "\n",
       "                                            selftext  \n",
       "0                                                     \n",
       "1  What are my options and I can’t afford an Uber...  \n",
       "2  Hello people of Boston I’m from the south shor...  \n",
       "3                                                     \n",
       "4                                                     "
      ]
     },
     "execution_count": 171,
     "metadata": {},
     "output_type": "execute_result"
    }
   ],
   "source": [
    "BOS_posts_df['title_selftext'] = BOS_posts_df['title']+BOS_posts_df['selftext']\n",
    "BOS_posts_df[['title_selftext', 'title', 'selftext']].head()"
   ]
  },
  {
   "cell_type": "code",
   "execution_count": 14,
   "metadata": {},
   "outputs": [],
   "source": [
    "BOS_comments_cols = ['all_awardings', 'associated_award', 'author',\n",
    "       'author_flair_background_color', 'author_flair_css_class',\n",
    "       'author_flair_richtext', 'author_flair_template_id',\n",
    "       'author_flair_text', 'author_flair_text_color', 'author_flair_type',\n",
    "       'author_fullname', 'author_patreon_flair', 'author_premium', 'awarders',\n",
    "       'body', 'collapsed_because_crowd_control', 'created_utc', 'gildings',\n",
    "       'id', 'is_submitter', 'link_id', 'locked', 'no_follow', 'parent_id',\n",
    "       'permalink', 'retrieved_on', 'score', 'send_replies', 'steward_reports',\n",
    "       'stickied', 'subreddit', 'subreddit_id', 'total_awards_received',\n",
    "       'author_cakeday']"
   ]
  },
  {
   "cell_type": "code",
   "execution_count": 15,
   "metadata": {},
   "outputs": [],
   "source": [
    "BOS_comments_df = pd.DataFrame(columns = BOS_comments_cols)\n",
    "before_params = [1577865600] # first timestamp is equivalent to midnight PT on 01/01/2020 \n",
    "for i in range(1, 11):\n",
    "    resp = requests.get(url_comments, params = {'subreddit': 'boston','size': 100,'before': before_params[-1]})\n",
    "    try: \n",
    "        batch = pd.DataFrame(resp.json()['data'])\n",
    "        BOS_comments_df = pd.concat([BOS_comments_df, batch], axis = 0 )\n",
    "        before_params.append(batch['created_utc'].min())\n",
    "    except:\n",
    "        print(resp.status_code)"
   ]
  },
  {
   "cell_type": "code",
   "execution_count": 16,
   "metadata": {},
   "outputs": [
    {
     "data": {
      "text/plain": [
       "(1000, 35)"
      ]
     },
     "execution_count": 16,
     "metadata": {},
     "output_type": "execute_result"
    }
   ],
   "source": [
    "BOS_comments_df.shape"
   ]
  },
  {
   "cell_type": "code",
   "execution_count": 17,
   "metadata": {},
   "outputs": [
    {
     "data": {
      "text/plain": [
       "0                        Hell yes this is gonna be good\n",
       "1     It’s called surge fucking pricing. NYE in the ...\n",
       "2                         Too fancy to consider a pool?\n",
       "3     First outbound is 6:43 to Reading.  First outb...\n",
       "4                                  My name is coder boy\n",
       "                            ...                        \n",
       "95    Charlie’s Kitchen has Wu Tang Wednesday’s once...\n",
       "96    Bartaco sucks. Long wait and shitty service an...\n",
       "97    Are you looking for hockey specifically, or ad...\n",
       "98    Oh yes, the famous money-making enterprise of ...\n",
       "99    I go to Heroes occasionally, when I miss the m...\n",
       "Name: body, Length: 1000, dtype: object"
      ]
     },
     "execution_count": 17,
     "metadata": {},
     "output_type": "execute_result"
    }
   ],
   "source": [
    "BOS_comments_df['body']"
   ]
  },
  {
   "cell_type": "markdown",
   "metadata": {},
   "source": [
    "### Dealing with stop words"
   ]
  },
  {
   "cell_type": "code",
   "execution_count": 18,
   "metadata": {},
   "outputs": [],
   "source": [
    "from nltk.corpus import stopwords"
   ]
  },
  {
   "cell_type": "code",
   "execution_count": 19,
   "metadata": {},
   "outputs": [],
   "source": [
    "stops = stopwords.words('english')\n",
    "puncts = [\"!\", \",\", \"\\'\", \"\\\"\"]\n",
    "stops.extend(puncts)"
   ]
  },
  {
   "cell_type": "markdown",
   "metadata": {},
   "source": [
    "_More to be done here later_"
   ]
  },
  {
   "cell_type": "markdown",
   "metadata": {},
   "source": [
    "### Dealing with proper names"
   ]
  },
  {
   "cell_type": "code",
   "execution_count": 20,
   "metadata": {},
   "outputs": [
    {
     "data": {
      "text/plain": [
       "'PROPERNOUN yes this is gonna be goodIt PROPERNOUN s called surge fucking pricing . PROPERNOUN in the'"
      ]
     },
     "execution_count": 20,
     "metadata": {},
     "output_type": "execute_result"
    }
   ],
   "source": [
    "BOS_comments_corpus = ''\n",
    "for i in range(len(BOS_comments_df)):\n",
    "    BOS_comments_corpus+=(BOS_comments_df.iloc[i,list(BOS_comments_df.columns).index('body')])\n",
    "\n",
    "tagged_BOS_comments_corpus = pos_tag(wordpunct_tokenize(BOS_comments_corpus))\n",
    "propernouns = [word for word,pos in tagged_BOS_comments_corpus if pos == 'NNP']\n",
    "BOS_comments_corpus_noprop = \" \".join([token if not token in propernouns else 'PROPERNOUN' for token in wordpunct_tokenize(BOS_comments_corpus)])\n",
    "\n",
    "BOS_comments_corpus_noprop[:100]"
   ]
  },
  {
   "cell_type": "code",
   "execution_count": 21,
   "metadata": {},
   "outputs": [
    {
     "data": {
      "text/plain": [
       "'PROPERNOUN , afaik no parking enforcement tomorrow morning unless you block something private towing'"
      ]
     },
     "execution_count": 21,
     "metadata": {},
     "output_type": "execute_result"
    }
   ],
   "source": [
    "LA_comments_corpus = ''\n",
    "for i in range(len(LA_comments_df)):\n",
    "    LA_comments_corpus+=(LA_comments_df.iloc[i,list(LA_comments_df.columns).index('body')])\n",
    "\n",
    "tagged_LA_comments_corpus = pos_tag(wordpunct_tokenize(LA_comments_corpus))\n",
    "propernouns = [word for word,pos in tagged_LA_comments_corpus if pos == 'NNP']\n",
    "LA_comments_corpus_noprop = \" \".join([token if not token in propernouns else 'PROPERNOUN' for token in wordpunct_tokenize(LA_comments_corpus)])\n",
    "\n",
    "LA_comments_corpus_noprop[:100]"
   ]
  },
  {
   "cell_type": "markdown",
   "metadata": {},
   "source": [
    "### Sentiment analysis"
   ]
  },
  {
   "cell_type": "code",
   "execution_count": 22,
   "metadata": {},
   "outputs": [],
   "source": [
    "from nltk.sentiment import sentiment_analyzer, vader, SentimentAnalyzer, SentimentIntensityAnalyzer"
   ]
  },
  {
   "cell_type": "code",
   "execution_count": 23,
   "metadata": {},
   "outputs": [],
   "source": [
    "sia = SentimentIntensityAnalyzer()"
   ]
  },
  {
   "cell_type": "code",
   "execution_count": 24,
   "metadata": {},
   "outputs": [
    {
     "data": {
      "text/plain": [
       "{'neg': 0.081, 'neu': 0.796, 'pos': 0.123, 'compound': 1.0}"
      ]
     },
     "execution_count": 24,
     "metadata": {},
     "output_type": "execute_result"
    }
   ],
   "source": [
    "sia.polarity_scores(BOS_comments_corpus_noprop)"
   ]
  },
  {
   "cell_type": "code",
   "execution_count": 25,
   "metadata": {},
   "outputs": [
    {
     "data": {
      "text/plain": [
       "{'neg': 0.079, 'neu': 0.794, 'pos': 0.127, 'compound': 1.0}"
      ]
     },
     "execution_count": 25,
     "metadata": {},
     "output_type": "execute_result"
    }
   ],
   "source": [
    "sia.polarity_scores(LA_comments_corpus_noprop)"
   ]
  },
  {
   "cell_type": "markdown",
   "metadata": {},
   "source": [
    "_How about for each comment separately?_"
   ]
  },
  {
   "cell_type": "markdown",
   "metadata": {},
   "source": [
    "### Count Vectorizer and dumb model on just comments"
   ]
  },
  {
   "cell_type": "code",
   "execution_count": 26,
   "metadata": {},
   "outputs": [],
   "source": [
    "X = pd.concat([BOS_comments_df['body'], LA_comments_df['body']], axis = 0)"
   ]
  },
  {
   "cell_type": "code",
   "execution_count": 26,
   "metadata": {},
   "outputs": [],
   "source": [
    "X = pd.concat([BOS_comments_df['body'], LA_comments_df['body']], axis = 0)"
   ]
  },
  {
   "cell_type": "code",
   "execution_count": 27,
   "metadata": {},
   "outputs": [
    {
     "data": {
      "text/plain": [
       "(2000,)"
      ]
     },
     "execution_count": 27,
     "metadata": {},
     "output_type": "execute_result"
    }
   ],
   "source": [
    "X.shape"
   ]
  },
  {
   "cell_type": "code",
   "execution_count": 28,
   "metadata": {},
   "outputs": [],
   "source": [
    "y = np.concatenate([np.zeros_like(BOS_comments_df['body']), np.ones_like(LA_comments_df['body'])]).astype(int)"
   ]
  },
  {
   "cell_type": "code",
   "execution_count": 29,
   "metadata": {},
   "outputs": [
    {
     "data": {
      "text/plain": [
       "numpy.ndarray"
      ]
     },
     "execution_count": 29,
     "metadata": {},
     "output_type": "execute_result"
    }
   ],
   "source": [
    "type(y)"
   ]
  },
  {
   "cell_type": "code",
   "execution_count": 30,
   "metadata": {},
   "outputs": [],
   "source": [
    "train_X, test_X, train_y, test_y = train_test_split(X,y)"
   ]
  },
  {
   "cell_type": "code",
   "execution_count": 31,
   "metadata": {},
   "outputs": [],
   "source": [
    "cvec = CountVectorizer(stop_words='english', lowercase = True, max_features=10_000)\n",
    "train_X_vec = cvec.fit_transform(train_X)\n",
    "test_X_vec = cvec.transform(test_X)"
   ]
  },
  {
   "cell_type": "code",
   "execution_count": 32,
   "metadata": {},
   "outputs": [
    {
     "data": {
      "text/plain": [
       "0.5013333333333333"
      ]
     },
     "execution_count": 32,
     "metadata": {},
     "output_type": "execute_result"
    }
   ],
   "source": [
    "train_y.mean()"
   ]
  },
  {
   "cell_type": "code",
   "execution_count": 33,
   "metadata": {},
   "outputs": [
    {
     "data": {
      "text/plain": [
       "0.496"
      ]
     },
     "execution_count": 33,
     "metadata": {},
     "output_type": "execute_result"
    }
   ],
   "source": [
    "test_y.mean()"
   ]
  },
  {
   "cell_type": "code",
   "execution_count": 34,
   "metadata": {},
   "outputs": [],
   "source": [
    "mnb = MultinomialNB()"
   ]
  },
  {
   "cell_type": "code",
   "execution_count": 35,
   "metadata": {},
   "outputs": [
    {
     "data": {
      "text/plain": [
       "0.9306666666666666"
      ]
     },
     "execution_count": 35,
     "metadata": {},
     "output_type": "execute_result"
    }
   ],
   "source": [
    "mnb.fit(train_X_vec, train_y)\n",
    "mnb.score(train_X_vec, train_y)"
   ]
  },
  {
   "cell_type": "markdown",
   "metadata": {},
   "source": [
    "### FUN WITH SPACY"
   ]
  },
  {
   "cell_type": "code",
   "execution_count": 39,
   "metadata": {},
   "outputs": [],
   "source": [
    "import spacy\n",
    "from spacy import displacy\n",
    "en_mdl = spacy.load('en_core_web_md')\n",
    "nlp = spacy.load('en_core_web_sm')"
   ]
  },
  {
   "cell_type": "code",
   "execution_count": 41,
   "metadata": {},
   "outputs": [
    {
     "data": {
      "text/html": [
       "<span class=\"tex2jax_ignore\"><div class=\"entities\" style=\"line-height: 2.5; direction: ltr\">I miss \n",
       "<mark class=\"entity\" style=\"background: #feca74; padding: 0.45em 0.6em; margin: 0 0.25em; line-height: 1; border-radius: 0.35em;\">\n",
       "    Boston\n",
       "    <span style=\"font-size: 0.8em; font-weight: bold; line-height: 1; border-radius: 0.35em; text-transform: uppercase; vertical-align: middle; margin-left: 0.5rem\">GPE</span>\n",
       "</mark>\n",
       " sometimes</div></span>"
      ],
      "text/plain": [
       "<IPython.core.display.HTML object>"
      ]
     },
     "metadata": {},
     "output_type": "display_data"
    }
   ],
   "source": [
    "displacy.render(nlp(str('I miss Boston sometimes')), jupyter=True, style='ent')"
   ]
  },
  {
   "cell_type": "code",
   "execution_count": 42,
   "metadata": {},
   "outputs": [
    {
     "data": {
      "text/html": [
       "<span class=\"tex2jax_ignore\"><div class=\"entities\" style=\"line-height: 2.5; direction: ltr\">\n",
       "<mark class=\"entity\" style=\"background: #aa9cfc; padding: 0.45em 0.6em; margin: 0 0.25em; line-height: 1; border-radius: 0.35em;\">\n",
       "    Ada Lovelace\n",
       "    <span style=\"font-size: 0.8em; font-weight: bold; line-height: 1; border-radius: 0.35em; text-transform: uppercase; vertical-align: middle; margin-left: 0.5rem\">PERSON</span>\n",
       "</mark>\n",
       " was born in \n",
       "<mark class=\"entity\" style=\"background: #feca74; padding: 0.45em 0.6em; margin: 0 0.25em; line-height: 1; border-radius: 0.35em;\">\n",
       "    London\n",
       "    <span style=\"font-size: 0.8em; font-weight: bold; line-height: 1; border-radius: 0.35em; text-transform: uppercase; vertical-align: middle; margin-left: 0.5rem\">GPE</span>\n",
       "</mark>\n",
       "</div></span>"
      ],
      "text/plain": [
       "<IPython.core.display.HTML object>"
      ]
     },
     "metadata": {},
     "output_type": "display_data"
    }
   ],
   "source": [
    "displacy.render(nlp(str(\"Ada Lovelace was born in London\")), style = 'ent')"
   ]
  },
  {
   "cell_type": "code",
   "execution_count": 43,
   "metadata": {},
   "outputs": [
    {
     "name": "stdout",
     "output_type": "stream",
     "text": [
      "[(Ada, 'PERSON'), (Lovelace, 'PERSON'), (PERSON, ''), (was, ''), (born, ''), (in, ''), (London, 'GPE'), (GPE, '')]\n"
     ]
    }
   ],
   "source": [
    "sentence = nlp(\"Ada Lovelace PERSON was born in London GPE\")\n",
    "print([(x, x.ent_type_) for x in sentence])"
   ]
  },
  {
   "cell_type": "code",
   "execution_count": 222,
   "metadata": {},
   "outputs": [],
   "source": [
    "BOS_posts_corpus = ''\n",
    "for i in range(len(BOS_posts_df)):\n",
    "    BOS_posts_corpus+=(BOS_posts_df.iloc[i,list(BOS_posts_df.columns).index('title_selftext')])\n",
    "    \n",
    "LA_posts_corpus = ''\n",
    "for i in range(len(LA_posts_df)):\n",
    "    LA_posts_corpus+=str(LA_posts_df.iloc[i,list(LA_posts_df.columns).index('title_selftext')])"
   ]
  },
  {
   "cell_type": "code",
   "execution_count": 350,
   "metadata": {},
   "outputs": [],
   "source": [
    "doc = nlp(BOS_comments_corpus + BOS_posts_corpus)\n",
    "bos_loc_gpe = []\n",
    "for ent in doc.ents:\n",
    "    if ent.label_ in ['LOC', 'GPE']:\n",
    "        bos_loc_gpe.append(ent.text)\n",
    "\n",
    "BOS_locations = list(set(bos_loc_gpe))\n",
    "BOS_locations.append('Harvard') # adding some which were not detected by Spacy NER"
   ]
  },
  {
   "cell_type": "code",
   "execution_count": 355,
   "metadata": {},
   "outputs": [],
   "source": [
    "poppers =  ['Airbnb', 'Aquarium', 'Atlanta', 'Austin', 'Australia', 'Automobiles',           \n",
    "            'Billy','Black', 'Brno', \n",
    "           'California', 'Canada','Carolinas','Central','Charlotte', 'Chicago','Chlamydia', 'Comcast','Czech Republic',\n",
    "           'DC','Davis','Dec 21.Found', 'Detroit', 'Downtown', 'Dubai',\n",
    "           'East', 'England',\n",
    "           'Florida','Hong Kong','Hotel','Houston','Hyde Park',\n",
    "           'Jan', 'Japan', 'Kansas', 'Kansas City', 'Karaoke',\n",
    "           'Meridian', 'Miami', 'Midwest','Minecraft!Just','Mississippi','Mueller','Mumbai',\n",
    "            'NH','NY','Naples','Nashville',\n",
    "           'States', 'Storrow', 'Suffolk County', 'Sweden','Syracuse', 'Syria', \n",
    "           'Tennessee','Texas',\"The Combat Zoneit's\",'Toronto',\n",
    "            'U.K.','US','USA','Venmo', 'Vermont', 'Washington', 'Washington DC']\n",
    "for popper in poppers:\n",
    "    BOS_locations.remove(popper) #removing some which are not BOS specific"
   ]
  },
  {
   "cell_type": "code",
   "execution_count": 356,
   "metadata": {},
   "outputs": [],
   "source": [
    "#BOS_locations.sort()\n",
    "#BOS_locations"
   ]
  },
  {
   "cell_type": "code",
   "execution_count": 224,
   "metadata": {},
   "outputs": [],
   "source": [
    "doc = nlp(LA_comments_corpus + LA_posts_corpus)\n",
    "la_loc_gpe = []\n",
    "for ent in doc.ents:\n",
    "    if ent.label_ in ['LOC', 'GPE']:\n",
    "        la_loc_gpe.append(ent.text)\n",
    "\n",
    "LA_locations = list(set(la_loc_gpe))\n",
    "LA_locations.append(\"Westside\")"
   ]
  },
  {
   "cell_type": "code",
   "execution_count": 367,
   "metadata": {},
   "outputs": [],
   "source": [
    "#LA_locations.sort()\n",
    "#LA_locations"
   ]
  },
  {
   "cell_type": "code",
   "execution_count": 359,
   "metadata": {},
   "outputs": [
    {
     "data": {
      "text/plain": [
       "['East',\n",
       " 'Japan',\n",
       " 'Midwest',\n",
       " 'Mueller',\n",
       " 'Texas',\n",
       " 'US',\n",
       " 'USA',\n",
       " 'Vermont',\n",
       " 'Washington',\n",
       " 'Washington DC']"
      ]
     },
     "execution_count": 359,
     "metadata": {},
     "output_type": "execute_result"
    }
   ],
   "source": [
    "[loc for loc in LA_locations if loc in poppers]"
   ]
  },
  {
   "cell_type": "code",
   "execution_count": 364,
   "metadata": {},
   "outputs": [],
   "source": [
    "#'East','Japan', 'Midwest', 'Mueller', 'Texas', 'US', 'USA', 'Vermont', 'Washington', 'Washington DC', \n",
    "la_poppers = [ 'the United States','Vancouver', 'Vegas', 'Bernie', 'America', 'Chicago', 'boston', 'Colorado', 'Tokyo','Tsunamis', 'U.S.','United State','United States Of America']\n",
    "for popper in la_poppers:\n",
    "    LA_locations.remove(popper) #removing some which are not LA specific"
   ]
  },
  {
   "cell_type": "code",
   "execution_count": 365,
   "metadata": {},
   "outputs": [],
   "source": [
    "for loc in LA_locations:\n",
    "    LA_comments_df['body_np'] = LA_comments_df['body_np'].apply(lambda x: x.replace(loc, \"PLACE\"))"
   ]
  },
  {
   "cell_type": "code",
   "execution_count": 366,
   "metadata": {},
   "outputs": [],
   "source": [
    "BOS_comments_df['body_np'] = BOS_comments_df['body']\n",
    "for loc in BOS_locations:\n",
    "    BOS_comments_df['body_np'] = BOS_comments_df['body_np'].apply(lambda x: x.replace(loc, \"PLACE\"))"
   ]
  },
  {
   "cell_type": "markdown",
   "metadata": {},
   "source": [
    "### WHAT ABOUT WITHOUT LOCATION NAMES?"
   ]
  },
  {
   "cell_type": "code",
   "execution_count": 159,
   "metadata": {},
   "outputs": [],
   "source": [
    "X = pd.concat([BOS_comments_df['body_np'], LA_comments_df['body_np']], axis = 0)"
   ]
  },
  {
   "cell_type": "code",
   "execution_count": 160,
   "metadata": {},
   "outputs": [
    {
     "data": {
      "text/plain": [
       "(2000,)"
      ]
     },
     "execution_count": 160,
     "metadata": {},
     "output_type": "execute_result"
    }
   ],
   "source": [
    "X.shape"
   ]
  },
  {
   "cell_type": "code",
   "execution_count": 161,
   "metadata": {},
   "outputs": [],
   "source": [
    "y = np.concatenate([np.zeros_like(BOS_comments_df['body_np']), np.ones_like(LA_comments_df['body_np'])]).astype(int)"
   ]
  },
  {
   "cell_type": "code",
   "execution_count": 162,
   "metadata": {},
   "outputs": [
    {
     "data": {
      "text/plain": [
       "numpy.ndarray"
      ]
     },
     "execution_count": 162,
     "metadata": {},
     "output_type": "execute_result"
    }
   ],
   "source": [
    "type(y)"
   ]
  },
  {
   "cell_type": "code",
   "execution_count": 163,
   "metadata": {},
   "outputs": [],
   "source": [
    "train_X, test_X, train_y, test_y = train_test_split(X,y)"
   ]
  },
  {
   "cell_type": "code",
   "execution_count": 164,
   "metadata": {},
   "outputs": [],
   "source": [
    "cvec = CountVectorizer(stop_words='english', lowercase = True, max_features=10_000)\n",
    "train_X_vec = cvec.fit_transform(train_X)\n",
    "test_X_vec = cvec.transform(test_X)"
   ]
  },
  {
   "cell_type": "code",
   "execution_count": 165,
   "metadata": {},
   "outputs": [
    {
     "data": {
      "text/plain": [
       "0.502"
      ]
     },
     "execution_count": 165,
     "metadata": {},
     "output_type": "execute_result"
    }
   ],
   "source": [
    "train_y.mean()"
   ]
  },
  {
   "cell_type": "code",
   "execution_count": 166,
   "metadata": {},
   "outputs": [
    {
     "data": {
      "text/plain": [
       "0.494"
      ]
     },
     "execution_count": 166,
     "metadata": {},
     "output_type": "execute_result"
    }
   ],
   "source": [
    "test_y.mean()"
   ]
  },
  {
   "cell_type": "code",
   "execution_count": 167,
   "metadata": {},
   "outputs": [],
   "source": [
    "mnb = MultinomialNB()"
   ]
  },
  {
   "cell_type": "code",
   "execution_count": 168,
   "metadata": {},
   "outputs": [
    {
     "data": {
      "text/plain": [
       "0.9206666666666666"
      ]
     },
     "execution_count": 168,
     "metadata": {},
     "output_type": "execute_result"
    }
   ],
   "source": [
    "mnb.fit(train_X_vec, train_y)\n",
    "mnb.score(train_X_vec, train_y)"
   ]
  },
  {
   "cell_type": "markdown",
   "metadata": {},
   "source": [
    "### NOW ON ACTUAL POSTS"
   ]
  },
  {
   "cell_type": "code",
   "execution_count": 368,
   "metadata": {},
   "outputs": [],
   "source": [
    "LA_posts_df['title_selftext_np'] = LA_posts_df['title_selftext']\n",
    "for loc in LA_locations:\n",
    "    LA_posts_df['title_selftext_np'] = LA_posts_df['title_selftext_np'].apply(lambda x: str(x).replace(loc, \"PLACE\"))"
   ]
  },
  {
   "cell_type": "code",
   "execution_count": 369,
   "metadata": {},
   "outputs": [],
   "source": [
    "BOS_posts_df['title_selftext_np'] = BOS_posts_df['title_selftext']\n",
    "for loc in BOS_locations:\n",
    "    BOS_posts_df['title_selftext_np'] = BOS_posts_df['title_selftext_np'].apply(lambda x: x.replace(loc, \"PLACE\"))"
   ]
  },
  {
   "cell_type": "code",
   "execution_count": 370,
   "metadata": {},
   "outputs": [],
   "source": [
    "X = pd.concat([BOS_posts_df['title_selftext_np'].dropna(), LA_posts_df['title_selftext_np'].dropna()], axis = 0)"
   ]
  },
  {
   "cell_type": "code",
   "execution_count": 371,
   "metadata": {},
   "outputs": [
    {
     "data": {
      "text/plain": [
       "(2000,)"
      ]
     },
     "execution_count": 371,
     "metadata": {},
     "output_type": "execute_result"
    }
   ],
   "source": [
    "X.shape"
   ]
  },
  {
   "cell_type": "code",
   "execution_count": 372,
   "metadata": {
    "jupyter": {
     "source_hidden": true
    }
   },
   "outputs": [
    {
     "data": {
      "text/plain": [
       "1000"
      ]
     },
     "execution_count": 372,
     "metadata": {},
     "output_type": "execute_result"
    }
   ],
   "source": [
    "np.ones_like(LA_posts_df['title_selftext_np'].dropna()).sum()"
   ]
  },
  {
   "cell_type": "code",
   "execution_count": 373,
   "metadata": {
    "jupyter": {
     "source_hidden": true
    }
   },
   "outputs": [],
   "source": [
    "X.dropna(inplace = True)"
   ]
  },
  {
   "cell_type": "code",
   "execution_count": 374,
   "metadata": {
    "jupyter": {
     "source_hidden": true
    }
   },
   "outputs": [],
   "source": [
    "y = np.concatenate([np.zeros_like(BOS_posts_df['title_selftext_np'].dropna()), np.ones_like(LA_posts_df['title_selftext_np'].dropna())]).astype(int)"
   ]
  },
  {
   "cell_type": "code",
   "execution_count": 247,
   "metadata": {},
   "outputs": [
    {
     "data": {
      "text/plain": [
       "(2000,)"
      ]
     },
     "execution_count": 247,
     "metadata": {},
     "output_type": "execute_result"
    }
   ],
   "source": [
    "y.shape"
   ]
  },
  {
   "cell_type": "code",
   "execution_count": 375,
   "metadata": {},
   "outputs": [],
   "source": [
    "train_X, test_X, train_y, test_y = train_test_split(X,y)"
   ]
  },
  {
   "cell_type": "code",
   "execution_count": 376,
   "metadata": {},
   "outputs": [],
   "source": [
    "cvec = CountVectorizer(stop_words='english', lowercase = True, ngram_range=(1,2))#max_features=10_000)\n",
    "train_X_vec = cvec.fit_transform(train_X)\n",
    "test_X_vec = cvec.transform(test_X)"
   ]
  },
  {
   "cell_type": "code",
   "execution_count": 377,
   "metadata": {},
   "outputs": [
    {
     "data": {
      "text/plain": [
       "0.5053333333333333"
      ]
     },
     "execution_count": 377,
     "metadata": {},
     "output_type": "execute_result"
    }
   ],
   "source": [
    "train_y.mean()"
   ]
  },
  {
   "cell_type": "code",
   "execution_count": 378,
   "metadata": {},
   "outputs": [
    {
     "data": {
      "text/plain": [
       "0.484"
      ]
     },
     "execution_count": 378,
     "metadata": {},
     "output_type": "execute_result"
    }
   ],
   "source": [
    "test_y.mean()"
   ]
  },
  {
   "cell_type": "code",
   "execution_count": 379,
   "metadata": {},
   "outputs": [],
   "source": [
    "mnb = MultinomialNB()"
   ]
  },
  {
   "cell_type": "code",
   "execution_count": 380,
   "metadata": {},
   "outputs": [
    {
     "data": {
      "text/plain": [
       "0.9853333333333333"
      ]
     },
     "execution_count": 380,
     "metadata": {},
     "output_type": "execute_result"
    }
   ],
   "source": [
    "mnb.fit(train_X_vec, train_y)\n",
    "mnb.score(train_X_vec, train_y)"
   ]
  },
  {
   "cell_type": "code",
   "execution_count": 381,
   "metadata": {},
   "outputs": [
    {
     "data": {
      "text/plain": [
       "0.81"
      ]
     },
     "execution_count": 381,
     "metadata": {},
     "output_type": "execute_result"
    }
   ],
   "source": [
    "mnb.score(test_X_vec, test_y)"
   ]
  },
  {
   "cell_type": "markdown",
   "metadata": {},
   "source": [
    "### NOW ON POSTS and COMMENTS"
   ]
  },
  {
   "cell_type": "code",
   "execution_count": 382,
   "metadata": {},
   "outputs": [],
   "source": [
    "X = pd.concat([BOS_posts_df['title_selftext_np'].dropna(), BOS_comments_df['body_np'].dropna(), LA_posts_df['title_selftext_np'].dropna(), LA_comments_df['body_np'].dropna()], axis = 0)"
   ]
  },
  {
   "cell_type": "code",
   "execution_count": 256,
   "metadata": {},
   "outputs": [
    {
     "data": {
      "text/plain": [
       "(4000,)"
      ]
     },
     "execution_count": 256,
     "metadata": {},
     "output_type": "execute_result"
    }
   ],
   "source": [
    "X.shape"
   ]
  },
  {
   "cell_type": "code",
   "execution_count": 245,
   "metadata": {},
   "outputs": [
    {
     "data": {
      "text/plain": [
       "1000"
      ]
     },
     "execution_count": 245,
     "metadata": {},
     "output_type": "execute_result"
    }
   ],
   "source": [
    "np.ones_like(LA_posts_df['title_selftext_np'].dropna()).sum()"
   ]
  },
  {
   "cell_type": "code",
   "execution_count": 383,
   "metadata": {},
   "outputs": [],
   "source": [
    "X.dropna(inplace = True)"
   ]
  },
  {
   "cell_type": "code",
   "execution_count": 384,
   "metadata": {},
   "outputs": [],
   "source": [
    "y = np.concatenate([np.zeros_like(BOS_posts_df['title_selftext_np'].dropna()),\n",
    "                    np.zeros_like(BOS_comments_df['body_np'].dropna()),\n",
    "                    np.ones_like(LA_posts_df['title_selftext_np'].dropna()),\n",
    "                    np.ones_like(LA_posts_df['title_selftext_np'].dropna())]).astype(int)"
   ]
  },
  {
   "cell_type": "code",
   "execution_count": 385,
   "metadata": {},
   "outputs": [
    {
     "data": {
      "text/plain": [
       "(4000,)"
      ]
     },
     "execution_count": 385,
     "metadata": {},
     "output_type": "execute_result"
    }
   ],
   "source": [
    "y.shape"
   ]
  },
  {
   "cell_type": "code",
   "execution_count": 386,
   "metadata": {},
   "outputs": [],
   "source": [
    "train_X, test_X, train_y, test_y = train_test_split(X,y)"
   ]
  },
  {
   "cell_type": "code",
   "execution_count": 387,
   "metadata": {},
   "outputs": [],
   "source": [
    "cvec = CountVectorizer(stop_words='english', lowercase = True, ngram_range=(1,2))#max_features=10_000)\n",
    "train_X_vec = cvec.fit_transform(train_X)\n",
    "test_X_vec = cvec.transform(test_X)"
   ]
  },
  {
   "cell_type": "code",
   "execution_count": 388,
   "metadata": {},
   "outputs": [
    {
     "data": {
      "text/plain": [
       "0.49533333333333335"
      ]
     },
     "execution_count": 388,
     "metadata": {},
     "output_type": "execute_result"
    }
   ],
   "source": [
    "train_y.mean()"
   ]
  },
  {
   "cell_type": "code",
   "execution_count": 389,
   "metadata": {},
   "outputs": [
    {
     "data": {
      "text/plain": [
       "0.514"
      ]
     },
     "execution_count": 389,
     "metadata": {},
     "output_type": "execute_result"
    }
   ],
   "source": [
    "test_y.mean()"
   ]
  },
  {
   "cell_type": "code",
   "execution_count": 333,
   "metadata": {},
   "outputs": [],
   "source": [
    "mnb = MultinomialNB()"
   ]
  },
  {
   "cell_type": "code",
   "execution_count": 390,
   "metadata": {},
   "outputs": [
    {
     "data": {
      "text/plain": [
       "0.964"
      ]
     },
     "execution_count": 390,
     "metadata": {},
     "output_type": "execute_result"
    }
   ],
   "source": [
    "mnb.fit(train_X_vec, train_y)\n",
    "mnb.score(train_X_vec, train_y)"
   ]
  },
  {
   "cell_type": "code",
   "execution_count": 391,
   "metadata": {},
   "outputs": [
    {
     "data": {
      "text/plain": [
       "0.748"
      ]
     },
     "execution_count": 391,
     "metadata": {},
     "output_type": "execute_result"
    }
   ],
   "source": [
    "mnb.score(test_X_vec, test_y)"
   ]
  },
  {
   "cell_type": "code",
   "execution_count": 419,
   "metadata": {},
   "outputs": [
    {
     "name": "stderr",
     "output_type": "stream",
     "text": [
      "Some layers from the model checkpoint at distilbert-base-uncased-finetuned-sst-2-english were not used when initializing TFDistilBertModel: ['pre_classifier', 'classifier', 'dropout_19']\n",
      "- This IS expected if you are initializing TFDistilBertModel from the checkpoint of a model trained on another task or with another architecture (e.g. initializing a BertForSequenceClassification model from a BertForPreTraining model).\n",
      "- This IS NOT expected if you are initializing TFDistilBertModel from the checkpoint of a model that you expect to be exactly identical (initializing a BertForSequenceClassification model from a BertForSequenceClassification model).\n",
      "All the layers of TFDistilBertModel were initialized from the model checkpoint at distilbert-base-uncased-finetuned-sst-2-english.\n",
      "If your task is similar to the task the model of the checkpoint was trained on, you can already use TFDistilBertModel for predictions without further training.\n",
      "Some layers from the model checkpoint at distilbert-base-uncased-finetuned-sst-2-english were not used when initializing TFDistilBertForSequenceClassification: ['dropout_19']\n",
      "- This IS expected if you are initializing TFDistilBertForSequenceClassification from the checkpoint of a model trained on another task or with another architecture (e.g. initializing a BertForSequenceClassification model from a BertForPreTraining model).\n",
      "- This IS NOT expected if you are initializing TFDistilBertForSequenceClassification from the checkpoint of a model that you expect to be exactly identical (initializing a BertForSequenceClassification model from a BertForSequenceClassification model).\n",
      "Some layers of TFDistilBertForSequenceClassification were not initialized from the model checkpoint at distilbert-base-uncased-finetuned-sst-2-english and are newly initialized: ['dropout_190']\n",
      "You should probably TRAIN this model on a down-stream task to be able to use it for predictions and inference.\n"
     ]
    },
    {
     "ename": "TypeError",
     "evalue": "'module' object is not callable",
     "output_type": "error",
     "traceback": [
      "\u001b[0;31m---------------------------------------------------------------------------\u001b[0m",
      "\u001b[0;31mTypeError\u001b[0m                                 Traceback (most recent call last)",
      "\u001b[0;32m<ipython-input-419-389ca6627711>\u001b[0m in \u001b[0;36m<module>\u001b[0;34m\u001b[0m\n\u001b[1;32m      7\u001b[0m \u001b[0msenti\u001b[0m\u001b[0;34m(\u001b[0m\u001b[0;34m'I have the worst boyfriend on the planet'\u001b[0m\u001b[0;34m)\u001b[0m\u001b[0;34m\u001b[0m\u001b[0;34m\u001b[0m\u001b[0m\n\u001b[1;32m      8\u001b[0m \u001b[0;34m\u001b[0m\u001b[0m\n\u001b[0;32m----> 9\u001b[0;31m \u001b[0msentiment_analyzer\u001b[0m\u001b[0;34m(\u001b[0m\u001b[0;34m'Love'\u001b[0m\u001b[0;34m)\u001b[0m\u001b[0;34m\u001b[0m\u001b[0;34m\u001b[0m\u001b[0m\n\u001b[0m",
      "\u001b[0;31mTypeError\u001b[0m: 'module' object is not callable"
     ]
    }
   ],
   "source": [
    "import gensim\n",
    "import gensim.downloader as api\n",
    "from gensim.models.word2vec import Word2Vec\n",
    "from transformers import pipeline\n",
    "\n",
    "senti = pipeline('sentiment-analysis')\n",
    "senti('I have the worst boyfriend on the planet')"
   ]
  },
  {
   "cell_type": "code",
   "execution_count": 392,
   "metadata": {},
   "outputs": [
    {
     "data": {
      "text/plain": [
       "{'neg': 0.075, 'neu': 0.798, 'pos': 0.127, 'compound': 1.0}"
      ]
     },
     "execution_count": 392,
     "metadata": {},
     "output_type": "execute_result"
    }
   ],
   "source": [
    "sia.polarity_scores(BOS_posts_corpus+BOS_comments_corpus)"
   ]
  },
  {
   "cell_type": "code",
   "execution_count": 393,
   "metadata": {},
   "outputs": [
    {
     "data": {
      "text/plain": [
       "{'neg': 0.06, 'neu': 0.841, 'pos': 0.1, 'compound': 1.0}"
      ]
     },
     "execution_count": 393,
     "metadata": {},
     "output_type": "execute_result"
    }
   ],
   "source": [
    "sia.polarity_scores(LA_posts_corpus+LA_comments_corpus)"
   ]
  },
  {
   "cell_type": "code",
   "execution_count": 336,
   "metadata": {},
   "outputs": [],
   "source": [
    "BOS_posts_df['sia_neg'] = BOS_posts_df['title_selftext_np'].apply(lambda x: sia.polarity_scores(x)['neg'])\n",
    "BOS_posts_df['sia_pos'] = BOS_posts_df['title_selftext_np'].apply(lambda x: sia.polarity_scores(x)['pos'])\n",
    "LA_posts_df['sia_neg'] = LA_posts_df['title_selftext_np'].apply(lambda x: sia.polarity_scores(x)['neg'])\n",
    "LA_posts_df['sia_pos'] = LA_posts_df['title_selftext_np'].apply(lambda x: sia.polarity_scores(x)['pos'])\n",
    "\n",
    "BOS_comments_df['sia_neg'] = BOS_comments_df['body_np'].apply(lambda x: sia.polarity_scores(x)['neg'])\n",
    "BOS_comments_df['sia_pos'] = BOS_comments_df['body_np'].apply(lambda x: sia.polarity_scores(x)['pos'])\n",
    "LA_comments_df['sia_neg'] = LA_comments_df['body_np'].apply(lambda x: sia.polarity_scores(x)['neg'])\n",
    "LA_comments_df['sia_pos'] = LA_comments_df['body_np'].apply(lambda x: sia.polarity_scores(x)['pos'])"
   ]
  },
  {
   "cell_type": "code",
   "execution_count": 416,
   "metadata": {},
   "outputs": [
    {
     "data": {
      "text/plain": [
       "'PPLACECE is so beautiful at night. Love this pathway along the water near the PLACE End.'"
      ]
     },
     "execution_count": 416,
     "metadata": {},
     "output_type": "execute_result"
    }
   ],
   "source": [
    "senti(BOS_posts_df['title_selftext_np'].iloc[190])"
   ]
  },
  {
   "cell_type": "code",
   "execution_count": null,
   "metadata": {},
   "outputs": [],
   "source": [
    "BOS_posts_df['senti_pn'] = BOS_posts_df['title_selftext_np'].apply(lambda x: senti(x)[0]['label'] if len(x) < 512 else 'n/a')\n",
    "BOS_posts_df['senti_score'] = BOS_posts_df['title_selftext_np'].apply(lambda x: senti(x)[0]['score'] if len(x) < 512 else 'n/a')\n",
    "\n",
    "LA_posts_df['senti_pn'] = LA_posts_df['title_selftext_np'].apply(lambda x: senti(x)[0]['label'] if len(x) < 512 else 'n/a')\n",
    "LA_posts_df['senti_score'] = LA_posts_df['title_selftext_np'].apply(lambda x: senti(x)[0]['score'] if len(x) < 512 else 'n/a')\n",
    "\n",
    "BOS_comments_df['senti_pn'] = BOS_comments_df['body_np'].apply(lambda x: senti(x)[0]['label'] if len(x) < 512 else 'n/a')\n",
    "BOS_comments_df['senti_score'] = BOS_comments_df['body_np'].apply(lambda x: senti(x)[0]['score'] if len(x) < 512 else 'n/a')\n",
    "\n",
    "LA_comments_df['senti_pn'] = LA_comments_df['body_np'].apply(lambda x: senti(x)[0]['label'] if len(x) < 512 else 'n/a')\n",
    "LA_comments_df['senti_score'] = LA_comments_df['body_np'].apply(lambda x: senti(x)[0]['score'] if len(x) < 512 else 'n/a')"
   ]
  },
  {
   "cell_type": "code",
   "execution_count": null,
   "metadata": {},
   "outputs": [],
   "source": [
    "BOS_posts_df[['title_selftext', 'senti_pn, senti_score']]"
   ]
  },
  {
   "cell_type": "code",
   "execution_count": 296,
   "metadata": {},
   "outputs": [
    {
     "data": {
      "image/png": "[encoded data removed]",
      "text/plain": [
       "<Figure size 1080x864 with 4 Axes>"
      ]
     },
     "metadata": {
      "needs_background": "light"
     },
     "output_type": "display_data"
    }
   ],
   "source": [
    "plt.figure(figsize = (15,12))\n",
    "plt.subplot(2,2,1)\n",
    "plt.title('strength of negative sentiment in posts')\n",
    "plt.hist(BOS_posts_df['sia_neg'], histtype = 'step', label = 'Boston')\n",
    "plt.hist(LA_posts_df['sia_neg'], histtype = 'step', label = 'LA')\n",
    "plt.axvline(sia.polarity_scores(BOS_posts_corpus)['neg'], ls = '--', lw = 1, color = 'blue')\n",
    "plt.axvline(sia.polarity_scores(LA_posts_corpus)['neg'], ls = '--', lw = 1, color = 'orange')\n",
    "plt.legend();\n",
    "plt.subplot(2,2,2)\n",
    "plt.title('strength of positive sentiment in posts')\n",
    "plt.hist(BOS_posts_df['sia_pos'], histtype = 'step', label = 'Boston')\n",
    "plt.hist(LA_posts_df['sia_pos'], histtype = 'step',label = 'LA')\n",
    "plt.axvline(sia.polarity_scores(BOS_posts_corpus)['pos'], ls = '--', lw = 1,  color = 'blue')\n",
    "plt.axvline(sia.polarity_scores(LA_posts_corpus)['pos'], ls = '--',lw = 1, color = 'orange')\n",
    "plt.legend();\n",
    "plt.subplot(2,2,3)\n",
    "plt.title('strength of negative sentiment in comments')\n",
    "plt.hist(BOS_comments_df['sia_neg'], histtype = 'step', label = 'Boston')\n",
    "plt.hist(LA_comments_df['sia_neg'], histtype = 'step', label = 'LA')\n",
    "plt.axvline(sia.polarity_scores(BOS_comments_corpus)['neg'], ls = '--', lw = 1, color = 'blue')\n",
    "plt.axvline(sia.polarity_scores(LA_comments_corpus)['neg'], ls = '--', lw = 1, color = 'orange')\n",
    "plt.legend();\n",
    "plt.subplot(2,2,4)\n",
    "plt.title('strength of positive sentiment in comments')\n",
    "plt.hist(BOS_comments_df['sia_pos'], histtype = 'step', label = 'Boston')\n",
    "plt.hist(LA_comments_df['sia_pos'], histtype = 'step',label = 'LA')\n",
    "plt.axvline(sia.polarity_scores(BOS_comments_corpus)['pos'], ls = '--', lw = 1,  color = 'blue')\n",
    "plt.axvline(sia.polarity_scores(LA_comments_corpus)['pos'], ls = '--',lw = 1, color = 'orange')\n",
    "plt.legend();"
   ]
  },
  {
   "cell_type": "code",
   "execution_count": 395,
   "metadata": {},
   "outputs": [
    {
     "data": {
      "image/png": "[encoded data removed]",
      "text/plain": [
       "<Figure size 432x288 with 2 Axes>"
      ]
     },
     "metadata": {
      "needs_background": "light"
     },
     "output_type": "display_data"
    }
   ],
   "source": [
    "plot_confusion_matrix(mnb, test_X_vec, test_y);"
   ]
  },
  {
   "cell_type": "code",
   "execution_count": 397,
   "metadata": {},
   "outputs": [
    {
     "data": {
      "text/plain": [
       "12                              Pru prepared for 2020 😍\n",
       "28    PLACEerner moving to PPLACECE - Driving advice...\n",
       "37    Anyone using an app that tracks MBTA busses in...\n",
       "38    Trombone guy at PLACE CenterThere's a guy play...\n",
       "40    Potential PPLACECE Job Offer - Move from PPLAC...\n",
       "                            ...                        \n",
       "52          How long does it take to brush your car off\n",
       "55    I moves here from England just under two years...\n",
       "59    Ban on sale of vaping products ends today (Dec...\n",
       "60    PPLACECE Embraces ‘People-First’ Design For PL...\n",
       "79    Any experience with PLACEhealth plans?I was ju...\n",
       "Length: 82, dtype: object"
      ]
     },
     "execution_count": 397,
     "metadata": {},
     "output_type": "execute_result"
    }
   ],
   "source": [
    "X.iloc[[i for i in range(len(mnb.predict(test_X_vec))) if mnb.predict(test_X_vec[i]) == 1 and test_y[i] ==0]]"
   ]
  },
  {
   "cell_type": "code",
   "execution_count": 394,
   "metadata": {},
   "outputs": [],
   "source": [
    "BOS_comments_df.to_csv('bos_com.csv')\n",
    "BOS_posts_df.to_csv('bos_pos.csv')\n",
    "LA_comments_df.to_csv('la_com.csv')\n",
    "LA_posts_df.to_csv('la_pos.csv')"
   ]
  },
  {
   "cell_type": "code",
   "execution_count": null,
   "metadata": {},
   "outputs": [],
   "source": []
  }
 ],
 "metadata": {
  "kernelspec": {
   "display_name": "Python 3",
   "language": "python",
   "name": "python3"
  },
  "language_info": {
   "codemirror_mode": {
    "name": "ipython",
    "version": 3
   },
   "file_extension": ".py",
   "mimetype": "text/x-python",
   "name": "python",
   "nbconvert_exporter": "python",
   "pygments_lexer": "ipython3",
   "version": "3.8.3"
  }
 },
 "nbformat": 4,
 "nbformat_minor": 4
}
