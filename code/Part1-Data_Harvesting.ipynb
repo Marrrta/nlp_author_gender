{
 "cells": [
  {
   "cell_type": "markdown",
   "metadata": {},
   "source": [
    "# PART 1: Data Harvesting"
   ]
  },
  {
   "cell_type": "code",
   "execution_count": 1,
   "metadata": {},
   "outputs": [],
   "source": [
    "import requests\n",
    "import time\n",
    "import pandas as pd\n",
    "import numpy as np"
   ]
  },
  {
   "cell_type": "code",
   "execution_count": 2,
   "metadata": {},
   "outputs": [],
   "source": [
    "url_submissions = 'https://api.pushshift.io/reddit/search/submission'\n",
    "url_comments = 'https://api.pushshift.io/reddit/search/comment'"
   ]
  },
  {
   "cell_type": "markdown",
   "metadata": {},
   "source": [
    "### Getting data from Ask Men Subreddit ###"
   ]
  },
  {
   "cell_type": "code",
   "execution_count": 3,
   "metadata": {},
   "outputs": [],
   "source": [
    "AM_posts_cols = ['all_awardings', 'allow_live_comments', 'author',\n",
    "       'author_flair_css_class', 'author_flair_richtext', 'author_flair_text',\n",
    "       'author_flair_type', 'author_fullname', 'author_patreon_flair',\n",
    "       'author_premium', 'awarders', 'can_mod_post', 'contest_mode',\n",
    "       'created_utc', 'domain', 'full_link', 'gildings', 'id',\n",
    "       'is_crosspostable', 'is_meta', 'is_original_content',\n",
    "       'is_reddit_media_domain', 'is_robot_indexable', 'is_self', 'is_video',\n",
    "       'link_flair_background_color', 'link_flair_richtext',\n",
    "       'link_flair_text_color', 'link_flair_type', 'locked', 'media_only',\n",
    "       'no_follow', 'num_comments', 'num_crossposts', 'over_18',\n",
    "       'parent_whitelist_status', 'permalink', 'pinned', 'pwls',\n",
    "       'removed_by_category', 'retrieved_on', 'score', 'selftext',\n",
    "       'send_replies', 'spoiler', 'stickied', 'subreddit', 'subreddit_id',\n",
    "       'subreddit_subscribers', 'subreddit_type', 'thumbnail', 'title',\n",
    "       'total_awards_received', 'treatment_tags', 'upvote_ratio', 'url',\n",
    "       'whitelist_status', 'wls', 'post_hint', 'preview',\n",
    "       'author_flair_background_color', 'author_flair_text_color',\n",
    "       'banned_by']"
   ]
  },
  {
   "cell_type": "code",
   "execution_count": 4,
   "metadata": {},
   "outputs": [
    {
     "name": "stdout",
     "output_type": "stream",
     "text": [
      "502\n"
     ]
    }
   ],
   "source": [
    "AM_posts_df = pd.DataFrame()#columns = AM_posts_cols)\n",
    "before_params = [1609187173] # first timestamp is equivalent to now \n",
    "for i in range(1, 31):\n",
    "    resp = requests.get(url_submissions, params = {'subreddit': 'AskMen','size': 100,'before': before_params[-1]})\n",
    "    try: \n",
    "        batch = pd.DataFrame(resp.json()['data'])\n",
    "        AM_posts_df = pd.concat([AM_posts_df, batch], axis = 0 )\n",
    "        before_params.append(batch['created_utc'].min())\n",
    "        time.sleep(2)\n",
    "    except:\n",
    "        print(resp.status_code)"
   ]
  },
  {
   "cell_type": "code",
   "execution_count": 5,
   "metadata": {},
   "outputs": [
    {
     "data": {
      "text/plain": [
       "(2900, 65)"
      ]
     },
     "execution_count": 5,
     "metadata": {},
     "output_type": "execute_result"
    }
   ],
   "source": [
    "AM_posts_df.shape"
   ]
  },
  {
   "cell_type": "code",
   "execution_count": 6,
   "metadata": {},
   "outputs": [
    {
     "data": {
      "text/html": [
       "<div>\n",
       "<style scoped>\n",
       "    .dataframe tbody tr th:only-of-type {\n",
       "        vertical-align: middle;\n",
       "    }\n",
       "\n",
       "    .dataframe tbody tr th {\n",
       "        vertical-align: top;\n",
       "    }\n",
       "\n",
       "    .dataframe thead th {\n",
       "        text-align: right;\n",
       "    }\n",
       "</style>\n",
       "<table border=\"1\" class=\"dataframe\">\n",
       "  <thead>\n",
       "    <tr style=\"text-align: right;\">\n",
       "      <th></th>\n",
       "      <th>title_selftext</th>\n",
       "      <th>title</th>\n",
       "      <th>selftext</th>\n",
       "    </tr>\n",
       "  </thead>\n",
       "  <tbody>\n",
       "    <tr>\n",
       "      <th>0</th>\n",
       "      <td>Would you live in an area with high police pre...</td>\n",
       "      <td>Would you live in an area with high police pre...</td>\n",
       "      <td>[removed]</td>\n",
       "    </tr>\n",
       "    <tr>\n",
       "      <th>1</th>\n",
       "      <td>What are some slang terms a 34-year old dad co...</td>\n",
       "      <td>What are some slang terms a 34-year old dad co...</td>\n",
       "      <td>[removed]</td>\n",
       "    </tr>\n",
       "    <tr>\n",
       "      <th>2</th>\n",
       "      <td>Ask permission?[removed]</td>\n",
       "      <td>Ask permission?</td>\n",
       "      <td>[removed]</td>\n",
       "    </tr>\n",
       "    <tr>\n",
       "      <th>3</th>\n",
       "      <td>How long is “normal” sex?Well, I know there is...</td>\n",
       "      <td>How long is “normal” sex?</td>\n",
       "      <td>Well, I know there is no such thing as normal ...</td>\n",
       "    </tr>\n",
       "    <tr>\n",
       "      <th>4</th>\n",
       "      <td>My mom have anger management problem[removed]</td>\n",
       "      <td>My mom have anger management problem</td>\n",
       "      <td>[removed]</td>\n",
       "    </tr>\n",
       "  </tbody>\n",
       "</table>\n",
       "</div>"
      ],
      "text/plain": [
       "                                      title_selftext  \\\n",
       "0  Would you live in an area with high police pre...   \n",
       "1  What are some slang terms a 34-year old dad co...   \n",
       "2                           Ask permission?[removed]   \n",
       "3  How long is “normal” sex?Well, I know there is...   \n",
       "4      My mom have anger management problem[removed]   \n",
       "\n",
       "                                               title  \\\n",
       "0  Would you live in an area with high police pre...   \n",
       "1  What are some slang terms a 34-year old dad co...   \n",
       "2                                    Ask permission?   \n",
       "3                          How long is “normal” sex?   \n",
       "4               My mom have anger management problem   \n",
       "\n",
       "                                            selftext  \n",
       "0                                          [removed]  \n",
       "1                                          [removed]  \n",
       "2                                          [removed]  \n",
       "3  Well, I know there is no such thing as normal ...  \n",
       "4                                          [removed]  "
      ]
     },
     "execution_count": 6,
     "metadata": {},
     "output_type": "execute_result"
    }
   ],
   "source": [
    "AM_posts_df['title_selftext'] = AM_posts_df['title']+AM_posts_df['selftext']\n",
    "AM_posts_df[['title_selftext', 'title', 'selftext']].head()"
   ]
  },
  {
   "cell_type": "code",
   "execution_count": 7,
   "metadata": {},
   "outputs": [],
   "source": [
    "AM_comments_cols = ['all_awardings', 'associated_award', 'author',\n",
    "       'author_flair_background_color', 'author_flair_css_class',\n",
    "       'author_flair_richtext', 'author_flair_template_id',\n",
    "       'author_flair_text', 'author_flair_text_color', 'author_flair_type',\n",
    "       'author_fullname', 'author_patreon_flair', 'author_premium', 'awarders',\n",
    "       'body', 'collapsed_because_crowd_control', 'comment_type',\n",
    "       'created_utc', 'gildings', 'id', 'is_submitter', 'link_id', 'locked',\n",
    "       'no_follow', 'parent_id', 'permalink', 'retrieved_on', 'score',\n",
    "       'send_replies', 'stickied', 'subreddit', 'subreddit_id',\n",
    "       'top_awarded_type', 'total_awards_received', 'treatment_tags',\n",
    "       'distinguished']"
   ]
  },
  {
   "cell_type": "code",
   "execution_count": 8,
   "metadata": {},
   "outputs": [],
   "source": [
    "AM_comments_df = pd.DataFrame(columns = AM_comments_cols)\n",
    "before_params = [1609187173] # first timestamp is equivalent to now \n",
    "for i in range(1, 31):\n",
    "    resp = requests.get(url_comments, params = {'subreddit': 'AskMen','size': 100,'before': before_params[-1]})\n",
    "    try: \n",
    "        batch = pd.DataFrame(resp.json()['data'])\n",
    "        AM_comments_df = pd.concat([AM_comments_df, batch], axis = 0 )\n",
    "        before_params.append(batch['created_utc'].min())\n",
    "        time.sleep(2)\n",
    "    except:\n",
    "        print(resp.status_code)"
   ]
  },
  {
   "cell_type": "code",
   "execution_count": 9,
   "metadata": {},
   "outputs": [
    {
     "data": {
      "text/plain": [
       "(3000, 37)"
      ]
     },
     "execution_count": 9,
     "metadata": {},
     "output_type": "execute_result"
    }
   ],
   "source": [
    "AM_comments_df.shape"
   ]
  },
  {
   "cell_type": "markdown",
   "metadata": {},
   "source": [
    "### Getting data from AskWomen Subreddit ###"
   ]
  },
  {
   "cell_type": "code",
   "execution_count": 10,
   "metadata": {},
   "outputs": [
    {
     "data": {
      "text/plain": [
       "Index(['all_awardings', 'allow_live_comments', 'author',\n",
       "       'author_flair_css_class', 'author_flair_richtext', 'author_flair_text',\n",
       "       'author_flair_type', 'author_fullname', 'author_patreon_flair',\n",
       "       'author_premium', 'awarders', 'can_mod_post', 'contest_mode',\n",
       "       'created_utc', 'domain', 'full_link', 'gildings', 'id',\n",
       "       'is_crosspostable', 'is_meta', 'is_original_content',\n",
       "       'is_reddit_media_domain', 'is_robot_indexable', 'is_self', 'is_video',\n",
       "       'link_flair_background_color', 'link_flair_richtext',\n",
       "       'link_flair_text_color', 'link_flair_type', 'locked', 'media_only',\n",
       "       'no_follow', 'num_comments', 'num_crossposts', 'over_18',\n",
       "       'parent_whitelist_status', 'permalink', 'pinned', 'pwls',\n",
       "       'retrieved_on', 'score', 'selftext', 'send_replies', 'spoiler',\n",
       "       'stickied', 'subreddit', 'subreddit_id', 'subreddit_subscribers',\n",
       "       'subreddit_type', 'suggested_sort', 'thumbnail', 'title',\n",
       "       'total_awards_received', 'treatment_tags', 'upvote_ratio', 'url',\n",
       "       'whitelist_status', 'wls', 'removed_by_category', 'post_hint',\n",
       "       'preview', 'author_flair_template_id', 'author_flair_text_color'],\n",
       "      dtype='object')"
      ]
     },
     "execution_count": 10,
     "metadata": {},
     "output_type": "execute_result"
    }
   ],
   "source": [
    "resp = requests.get(url_submissions, params = {'subreddit': 'AskWomen','size': 100,'before': before_params[-1]})\n",
    "pd.DataFrame(resp.json()['data']).columns"
   ]
  },
  {
   "cell_type": "code",
   "execution_count": 11,
   "metadata": {},
   "outputs": [],
   "source": [
    "AW_posts_cols = ['all_awardings', 'allow_live_comments', 'author',\n",
    "       'author_flair_css_class', 'author_flair_richtext', 'author_flair_text',\n",
    "       'author_flair_type', 'author_fullname', 'author_patreon_flair',\n",
    "       'author_premium', 'awarders', 'can_mod_post', 'contest_mode',\n",
    "       'created_utc', 'domain', 'full_link', 'gildings', 'id',\n",
    "       'is_crosspostable', 'is_meta', 'is_original_content',\n",
    "       'is_reddit_media_domain', 'is_robot_indexable', 'is_self', 'is_video',\n",
    "       'link_flair_background_color', 'link_flair_richtext',\n",
    "       'link_flair_text_color', 'link_flair_type', 'locked', 'media_only',\n",
    "       'no_follow', 'num_comments', 'num_crossposts', 'over_18',\n",
    "       'parent_whitelist_status', 'permalink', 'pinned', 'post_hint',\n",
    "       'preview', 'pwls', 'removed_by_category', 'retrieved_on', 'score',\n",
    "       'selftext', 'send_replies', 'spoiler', 'stickied', 'subreddit',\n",
    "       'subreddit_id', 'subreddit_subscribers', 'subreddit_type',\n",
    "       'suggested_sort', 'thumbnail', 'title', 'total_awards_received',\n",
    "       'treatment_tags', 'upvote_ratio', 'url', 'whitelist_status', 'wls',\n",
    "       'author_flair_template_id', 'author_flair_text_color']"
   ]
  },
  {
   "cell_type": "code",
   "execution_count": 12,
   "metadata": {},
   "outputs": [],
   "source": [
    "AW_posts_df = pd.DataFrame(columns = AW_posts_cols)\n",
    "before_params = [1609187173] # first timestamp is equivalent to now \n",
    "for i in range(1, 31):\n",
    "    resp = requests.get(url_submissions, params = {'subreddit': 'AskWomen','size': 100,'before': before_params[-1]})\n",
    "    try: \n",
    "        batch = pd.DataFrame(resp.json()['data'])\n",
    "        AW_posts_df = pd.concat([AW_posts_df, batch], axis = 0 )\n",
    "        before_params.append(batch['created_utc'].min())\n",
    "        time.sleep(2)\n",
    "    except:\n",
    "        print(resp.status_code)"
   ]
  },
  {
   "cell_type": "code",
   "execution_count": 13,
   "metadata": {},
   "outputs": [
    {
     "data": {
      "text/plain": [
       "(3000, 71)"
      ]
     },
     "execution_count": 13,
     "metadata": {},
     "output_type": "execute_result"
    }
   ],
   "source": [
    "AW_posts_df.shape"
   ]
  },
  {
   "cell_type": "code",
   "execution_count": 14,
   "metadata": {},
   "outputs": [
    {
     "data": {
      "text/html": [
       "<div>\n",
       "<style scoped>\n",
       "    .dataframe tbody tr th:only-of-type {\n",
       "        vertical-align: middle;\n",
       "    }\n",
       "\n",
       "    .dataframe tbody tr th {\n",
       "        vertical-align: top;\n",
       "    }\n",
       "\n",
       "    .dataframe thead th {\n",
       "        text-align: right;\n",
       "    }\n",
       "</style>\n",
       "<table border=\"1\" class=\"dataframe\">\n",
       "  <thead>\n",
       "    <tr style=\"text-align: right;\">\n",
       "      <th></th>\n",
       "      <th>title_selftext</th>\n",
       "      <th>title</th>\n",
       "      <th>selftext</th>\n",
       "    </tr>\n",
       "  </thead>\n",
       "  <tbody>\n",
       "    <tr>\n",
       "      <th>0</th>\n",
       "      <td>What to do when I said something I shouldn't[r...</td>\n",
       "      <td>What to do when I said something I shouldn't</td>\n",
       "      <td>[removed]</td>\n",
       "    </tr>\n",
       "    <tr>\n",
       "      <th>1</th>\n",
       "      <td>What's a creepy encounter you've had a with a ...</td>\n",
       "      <td>What's a creepy encounter you've had a with a ...</td>\n",
       "      <td>[removed]</td>\n",
       "    </tr>\n",
       "    <tr>\n",
       "      <th>2</th>\n",
       "      <td>Would a girl get bothered if she sees the guy ...</td>\n",
       "      <td>Would a girl get bothered if she sees the guy ...</td>\n",
       "      <td>[removed]</td>\n",
       "    </tr>\n",
       "    <tr>\n",
       "      <th>3</th>\n",
       "      <td>What are my chances of being pregnant?[removed]</td>\n",
       "      <td>What are my chances of being pregnant?</td>\n",
       "      <td>[removed]</td>\n",
       "    </tr>\n",
       "    <tr>\n",
       "      <th>4</th>\n",
       "      <td>what does discharging of breast milk mean for ...</td>\n",
       "      <td>what does discharging of breast milk mean for ...</td>\n",
       "      <td>[removed]</td>\n",
       "    </tr>\n",
       "  </tbody>\n",
       "</table>\n",
       "</div>"
      ],
      "text/plain": [
       "                                      title_selftext  \\\n",
       "0  What to do when I said something I shouldn't[r...   \n",
       "1  What's a creepy encounter you've had a with a ...   \n",
       "2  Would a girl get bothered if she sees the guy ...   \n",
       "3    What are my chances of being pregnant?[removed]   \n",
       "4  what does discharging of breast milk mean for ...   \n",
       "\n",
       "                                               title   selftext  \n",
       "0       What to do when I said something I shouldn't  [removed]  \n",
       "1  What's a creepy encounter you've had a with a ...  [removed]  \n",
       "2  Would a girl get bothered if she sees the guy ...  [removed]  \n",
       "3             What are my chances of being pregnant?  [removed]  \n",
       "4  what does discharging of breast milk mean for ...  [removed]  "
      ]
     },
     "execution_count": 14,
     "metadata": {},
     "output_type": "execute_result"
    }
   ],
   "source": [
    "AW_posts_df['title_selftext'] = AW_posts_df['title']+AW_posts_df['selftext']\n",
    "AW_posts_df[['title_selftext', 'title', 'selftext']].head()"
   ]
  },
  {
   "cell_type": "code",
   "execution_count": 15,
   "metadata": {},
   "outputs": [],
   "source": [
    "AW_comments_cols = ['all_awardings', 'associated_award', 'author',\n",
    "       'author_flair_background_color', 'author_flair_css_class',\n",
    "       'author_flair_richtext', 'author_flair_template_id',\n",
    "       'author_flair_text', 'author_flair_text_color', 'author_flair_type',\n",
    "       'author_fullname', 'author_patreon_flair', 'author_premium', 'awarders',\n",
    "       'body', 'collapsed_because_crowd_control', 'comment_type',\n",
    "       'created_utc', 'distinguished', 'gildings', 'id', 'is_submitter',\n",
    "       'link_id', 'locked', 'no_follow', 'parent_id', 'permalink',\n",
    "       'retrieved_on', 'score', 'send_replies', 'stickied', 'subreddit',\n",
    "       'subreddit_id', 'top_awarded_type', 'total_awards_received',\n",
    "       'treatment_tags']"
   ]
  },
  {
   "cell_type": "code",
   "execution_count": 16,
   "metadata": {},
   "outputs": [],
   "source": [
    "AW_comments_df = pd.DataFrame(columns = AW_comments_cols)\n",
    "before_params = [1609187173] # first timestamp is equivalent to now \n",
    "for i in range(1, 31):\n",
    "    resp = requests.get(url_comments, params = {'subreddit': 'AskWomen','size': 100,'before': before_params[-1]})\n",
    "    try: \n",
    "        batch = pd.DataFrame(resp.json()['data'])\n",
    "        AW_comments_df = pd.concat([AW_comments_df, batch], axis = 0 )\n",
    "        before_params.append(batch['created_utc'].min())\n",
    "        time.sleep(2)\n",
    "    except:\n",
    "        print(resp.status_code)"
   ]
  },
  {
   "cell_type": "code",
   "execution_count": 17,
   "metadata": {},
   "outputs": [
    {
     "data": {
      "text/plain": [
       "(3000, 37)"
      ]
     },
     "execution_count": 17,
     "metadata": {},
     "output_type": "execute_result"
    }
   ],
   "source": [
    "AW_comments_df.shape"
   ]
  },
  {
   "cell_type": "code",
   "execution_count": 18,
   "metadata": {},
   "outputs": [
    {
     "data": {
      "text/plain": [
       "0     That's the point. We can't tell who's American...\n",
       "1      Micarah Tewers is so chaotic but in the best way\n",
       "2                            Damn! Haha have an upvote!\n",
       "3     If you want cozy, have you watched Elin Abraha...\n",
       "4     It's just that so many Americans are doing fuc...\n",
       "                            ...                        \n",
       "95    If I'm hosting a party I usually go all out th...\n",
       "96    Yep! We met at a bar, added each other on fb, ...\n",
       "97    I'm sorry you were raped and no one listened t...\n",
       "98    I have the same body (even to the bra size lol...\n",
       "99    I often have this thought of looking androgyno...\n",
       "Name: body, Length: 3000, dtype: object"
      ]
     },
     "execution_count": 18,
     "metadata": {},
     "output_type": "execute_result"
    }
   ],
   "source": [
    "AW_comments_df['body']"
   ]
  },
  {
   "cell_type": "markdown",
   "metadata": {},
   "source": [
    "#### Exporting harvested data to csv files for retrieval in subsequent parts"
   ]
  },
  {
   "cell_type": "code",
   "execution_count": 21,
   "metadata": {},
   "outputs": [],
   "source": [
    "AW_comments_df.to_csv('../data/aw_com.csv')\n",
    "AW_posts_df.to_csv('../data/aw_pos.csv')\n",
    "AM_comments_df.to_csv('../data/am_com.csv')\n",
    "AM_posts_df.to_csv('../data/am_pos.csv')"
   ]
  },
  {
   "cell_type": "code",
   "execution_count": null,
   "metadata": {},
   "outputs": [],
   "source": []
  }
 ],
 "metadata": {
  "kernelspec": {
   "display_name": "Python 3",
   "language": "python",
   "name": "python3"
  },
  "language_info": {
   "codemirror_mode": {
    "name": "ipython",
    "version": 3
   },
   "file_extension": ".py",
   "mimetype": "text/x-python",
   "name": "python",
   "nbconvert_exporter": "python",
   "pygments_lexer": "ipython3",
   "version": "3.8.3"
  }
 },
 "nbformat": 4,
 "nbformat_minor": 4
}
