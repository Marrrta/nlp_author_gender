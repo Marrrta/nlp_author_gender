{
 "cells": [
  {
   "cell_type": "code",
   "execution_count": 103,
   "metadata": {},
   "outputs": [],
   "source": [
    "import requests\n",
    "import time\n",
    "import pandas as pd\n",
    "import numpy as np\n",
    "import matplotlib.pyplot as plt\n",
    "import seaborn as sns\n",
    "from nltk.tag import pos_tag\n",
    "from nltk.corpus import stopwords\n",
    "from nltk.tokenize import word_tokenize, wordpunct_tokenize\n",
    "from nltk import FreqDist\n",
    "from sklearn.model_selection import train_test_split, cross_val_score, GridSearchCV\n",
    "from sklearn.pipeline import Pipeline\n",
    "from sklearn.naive_bayes import MultinomialNB\n",
    "from sklearn.linear_model import LogisticRegression\n",
    "from sklearn.neighbors import KNeighborsClassifier\n",
    "from sklearn.ensemble import RandomForestClassifier\n",
    "from sklearn.metrics import confusion_matrix, plot_confusion_matrix\n",
    "from sklearn.feature_extraction.text import CountVectorizer, TfidfVectorizer\n",
    "from nltk.sentiment import sentiment_analyzer, vader, SentimentAnalyzer, SentimentIntensityAnalyzer\n",
    "from xgboost import XGBClassifier\n",
    "import gensim\n",
    "import gensim.downloader as api\n",
    "from gensim.models.word2vec import Word2Vec\n",
    "from transformers import pipeline"
   ]
  },
  {
   "cell_type": "markdown",
   "metadata": {},
   "source": [
    "### Getting data from Ask Men Subreddit ###"
   ]
  },
  {
   "cell_type": "code",
   "execution_count": 2,
   "metadata": {},
   "outputs": [],
   "source": [
    "url_submissions = 'https://api.pushshift.io/reddit/search/submission'\n",
    "url_comments = 'https://api.pushshift.io/reddit/search/comment'"
   ]
  },
  {
   "cell_type": "code",
   "execution_count": 5,
   "metadata": {},
   "outputs": [],
   "source": [
    "AM_posts_cols = ['all_awardings', 'allow_live_comments', 'author',\n",
    "       'author_flair_css_class', 'author_flair_richtext', 'author_flair_text',\n",
    "       'author_flair_type', 'author_fullname', 'author_patreon_flair',\n",
    "       'author_premium', 'awarders', 'can_mod_post', 'contest_mode',\n",
    "       'created_utc', 'domain', 'full_link', 'gildings', 'id',\n",
    "       'is_crosspostable', 'is_meta', 'is_original_content',\n",
    "       'is_reddit_media_domain', 'is_robot_indexable', 'is_self', 'is_video',\n",
    "       'link_flair_background_color', 'link_flair_richtext',\n",
    "       'link_flair_text_color', 'link_flair_type', 'locked', 'media_only',\n",
    "       'no_follow', 'num_comments', 'num_crossposts', 'over_18',\n",
    "       'parent_whitelist_status', 'permalink', 'pinned', 'pwls',\n",
    "       'removed_by_category', 'retrieved_on', 'score', 'selftext',\n",
    "       'send_replies', 'spoiler', 'stickied', 'subreddit', 'subreddit_id',\n",
    "       'subreddit_subscribers', 'subreddit_type', 'thumbnail', 'title',\n",
    "       'total_awards_received', 'treatment_tags', 'upvote_ratio', 'url',\n",
    "       'whitelist_status', 'wls', 'post_hint', 'preview',\n",
    "       'author_flair_background_color', 'author_flair_text_color',\n",
    "       'banned_by']"
   ]
  },
  {
   "cell_type": "code",
   "execution_count": 104,
   "metadata": {},
   "outputs": [
    {
     "name": "stdout",
     "output_type": "stream",
     "text": [
      "502\n",
      "502\n"
     ]
    }
   ],
   "source": [
    "AM_posts_df = pd.DataFrame()#columns = AM_posts_cols)\n",
    "before_params = [1609187173] # first timestamp is equivalent to now \n",
    "for i in range(1, 21):\n",
    "    resp = requests.get(url_submissions, params = {'subreddit': 'AskMen','size': 100,'before': before_params[-1]})\n",
    "    try: \n",
    "        batch = pd.DataFrame(resp.json()['data'])\n",
    "        AM_posts_df = pd.concat([AM_posts_df, batch], axis = 0 )\n",
    "        before_params.append(batch['created_utc'].min())\n",
    "        time.sleep(2)\n",
    "    except:\n",
    "        print(resp.status_code)"
   ]
  },
  {
   "cell_type": "code",
   "execution_count": 108,
   "metadata": {},
   "outputs": [
    {
     "data": {
      "text/plain": [
       "(1800, 65)"
      ]
     },
     "execution_count": 108,
     "metadata": {},
     "output_type": "execute_result"
    }
   ],
   "source": [
    "AM_posts_df.shape"
   ]
  },
  {
   "cell_type": "code",
   "execution_count": 115,
   "metadata": {},
   "outputs": [
    {
     "data": {
      "text/html": [
       "<div>\n",
       "<style scoped>\n",
       "    .dataframe tbody tr th:only-of-type {\n",
       "        vertical-align: middle;\n",
       "    }\n",
       "\n",
       "    .dataframe tbody tr th {\n",
       "        vertical-align: top;\n",
       "    }\n",
       "\n",
       "    .dataframe thead th {\n",
       "        text-align: right;\n",
       "    }\n",
       "</style>\n",
       "<table border=\"1\" class=\"dataframe\">\n",
       "  <thead>\n",
       "    <tr style=\"text-align: right;\">\n",
       "      <th></th>\n",
       "      <th>title_selftext</th>\n",
       "      <th>title</th>\n",
       "      <th>selftext</th>\n",
       "    </tr>\n",
       "  </thead>\n",
       "  <tbody>\n",
       "    <tr>\n",
       "      <th>0</th>\n",
       "      <td>Would you live in an area with high police pre...</td>\n",
       "      <td>Would you live in an area with high police pre...</td>\n",
       "      <td>[removed]</td>\n",
       "    </tr>\n",
       "    <tr>\n",
       "      <th>1</th>\n",
       "      <td>What are some slang terms a 34-year old dad co...</td>\n",
       "      <td>What are some slang terms a 34-year old dad co...</td>\n",
       "      <td>[removed]</td>\n",
       "    </tr>\n",
       "    <tr>\n",
       "      <th>2</th>\n",
       "      <td>Ask permission?[removed]</td>\n",
       "      <td>Ask permission?</td>\n",
       "      <td>[removed]</td>\n",
       "    </tr>\n",
       "    <tr>\n",
       "      <th>3</th>\n",
       "      <td>How long is “normal” sex?Well, I know there is...</td>\n",
       "      <td>How long is “normal” sex?</td>\n",
       "      <td>Well, I know there is no such thing as normal ...</td>\n",
       "    </tr>\n",
       "    <tr>\n",
       "      <th>4</th>\n",
       "      <td>My mom have anger management problem[removed]</td>\n",
       "      <td>My mom have anger management problem</td>\n",
       "      <td>[removed]</td>\n",
       "    </tr>\n",
       "  </tbody>\n",
       "</table>\n",
       "</div>"
      ],
      "text/plain": [
       "                                      title_selftext  \\\n",
       "0  Would you live in an area with high police pre...   \n",
       "1  What are some slang terms a 34-year old dad co...   \n",
       "2                           Ask permission?[removed]   \n",
       "3  How long is “normal” sex?Well, I know there is...   \n",
       "4      My mom have anger management problem[removed]   \n",
       "\n",
       "                                               title  \\\n",
       "0  Would you live in an area with high police pre...   \n",
       "1  What are some slang terms a 34-year old dad co...   \n",
       "2                                    Ask permission?   \n",
       "3                          How long is “normal” sex?   \n",
       "4               My mom have anger management problem   \n",
       "\n",
       "                                            selftext  \n",
       "0                                          [removed]  \n",
       "1                                          [removed]  \n",
       "2                                          [removed]  \n",
       "3  Well, I know there is no such thing as normal ...  \n",
       "4                                          [removed]  "
      ]
     },
     "execution_count": 115,
     "metadata": {},
     "output_type": "execute_result"
    }
   ],
   "source": [
    "AM_posts_df['title_selftext'] = AM_posts_df['title']+AM_posts_df['selftext']\n",
    "AM_posts_df[['title_selftext', 'title', 'selftext']].head()"
   ]
  },
  {
   "cell_type": "code",
   "execution_count": 11,
   "metadata": {},
   "outputs": [],
   "source": [
    "AM_comments_cols = ['all_awardings', 'associated_award', 'author',\n",
    "       'author_flair_background_color', 'author_flair_css_class',\n",
    "       'author_flair_richtext', 'author_flair_template_id',\n",
    "       'author_flair_text', 'author_flair_text_color', 'author_flair_type',\n",
    "       'author_fullname', 'author_patreon_flair', 'author_premium', 'awarders',\n",
    "       'body', 'collapsed_because_crowd_control', 'comment_type',\n",
    "       'created_utc', 'gildings', 'id', 'is_submitter', 'link_id', 'locked',\n",
    "       'no_follow', 'parent_id', 'permalink', 'retrieved_on', 'score',\n",
    "       'send_replies', 'stickied', 'subreddit', 'subreddit_id',\n",
    "       'top_awarded_type', 'total_awards_received', 'treatment_tags',\n",
    "       'distinguished']"
   ]
  },
  {
   "cell_type": "code",
   "execution_count": 105,
   "metadata": {},
   "outputs": [
    {
     "name": "stdout",
     "output_type": "stream",
     "text": [
      "502\n",
      "502\n"
     ]
    }
   ],
   "source": [
    "AM_comments_df = pd.DataFrame(columns = AM_comments_cols)\n",
    "before_params = [1609187173] # first timestamp is equivalent to now \n",
    "for i in range(1, 21):\n",
    "    resp = requests.get(url_comments, params = {'subreddit': 'AskMen','size': 100,'before': before_params[-1]})\n",
    "    try: \n",
    "        batch = pd.DataFrame(resp.json()['data'])\n",
    "        AM_comments_df = pd.concat([AM_comments_df, batch], axis = 0 )\n",
    "        before_params.append(batch['created_utc'].min())\n",
    "        time.sleep(2)\n",
    "    except:\n",
    "        print(resp.status_code)"
   ]
  },
  {
   "cell_type": "code",
   "execution_count": 111,
   "metadata": {},
   "outputs": [
    {
     "data": {
      "text/plain": [
       "(1800, 37)"
      ]
     },
     "execution_count": 111,
     "metadata": {},
     "output_type": "execute_result"
    }
   ],
   "source": [
    "AM_comments_df.shape"
   ]
  },
  {
   "cell_type": "markdown",
   "metadata": {},
   "source": [
    "### Getting data from AskWomen Subreddit ###"
   ]
  },
  {
   "cell_type": "code",
   "execution_count": 15,
   "metadata": {},
   "outputs": [
    {
     "data": {
      "text/plain": [
       "Index(['all_awardings', 'allow_live_comments', 'author',\n",
       "       'author_flair_css_class', 'author_flair_richtext', 'author_flair_text',\n",
       "       'author_flair_type', 'author_fullname', 'author_patreon_flair',\n",
       "       'author_premium', 'awarders', 'can_mod_post', 'contest_mode',\n",
       "       'created_utc', 'domain', 'full_link', 'gildings', 'id',\n",
       "       'is_crosspostable', 'is_meta', 'is_original_content',\n",
       "       'is_reddit_media_domain', 'is_robot_indexable', 'is_self', 'is_video',\n",
       "       'link_flair_background_color', 'link_flair_richtext',\n",
       "       'link_flair_text_color', 'link_flair_type', 'locked', 'media_only',\n",
       "       'no_follow', 'num_comments', 'num_crossposts', 'over_18',\n",
       "       'parent_whitelist_status', 'permalink', 'pinned', 'post_hint',\n",
       "       'preview', 'pwls', 'removed_by_category', 'retrieved_on', 'score',\n",
       "       'selftext', 'send_replies', 'spoiler', 'stickied', 'subreddit',\n",
       "       'subreddit_id', 'subreddit_subscribers', 'subreddit_type',\n",
       "       'suggested_sort', 'thumbnail', 'title', 'total_awards_received',\n",
       "       'treatment_tags', 'upvote_ratio', 'url', 'whitelist_status', 'wls',\n",
       "       'author_flair_template_id', 'author_flair_text_color'],\n",
       "      dtype='object')"
      ]
     },
     "execution_count": 15,
     "metadata": {},
     "output_type": "execute_result"
    }
   ],
   "source": [
    "resp = requests.get(url_submissions, params = {'subreddit': 'AskWomen','size': 100,'before': before_params[-1]})\n",
    "pd.DataFrame(resp.json()['data']).columns"
   ]
  },
  {
   "cell_type": "code",
   "execution_count": 17,
   "metadata": {},
   "outputs": [],
   "source": [
    "AW_posts_cols = ['all_awardings', 'allow_live_comments', 'author',\n",
    "       'author_flair_css_class', 'author_flair_richtext', 'author_flair_text',\n",
    "       'author_flair_type', 'author_fullname', 'author_patreon_flair',\n",
    "       'author_premium', 'awarders', 'can_mod_post', 'contest_mode',\n",
    "       'created_utc', 'domain', 'full_link', 'gildings', 'id',\n",
    "       'is_crosspostable', 'is_meta', 'is_original_content',\n",
    "       'is_reddit_media_domain', 'is_robot_indexable', 'is_self', 'is_video',\n",
    "       'link_flair_background_color', 'link_flair_richtext',\n",
    "       'link_flair_text_color', 'link_flair_type', 'locked', 'media_only',\n",
    "       'no_follow', 'num_comments', 'num_crossposts', 'over_18',\n",
    "       'parent_whitelist_status', 'permalink', 'pinned', 'post_hint',\n",
    "       'preview', 'pwls', 'removed_by_category', 'retrieved_on', 'score',\n",
    "       'selftext', 'send_replies', 'spoiler', 'stickied', 'subreddit',\n",
    "       'subreddit_id', 'subreddit_subscribers', 'subreddit_type',\n",
    "       'suggested_sort', 'thumbnail', 'title', 'total_awards_received',\n",
    "       'treatment_tags', 'upvote_ratio', 'url', 'whitelist_status', 'wls',\n",
    "       'author_flair_template_id', 'author_flair_text_color']"
   ]
  },
  {
   "cell_type": "code",
   "execution_count": 106,
   "metadata": {},
   "outputs": [],
   "source": [
    "AW_posts_df = pd.DataFrame(columns = AW_posts_cols)\n",
    "before_params = [1609187173] # first timestamp is equivalent to now \n",
    "for i in range(1, 21):\n",
    "    resp = requests.get(url_submissions, params = {'subreddit': 'AskWomen','size': 100,'before': before_params[-1]})\n",
    "    try: \n",
    "        batch = pd.DataFrame(resp.json()['data'])\n",
    "        AW_posts_df = pd.concat([AW_posts_df, batch], axis = 0 )\n",
    "        before_params.append(batch['created_utc'].min())\n",
    "        time.sleep(2)\n",
    "    except:\n",
    "        print(resp.status_code)"
   ]
  },
  {
   "cell_type": "code",
   "execution_count": 110,
   "metadata": {},
   "outputs": [
    {
     "data": {
      "text/plain": [
       "(2000, 67)"
      ]
     },
     "execution_count": 110,
     "metadata": {},
     "output_type": "execute_result"
    }
   ],
   "source": [
    "AW_posts_df.shape"
   ]
  },
  {
   "cell_type": "code",
   "execution_count": 116,
   "metadata": {},
   "outputs": [
    {
     "data": {
      "text/html": [
       "<div>\n",
       "<style scoped>\n",
       "    .dataframe tbody tr th:only-of-type {\n",
       "        vertical-align: middle;\n",
       "    }\n",
       "\n",
       "    .dataframe tbody tr th {\n",
       "        vertical-align: top;\n",
       "    }\n",
       "\n",
       "    .dataframe thead th {\n",
       "        text-align: right;\n",
       "    }\n",
       "</style>\n",
       "<table border=\"1\" class=\"dataframe\">\n",
       "  <thead>\n",
       "    <tr style=\"text-align: right;\">\n",
       "      <th></th>\n",
       "      <th>title_selftext</th>\n",
       "      <th>title</th>\n",
       "      <th>selftext</th>\n",
       "    </tr>\n",
       "  </thead>\n",
       "  <tbody>\n",
       "    <tr>\n",
       "      <th>0</th>\n",
       "      <td>What to do when I said something I shouldn't[r...</td>\n",
       "      <td>What to do when I said something I shouldn't</td>\n",
       "      <td>[removed]</td>\n",
       "    </tr>\n",
       "    <tr>\n",
       "      <th>1</th>\n",
       "      <td>What's a creepy encounter you've had a with a ...</td>\n",
       "      <td>What's a creepy encounter you've had a with a ...</td>\n",
       "      <td>[removed]</td>\n",
       "    </tr>\n",
       "    <tr>\n",
       "      <th>2</th>\n",
       "      <td>Would a girl get bothered if she sees the guy ...</td>\n",
       "      <td>Would a girl get bothered if she sees the guy ...</td>\n",
       "      <td>[removed]</td>\n",
       "    </tr>\n",
       "    <tr>\n",
       "      <th>3</th>\n",
       "      <td>What are my chances of being pregnant?[removed]</td>\n",
       "      <td>What are my chances of being pregnant?</td>\n",
       "      <td>[removed]</td>\n",
       "    </tr>\n",
       "    <tr>\n",
       "      <th>4</th>\n",
       "      <td>what does discharging of breast milk mean for ...</td>\n",
       "      <td>what does discharging of breast milk mean for ...</td>\n",
       "      <td>[removed]</td>\n",
       "    </tr>\n",
       "  </tbody>\n",
       "</table>\n",
       "</div>"
      ],
      "text/plain": [
       "                                      title_selftext  \\\n",
       "0  What to do when I said something I shouldn't[r...   \n",
       "1  What's a creepy encounter you've had a with a ...   \n",
       "2  Would a girl get bothered if she sees the guy ...   \n",
       "3    What are my chances of being pregnant?[removed]   \n",
       "4  what does discharging of breast milk mean for ...   \n",
       "\n",
       "                                               title   selftext  \n",
       "0       What to do when I said something I shouldn't  [removed]  \n",
       "1  What's a creepy encounter you've had a with a ...  [removed]  \n",
       "2  Would a girl get bothered if she sees the guy ...  [removed]  \n",
       "3             What are my chances of being pregnant?  [removed]  \n",
       "4  what does discharging of breast milk mean for ...  [removed]  "
      ]
     },
     "execution_count": 116,
     "metadata": {},
     "output_type": "execute_result"
    }
   ],
   "source": [
    "AW_posts_df['title_selftext'] = AW_posts_df['title']+AW_posts_df['selftext']\n",
    "AW_posts_df[['title_selftext', 'title', 'selftext']].head()"
   ]
  },
  {
   "cell_type": "code",
   "execution_count": 22,
   "metadata": {},
   "outputs": [],
   "source": [
    "AW_comments_cols = ['all_awardings', 'associated_award', 'author',\n",
    "       'author_flair_background_color', 'author_flair_css_class',\n",
    "       'author_flair_richtext', 'author_flair_template_id',\n",
    "       'author_flair_text', 'author_flair_text_color', 'author_flair_type',\n",
    "       'author_fullname', 'author_patreon_flair', 'author_premium', 'awarders',\n",
    "       'body', 'collapsed_because_crowd_control', 'comment_type',\n",
    "       'created_utc', 'distinguished', 'gildings', 'id', 'is_submitter',\n",
    "       'link_id', 'locked', 'no_follow', 'parent_id', 'permalink',\n",
    "       'retrieved_on', 'score', 'send_replies', 'stickied', 'subreddit',\n",
    "       'subreddit_id', 'top_awarded_type', 'total_awards_received',\n",
    "       'treatment_tags']"
   ]
  },
  {
   "cell_type": "code",
   "execution_count": 107,
   "metadata": {},
   "outputs": [
    {
     "name": "stdout",
     "output_type": "stream",
     "text": [
      "502\n",
      "502\n",
      "502\n"
     ]
    }
   ],
   "source": [
    "AW_comments_df = pd.DataFrame(columns = AW_comments_cols)\n",
    "before_params = [1609187173] # first timestamp is equivalent to now \n",
    "for i in range(1, 21):\n",
    "    resp = requests.get(url_comments, params = {'subreddit': 'AskWomen','size': 100,'before': before_params[-1]})\n",
    "    try: \n",
    "        batch = pd.DataFrame(resp.json()['data'])\n",
    "        AW_comments_df = pd.concat([AW_comments_df, batch], axis = 0 )\n",
    "        before_params.append(batch['created_utc'].min())\n",
    "        time.sleep(2)\n",
    "    except:\n",
    "        print(resp.status_code)"
   ]
  },
  {
   "cell_type": "code",
   "execution_count": 109,
   "metadata": {},
   "outputs": [
    {
     "data": {
      "text/plain": [
       "(1700, 37)"
      ]
     },
     "execution_count": 109,
     "metadata": {},
     "output_type": "execute_result"
    }
   ],
   "source": [
    "AW_comments_df.shape"
   ]
  },
  {
   "cell_type": "code",
   "execution_count": 25,
   "metadata": {},
   "outputs": [
    {
     "data": {
      "text/plain": [
       "0     Non-sexual affection, a good film, fine dining...\n",
       "1     Probably right now.  \\n\\nMy son is 11, he is i...\n",
       "2     I'd also like to know. Cause in some countries...\n",
       "3     I actually kind of agree with this. My situati...\n",
       "4     Better education and easier access to birth co...\n",
       "                            ...                        \n",
       "95    I love my life now. I'm 43. The extensive care...\n",
       "96    Sometimes its lonely. Im okay, feel like I mig...\n",
       "97    Putting lemon slices on top of and *under* sal...\n",
       "98    That’s an amazing story!! It’s lines like that...\n",
       "99    First introduced to them in HomeEc class in hi...\n",
       "Name: body, Length: 800, dtype: object"
      ]
     },
     "execution_count": 25,
     "metadata": {},
     "output_type": "execute_result"
    }
   ],
   "source": [
    "AW_comments_df['body']"
   ]
  },
  {
   "cell_type": "markdown",
   "metadata": {},
   "source": [
    "### DATA EXPORTS"
   ]
  },
  {
   "cell_type": "code",
   "execution_count": 117,
   "metadata": {},
   "outputs": [],
   "source": [
    "AW_comments_df.to_csv('aw_com.csv')\n",
    "AW_posts_df.to_csv('aw_pos.csv')\n",
    "AM_comments_df.to_csv('am_com.csv')\n",
    "AM_posts_df.to_csv('am_pos.csv')"
   ]
  },
  {
   "cell_type": "markdown",
   "metadata": {},
   "source": [
    "### Dealing with stop words"
   ]
  },
  {
   "cell_type": "code",
   "execution_count": 113,
   "metadata": {},
   "outputs": [],
   "source": [
    "stops = stopwords.words('english')\n",
    "additions = [\"!\",\"?\",\".\",\":\",\";\", \",\", \"\\'\", \"\\\"\",\"*\", \"'\", '\"', \"[\", ']', '(', \")\", '’', '[removed]']\n",
    "stops.extend(additions)"
   ]
  },
  {
   "cell_type": "markdown",
   "metadata": {},
   "source": [
    "_More to be done here later_"
   ]
  },
  {
   "cell_type": "markdown",
   "metadata": {},
   "source": [
    "### Creating corpora"
   ]
  },
  {
   "cell_type": "code",
   "execution_count": 118,
   "metadata": {},
   "outputs": [],
   "source": [
    "AW_comments_corpus = ''\n",
    "for i in range(len(AW_comments_df)):\n",
    "    AW_comments_corpus+=(AW_comments_df.iloc[i,list(AW_comments_df.columns).index('body')])\n",
    "\n",
    "AM_comments_corpus = ''\n",
    "for i in range(len(AM_comments_df)):\n",
    "    AM_comments_corpus+=(AM_comments_df.iloc[i,list(AM_comments_df.columns).index('body')])\n",
    "\n",
    "AW_posts_corpus = ''\n",
    "for i in range(len(AW_posts_df)):\n",
    "    AW_posts_corpus+=str(AW_posts_df.iloc[i,list(AW_posts_df.columns).index('title_selftext')])\n",
    "    \n",
    "AM_posts_corpus = ''\n",
    "for i in range(len(AM_posts_df)):\n",
    "    AM_posts_corpus+=str(AM_posts_df.iloc[i,list(AM_posts_df.columns).index('title_selftext')])"
   ]
  },
  {
   "cell_type": "markdown",
   "metadata": {},
   "source": [
    "### Sentiment analysis"
   ]
  },
  {
   "cell_type": "code",
   "execution_count": 119,
   "metadata": {},
   "outputs": [],
   "source": [
    "sia = SentimentIntensityAnalyzer()"
   ]
  },
  {
   "cell_type": "code",
   "execution_count": 120,
   "metadata": {},
   "outputs": [
    {
     "data": {
      "text/plain": [
       "{'neg': 0.068, 'neu': 0.806, 'pos': 0.125, 'compound': 1.0}"
      ]
     },
     "execution_count": 120,
     "metadata": {},
     "output_type": "execute_result"
    }
   ],
   "source": [
    "sia.polarity_scores(AW_comments_corpus)"
   ]
  },
  {
   "cell_type": "code",
   "execution_count": 121,
   "metadata": {},
   "outputs": [
    {
     "data": {
      "text/plain": [
       "{'neg': 0.093, 'neu': 0.77, 'pos': 0.137, 'compound': 1.0}"
      ]
     },
     "execution_count": 121,
     "metadata": {},
     "output_type": "execute_result"
    }
   ],
   "source": [
    "sia.polarity_scores(AM_comments_corpus)"
   ]
  },
  {
   "cell_type": "markdown",
   "metadata": {},
   "source": [
    "_How about for each comment separately?_"
   ]
  },
  {
   "cell_type": "markdown",
   "metadata": {},
   "source": [
    "### Count Vectorizer and dumb model on just comments (SKIPPED)"
   ]
  },
  {
   "cell_type": "code",
   "execution_count": null,
   "metadata": {},
   "outputs": [],
   "source": [
    "X = pd.concat([BOS_comments_df['body'], LA_comments_df['body']], axis = 0)"
   ]
  },
  {
   "cell_type": "code",
   "execution_count": null,
   "metadata": {},
   "outputs": [],
   "source": [
    "X = pd.concat([BOS_comments_df['body'], LA_comments_df['body']], axis = 0)"
   ]
  },
  {
   "cell_type": "code",
   "execution_count": null,
   "metadata": {},
   "outputs": [],
   "source": [
    "X.shape"
   ]
  },
  {
   "cell_type": "code",
   "execution_count": null,
   "metadata": {},
   "outputs": [],
   "source": [
    "y = np.concatenate([np.zeros_like(BOS_comments_df['body']), np.ones_like(LA_comments_df['body'])]).astype(int)"
   ]
  },
  {
   "cell_type": "code",
   "execution_count": null,
   "metadata": {},
   "outputs": [],
   "source": [
    "type(y)"
   ]
  },
  {
   "cell_type": "code",
   "execution_count": null,
   "metadata": {},
   "outputs": [],
   "source": [
    "train_X, test_X, train_y, test_y = train_test_split(X,y)"
   ]
  },
  {
   "cell_type": "code",
   "execution_count": null,
   "metadata": {},
   "outputs": [],
   "source": [
    "cvec = CountVectorizer(stop_words='english', lowercase = True, max_features=10_000)\n",
    "train_X_vec = cvec.fit_transform(train_X)\n",
    "test_X_vec = cvec.transform(test_X)"
   ]
  },
  {
   "cell_type": "code",
   "execution_count": null,
   "metadata": {},
   "outputs": [],
   "source": [
    "train_y.mean()"
   ]
  },
  {
   "cell_type": "code",
   "execution_count": null,
   "metadata": {},
   "outputs": [],
   "source": [
    "test_y.mean()"
   ]
  },
  {
   "cell_type": "code",
   "execution_count": null,
   "metadata": {},
   "outputs": [],
   "source": [
    "mnb = MultinomialNB()"
   ]
  },
  {
   "cell_type": "code",
   "execution_count": null,
   "metadata": {},
   "outputs": [],
   "source": [
    "mnb.fit(train_X_vec, train_y)\n",
    "mnb.score(train_X_vec, train_y)"
   ]
  },
  {
   "cell_type": "code",
   "execution_count": null,
   "metadata": {},
   "outputs": [],
   "source": [
    "mnb.score(test_X_vec, test_y)"
   ]
  },
  {
   "cell_type": "markdown",
   "metadata": {},
   "source": [
    "### FUN WITH SPACY (SKIPPED)"
   ]
  },
  {
   "cell_type": "code",
   "execution_count": null,
   "metadata": {},
   "outputs": [],
   "source": [
    "import spacy\n",
    "from spacy import displacy\n",
    "en_mdl = spacy.load('en_core_web_md')\n",
    "nlp = spacy.load('en_core_web_sm')"
   ]
  },
  {
   "cell_type": "code",
   "execution_count": null,
   "metadata": {},
   "outputs": [],
   "source": [
    "displacy.render(nlp(str('I miss Boston sometimes')), jupyter=True, style='ent')"
   ]
  },
  {
   "cell_type": "code",
   "execution_count": null,
   "metadata": {},
   "outputs": [],
   "source": [
    "doc = nlp(BOS_comments_corpus + BOS_posts_corpus)\n",
    "bos_loc_gpe = []\n",
    "for ent in doc.ents:\n",
    "    if ent.label_ in ['LOC', 'GPE']:\n",
    "        bos_loc_gpe.append(ent.text)\n",
    "\n",
    "BOS_locations = list(set(bos_loc_gpe))\n",
    "BOS_locations.append('Harvard') # adding some which were not detected by Spacy NER"
   ]
  },
  {
   "cell_type": "code",
   "execution_count": null,
   "metadata": {},
   "outputs": [],
   "source": [
    "poppers =  ['Airbnb', 'Aquarium', 'Atlanta', 'Austin', 'Australia', 'Automobiles',           \n",
    "            'Billy','Black', 'Brno', \n",
    "           'California', 'Canada','Carolinas','Central','Charlotte', 'Chicago','Chlamydia', 'Comcast','Czech Republic',\n",
    "           'DC','Davis','Dec 21.Found', 'Detroit', 'Downtown', 'Dubai',\n",
    "           'East', 'England',\n",
    "           'Florida','Hong Kong','Hotel','Houston','Hyde Park',\n",
    "           'Jan', 'Japan', 'Kansas', 'Kansas City', 'Karaoke',\n",
    "           'Meridian', 'Miami', 'Midwest','Minecraft!Just','Mississippi','Mueller','Mumbai',\n",
    "            'NH','NY','Naples','Nashville',\n",
    "           'States', 'Storrow', 'Suffolk County', 'Sweden','Syracuse', 'Syria', \n",
    "           'Tennessee','Texas',\"The Combat Zoneit's\",'Toronto',\n",
    "            'U.K.','US','USA','Venmo', 'Vermont', 'Washington', 'Washington DC']\n",
    "for popper in poppers:\n",
    "    BOS_locations.remove(popper) #removing some which are not BOS specific"
   ]
  },
  {
   "cell_type": "code",
   "execution_count": null,
   "metadata": {},
   "outputs": [],
   "source": [
    "#BOS_locations.sort()\n",
    "#BOS_locations"
   ]
  },
  {
   "cell_type": "code",
   "execution_count": null,
   "metadata": {},
   "outputs": [],
   "source": [
    "doc = nlp(LA_comments_corpus + LA_posts_corpus)\n",
    "la_loc_gpe = []\n",
    "for ent in doc.ents:\n",
    "    if ent.label_ in ['LOC', 'GPE']:\n",
    "        la_loc_gpe.append(ent.text)\n",
    "\n",
    "LA_locations = list(set(la_loc_gpe))\n",
    "LA_locations.append(\"Westside\")"
   ]
  },
  {
   "cell_type": "code",
   "execution_count": null,
   "metadata": {},
   "outputs": [],
   "source": [
    "#LA_locations.sort()\n",
    "#LA_locations"
   ]
  },
  {
   "cell_type": "code",
   "execution_count": null,
   "metadata": {},
   "outputs": [],
   "source": [
    "la_poppers = ['East','Japan', 'Midwest', 'Mueller', 'Texas', 'US', 'USA', 'Vermont', 'Washington', 'Washington DC', 'the United States','Vancouver', 'Vegas', 'Bernie', 'America', 'Chicago', 'boston', 'Colorado', 'Tokyo','Tsunamis', 'U.S.','United State','United States Of America']\n",
    "for popper in la_poppers:\n",
    "    LA_locations.remove(popper) #removing some which are not LA specific"
   ]
  },
  {
   "cell_type": "code",
   "execution_count": null,
   "metadata": {},
   "outputs": [],
   "source": [
    "LA_comments_df['body_np'] = LA_comments_df['body'] \n",
    "for loc in LA_locations:\n",
    "    LA_comments_df['body_np'] = LA_comments_df['body_np'].apply(lambda x: x.replace(loc, \"PLACE\"))"
   ]
  },
  {
   "cell_type": "code",
   "execution_count": null,
   "metadata": {},
   "outputs": [],
   "source": [
    "BOS_comments_df['body_np'] = BOS_comments_df['body']\n",
    "for loc in BOS_locations:\n",
    "    BOS_comments_df['body_np'] = BOS_comments_df['body_np'].apply(lambda x: x.replace(loc, \"PLACE\"))"
   ]
  },
  {
   "cell_type": "markdown",
   "metadata": {},
   "source": [
    "### WHAT ABOUT WITHOUT LOCATION NAMES? (SKIPPED)"
   ]
  },
  {
   "cell_type": "code",
   "execution_count": null,
   "metadata": {},
   "outputs": [],
   "source": [
    "X = pd.concat([BOS_comments_df['body_np'], LA_comments_df['body_np']], axis = 0)"
   ]
  },
  {
   "cell_type": "code",
   "execution_count": null,
   "metadata": {},
   "outputs": [],
   "source": [
    "X.shape"
   ]
  },
  {
   "cell_type": "code",
   "execution_count": null,
   "metadata": {},
   "outputs": [],
   "source": [
    "y = np.concatenate([np.zeros_like(BOS_comments_df['body_np']), np.ones_like(LA_comments_df['body_np'])]).astype(int)"
   ]
  },
  {
   "cell_type": "code",
   "execution_count": null,
   "metadata": {},
   "outputs": [],
   "source": [
    "type(y)"
   ]
  },
  {
   "cell_type": "code",
   "execution_count": null,
   "metadata": {},
   "outputs": [],
   "source": [
    "train_X, test_X, train_y, test_y = train_test_split(X,y)"
   ]
  },
  {
   "cell_type": "code",
   "execution_count": null,
   "metadata": {},
   "outputs": [],
   "source": [
    "cvec = CountVectorizer(stop_words='english', lowercase = True, max_features=10_000)\n",
    "train_X_vec = cvec.fit_transform(train_X)\n",
    "test_X_vec = cvec.transform(test_X)"
   ]
  },
  {
   "cell_type": "code",
   "execution_count": null,
   "metadata": {},
   "outputs": [],
   "source": [
    "train_y.mean()"
   ]
  },
  {
   "cell_type": "code",
   "execution_count": null,
   "metadata": {},
   "outputs": [],
   "source": [
    "test_y.mean()"
   ]
  },
  {
   "cell_type": "code",
   "execution_count": null,
   "metadata": {},
   "outputs": [],
   "source": [
    "mnb = MultinomialNB()"
   ]
  },
  {
   "cell_type": "code",
   "execution_count": null,
   "metadata": {},
   "outputs": [],
   "source": [
    "mnb.fit(train_X_vec, train_y)\n",
    "mnb.score(train_X_vec, train_y)"
   ]
  },
  {
   "cell_type": "markdown",
   "metadata": {},
   "source": [
    "### NOW ON ACTUAL POSTS (SKIPPED)"
   ]
  },
  {
   "cell_type": "code",
   "execution_count": null,
   "metadata": {},
   "outputs": [],
   "source": [
    "LA_posts_df['title_selftext_np'] = LA_posts_df['title_selftext']\n",
    "for loc in LA_locations:\n",
    "    LA_posts_df['title_selftext_np'] = LA_posts_df['title_selftext_np'].apply(lambda x: str(x).replace(loc, \"PLACE\"))"
   ]
  },
  {
   "cell_type": "code",
   "execution_count": null,
   "metadata": {},
   "outputs": [],
   "source": [
    "BOS_posts_df['title_selftext_np'] = BOS_posts_df['title_selftext']\n",
    "for loc in BOS_locations:\n",
    "    BOS_posts_df['title_selftext_np'] = BOS_posts_df['title_selftext_np'].apply(lambda x: x.replace(loc, \"PLACE\"))"
   ]
  },
  {
   "cell_type": "code",
   "execution_count": null,
   "metadata": {},
   "outputs": [],
   "source": [
    "X = pd.concat([BOS_posts_df['title_selftext_np'].dropna(), LA_posts_df['title_selftext_np'].dropna()], axis = 0)"
   ]
  },
  {
   "cell_type": "code",
   "execution_count": null,
   "metadata": {},
   "outputs": [],
   "source": [
    "X.shape"
   ]
  },
  {
   "cell_type": "code",
   "execution_count": null,
   "metadata": {},
   "outputs": [],
   "source": [
    "np.ones_like(LA_posts_df['title_selftext_np'].dropna()).sum()"
   ]
  },
  {
   "cell_type": "code",
   "execution_count": null,
   "metadata": {},
   "outputs": [],
   "source": [
    "X.dropna(inplace = True)"
   ]
  },
  {
   "cell_type": "code",
   "execution_count": null,
   "metadata": {},
   "outputs": [],
   "source": [
    "y = np.concatenate([np.zeros_like(BOS_posts_df['title_selftext_np'].dropna()), np.ones_like(LA_posts_df['title_selftext_np'].dropna())]).astype(int)"
   ]
  },
  {
   "cell_type": "code",
   "execution_count": null,
   "metadata": {},
   "outputs": [],
   "source": [
    "y.shape"
   ]
  },
  {
   "cell_type": "code",
   "execution_count": null,
   "metadata": {},
   "outputs": [],
   "source": [
    "train_X, test_X, train_y, test_y = train_test_split(X,y)"
   ]
  },
  {
   "cell_type": "code",
   "execution_count": null,
   "metadata": {},
   "outputs": [],
   "source": [
    "cvec = CountVectorizer(stop_words='english', lowercase = True, ngram_range=(1,2))#max_features=10_000)\n",
    "train_X_vec = cvec.fit_transform(train_X)\n",
    "test_X_vec = cvec.transform(test_X)"
   ]
  },
  {
   "cell_type": "code",
   "execution_count": null,
   "metadata": {},
   "outputs": [],
   "source": [
    "train_y.mean()"
   ]
  },
  {
   "cell_type": "code",
   "execution_count": null,
   "metadata": {},
   "outputs": [],
   "source": [
    "test_y.mean()"
   ]
  },
  {
   "cell_type": "code",
   "execution_count": null,
   "metadata": {},
   "outputs": [],
   "source": [
    "mnb = MultinomialNB()"
   ]
  },
  {
   "cell_type": "code",
   "execution_count": null,
   "metadata": {},
   "outputs": [],
   "source": [
    "mnb.fit(train_X_vec, train_y)\n",
    "mnb.score(train_X_vec, train_y)"
   ]
  },
  {
   "cell_type": "code",
   "execution_count": null,
   "metadata": {},
   "outputs": [],
   "source": [
    "mnb.score(test_X_vec, test_y)"
   ]
  },
  {
   "cell_type": "markdown",
   "metadata": {},
   "source": [
    "### NOW ON POSTS and COMMENTS"
   ]
  },
  {
   "cell_type": "code",
   "execution_count": 122,
   "metadata": {},
   "outputs": [],
   "source": [
    "X = pd.concat([AW_posts_df['title_selftext'].dropna(), AW_comments_df['body'].dropna(), AM_posts_df['title_selftext'].dropna(), AM_comments_df['body'].dropna()], axis = 0)"
   ]
  },
  {
   "cell_type": "code",
   "execution_count": 123,
   "metadata": {},
   "outputs": [
    {
     "data": {
      "text/plain": [
       "(7262,)"
      ]
     },
     "execution_count": 123,
     "metadata": {},
     "output_type": "execute_result"
    }
   ],
   "source": [
    "X.shape"
   ]
  },
  {
   "cell_type": "code",
   "execution_count": 124,
   "metadata": {},
   "outputs": [],
   "source": [
    "X.dropna(inplace = True)"
   ]
  },
  {
   "cell_type": "code",
   "execution_count": 125,
   "metadata": {},
   "outputs": [],
   "source": [
    "y = np.concatenate([np.zeros_like(AW_posts_df['title_selftext'].dropna()),\n",
    "                    np.zeros_like(AW_comments_df['body'].dropna()),\n",
    "                    np.ones_like(AM_posts_df['title_selftext'].dropna()),\n",
    "                    np.ones_like(AM_comments_df['body'].dropna())]).astype(int)"
   ]
  },
  {
   "cell_type": "code",
   "execution_count": 126,
   "metadata": {},
   "outputs": [
    {
     "data": {
      "text/plain": [
       "(7262,)"
      ]
     },
     "execution_count": 126,
     "metadata": {},
     "output_type": "execute_result"
    }
   ],
   "source": [
    "y.shape"
   ]
  },
  {
   "cell_type": "code",
   "execution_count": 127,
   "metadata": {},
   "outputs": [],
   "source": [
    "train_X, test_X, train_y, test_y = train_test_split(X,y)"
   ]
  },
  {
   "cell_type": "code",
   "execution_count": 128,
   "metadata": {},
   "outputs": [],
   "source": [
    "cvec = CountVectorizer(stop_words='english', lowercase = True, ngram_range=(1,2))#max_features=10_000)\n",
    "train_X_vec = cvec.fit_transform(train_X)\n",
    "test_X_vec = cvec.transform(test_X)"
   ]
  },
  {
   "cell_type": "code",
   "execution_count": 129,
   "metadata": {},
   "outputs": [
    {
     "data": {
      "text/plain": [
       "0.49136981270657365"
      ]
     },
     "execution_count": 129,
     "metadata": {},
     "output_type": "execute_result"
    }
   ],
   "source": [
    "train_y.mean()"
   ]
  },
  {
   "cell_type": "code",
   "execution_count": 130,
   "metadata": {},
   "outputs": [
    {
     "data": {
      "text/plain": [
       "0.4895374449339207"
      ]
     },
     "execution_count": 130,
     "metadata": {},
     "output_type": "execute_result"
    }
   ],
   "source": [
    "test_y.mean()"
   ]
  },
  {
   "cell_type": "code",
   "execution_count": 131,
   "metadata": {},
   "outputs": [],
   "source": [
    "mnb = MultinomialNB()"
   ]
  },
  {
   "cell_type": "code",
   "execution_count": 132,
   "metadata": {},
   "outputs": [
    {
     "data": {
      "text/plain": [
       "0.9507895703268454"
      ]
     },
     "execution_count": 132,
     "metadata": {},
     "output_type": "execute_result"
    }
   ],
   "source": [
    "mnb.fit(train_X_vec, train_y)\n",
    "mnb.score(train_X_vec, train_y)"
   ]
  },
  {
   "cell_type": "code",
   "execution_count": 133,
   "metadata": {},
   "outputs": [
    {
     "data": {
      "text/plain": [
       "0.6872246696035242"
      ]
     },
     "execution_count": 133,
     "metadata": {},
     "output_type": "execute_result"
    }
   ],
   "source": [
    "mnb.score(test_X_vec, test_y)"
   ]
  },
  {
   "cell_type": "code",
   "execution_count": 134,
   "metadata": {},
   "outputs": [
    {
     "data": {
      "image/png": "[encoded data removed]",
      "text/plain": [
       "<Figure size 432x288 with 2 Axes>"
      ]
     },
     "metadata": {
      "needs_background": "light"
     },
     "output_type": "display_data"
    }
   ],
   "source": [
    "plot_confusion_matrix(mnb, test_X_vec, test_y);"
   ]
  },
  {
   "cell_type": "code",
   "execution_count": 135,
   "metadata": {},
   "outputs": [
    {
     "data": {
      "text/plain": [
       "2     Would a girl get bothered if she sees the guy ...\n",
       "5     What is your opinion on a partner wearing used...\n",
       "6     I (guy) have varicocele, weird looking veins a...\n",
       "21    Why do you think the mid-20s (so the 24-26) ag...\n",
       "22    When do you wear sexy bodies (the lingerie). D...\n",
       "                            ...                        \n",
       "68       Dating a guy who was a virgin till 30[removed]\n",
       "70    Women of Reddit, have you ever been in a toxic...\n",
       "73    For those of you who have dated in the US and ...\n",
       "99    How should I approach prostate play with my BF...\n",
       "13    What are your feelings in regards to a signifi...\n",
       "Length: 337, dtype: object"
      ]
     },
     "execution_count": 135,
     "metadata": {},
     "output_type": "execute_result"
    }
   ],
   "source": [
    "X.iloc[[i for i in range(len(mnb.predict(test_X_vec))) if mnb.predict(test_X_vec[i]) == 1 and test_y[i] ==0]]"
   ]
  },
  {
   "cell_type": "code",
   "execution_count": 137,
   "metadata": {},
   "outputs": [
    {
     "name": "stdout",
     "output_type": "stream",
     "text": [
      "Fitting 5 folds for each of 10 candidates, totalling 50 fits\n"
     ]
    },
    {
     "name": "stderr",
     "output_type": "stream",
     "text": [
      "[Parallel(n_jobs=5)]: Using backend LokyBackend with 5 concurrent workers.\n"
     ]
    },
    {
     "name": "stdout",
     "output_type": "stream",
     "text": [
      "Best CV score of 0.6314 achieved with alpha = 1.0\n"
     ]
    },
    {
     "name": "stderr",
     "output_type": "stream",
     "text": [
      "[Parallel(n_jobs=5)]: Done  50 out of  50 | elapsed:    1.7s finished\n"
     ]
    }
   ],
   "source": [
    "X_vec = cvec.transform(X)\n",
    "\n",
    "params = {'alpha': np.linspace(0,1,10)}\n",
    "mnb_gs = GridSearchCV(mnb, params, n_jobs = 5, verbose = 1, cv = 5)\n",
    "\n",
    "mnb_gs.fit(X_vec, y)\n",
    "print(f\"Best CV score of {round(mnb_gs.best_score_,4)} achieved with alpha = {round(mnb_gs.best_params_['alpha'],4)}\")"
   ]
  },
  {
   "cell_type": "markdown",
   "metadata": {},
   "source": [
    "### MESSING WITH SENTIMENT"
   ]
  },
  {
   "cell_type": "code",
   "execution_count": 138,
   "metadata": {},
   "outputs": [
    {
     "data": {
      "text/plain": [
       "{'neg': 0.067, 'neu': 0.824, 'pos': 0.109, 'compound': 1.0}"
      ]
     },
     "execution_count": 138,
     "metadata": {},
     "output_type": "execute_result"
    }
   ],
   "source": [
    "sia.polarity_scores(AW_posts_corpus+AW_comments_corpus)"
   ]
  },
  {
   "cell_type": "code",
   "execution_count": 139,
   "metadata": {},
   "outputs": [
    {
     "data": {
      "text/plain": [
       "{'neg': 0.081, 'neu': 0.788, 'pos': 0.131, 'compound': 1.0}"
      ]
     },
     "execution_count": 139,
     "metadata": {},
     "output_type": "execute_result"
    }
   ],
   "source": [
    "sia.polarity_scores(AM_posts_corpus+AM_comments_corpus)"
   ]
  },
  {
   "cell_type": "code",
   "execution_count": 68,
   "metadata": {},
   "outputs": [],
   "source": [
    "AW_posts_df['sia_neg'] = AW_posts_df['title_selftext'].apply(lambda x: sia.polarity_scores(str(x))['neg'])\n",
    "AW_posts_df['sia_pos'] = AW_posts_df['title_selftext'].apply(lambda x: sia.polarity_scores(str(x))['pos'])\n",
    "AM_posts_df['sia_neg'] = AM_posts_df['title_selftext'].apply(lambda x: sia.polarity_scores(str(x))['neg'])\n",
    "AM_posts_df['sia_pos'] = AM_posts_df['title_selftext'].apply(lambda x: sia.polarity_scores(str(x))['pos'])\n",
    "\n",
    "AW_comments_df['sia_neg'] = AW_comments_df['body'].apply(lambda x: sia.polarity_scores(str(x))['neg'])\n",
    "AW_comments_df['sia_pos'] = AW_comments_df['body'].apply(lambda x: sia.polarity_scores(str(x))['pos'])\n",
    "AM_comments_df['sia_neg'] = AM_comments_df['body'].apply(lambda x: sia.polarity_scores(str(x))['neg'])\n",
    "AM_comments_df['sia_pos'] = AM_comments_df['body'].apply(lambda x: sia.polarity_scores(str(x))['pos'])"
   ]
  },
  {
   "cell_type": "code",
   "execution_count": 69,
   "metadata": {},
   "outputs": [
    {
     "data": {
      "image/png": "[encoded data removed]",
      "text/plain": [
       "<Figure size 1080x864 with 4 Axes>"
      ]
     },
     "metadata": {
      "needs_background": "light"
     },
     "output_type": "display_data"
    }
   ],
   "source": [
    "plt.figure(figsize = (15,12))\n",
    "plt.subplot(2,2,1)\n",
    "plt.title('strength of negative sentiment in posts')\n",
    "plt.hist(AW_posts_df['sia_neg'], histtype = 'step', label = 'women')\n",
    "plt.hist(AM_posts_df['sia_neg'], histtype = 'step', label = 'men')\n",
    "plt.axvline(sia.polarity_scores(AW_posts_corpus)['neg'], ls = '--', lw = 1, color = 'blue')\n",
    "plt.axvline(sia.polarity_scores(AM_posts_corpus)['neg'], ls = '--', lw = 1, color = 'orange')\n",
    "plt.legend();\n",
    "plt.subplot(2,2,2)\n",
    "plt.title('strength of positive sentiment in posts')\n",
    "plt.hist(AW_posts_df['sia_pos'], histtype = 'step', label = 'women')\n",
    "plt.hist(AW_posts_df['sia_pos'], histtype = 'step',label = 'men')\n",
    "plt.axvline(sia.polarity_scores(AW_posts_corpus)['pos'], ls = '--', lw = 1,  color = 'blue')\n",
    "plt.axvline(sia.polarity_scores(AM_posts_corpus)['pos'], ls = '--',lw = 1, color = 'orange')\n",
    "plt.legend();\n",
    "plt.subplot(2,2,3)\n",
    "plt.title('strength of negative sentiment in comments')\n",
    "plt.hist(AW_comments_df['sia_neg'], histtype = 'step', label = 'women')\n",
    "plt.hist(AM_comments_df['sia_neg'], histtype = 'step', label = 'men')\n",
    "plt.axvline(sia.polarity_scores(AW_comments_corpus)['neg'], ls = '--', lw = 1, color = 'blue')\n",
    "plt.axvline(sia.polarity_scores(AM_comments_corpus)['neg'], ls = '--', lw = 1, color = 'orange')\n",
    "plt.legend();\n",
    "plt.subplot(2,2,4)\n",
    "plt.title('strength of positive sentiment in comments')\n",
    "plt.hist(AW_comments_df['sia_pos'], histtype = 'step', label = 'women')\n",
    "plt.hist(AM_comments_df['sia_pos'], histtype = 'step',label = 'men')\n",
    "plt.axvline(sia.polarity_scores(AW_comments_corpus)['pos'], ls = '--', lw = 1,  color = 'blue')\n",
    "plt.axvline(sia.polarity_scores(AM_comments_corpus)['pos'], ls = '--',lw = 1, color = 'orange')\n",
    "plt.legend();"
   ]
  },
  {
   "cell_type": "code",
   "execution_count": null,
   "metadata": {},
   "outputs": [],
   "source": [
    "senti = pipeline('sentiment-analysis')"
   ]
  },
  {
   "cell_type": "code",
   "execution_count": 74,
   "metadata": {},
   "outputs": [],
   "source": [
    "AW_posts_df['senti_pn'] = AW_posts_df['title_selftext'].apply(lambda x: senti(str(x))[0]['label'] if len(str(x))< 512 else 'n/a')\n",
    "AW_posts_df['senti_score'] = AW_posts_df['title_selftext'].apply(lambda x: senti(str(x))[0]['score'] if len(str(x)) < 512 else 'n/a')"
   ]
  },
  {
   "cell_type": "code",
   "execution_count": null,
   "metadata": {},
   "outputs": [],
   "source": [
    "AM_posts_df['senti_pn'] = AM_posts_df['title_selftext'].apply(lambda x: senti(x)[0]['label'] if len(str(x)) < 512 else 'n/a')\n",
    "AM_posts_df['senti_score'] = AM_posts_df['title_selftext'].apply(lambda x: senti(x)[0]['score'] if len(str(x)) < 512 else 'n/a')"
   ]
  },
  {
   "cell_type": "code",
   "execution_count": null,
   "metadata": {},
   "outputs": [],
   "source": [
    "AW_comments_df['senti_pn'] = AW_comments_df['body'].apply(lambda x: senti(x)[0]['label'] if len(str(x)) < 512 else 'n/a')\n",
    "AW_comments_df['senti_score'] = AW_comments_df['body'].apply(lambda x: senti(x)[0]['score'] if len(str(x)) < 512 else 'n/a')"
   ]
  },
  {
   "cell_type": "code",
   "execution_count": null,
   "metadata": {},
   "outputs": [],
   "source": [
    "AM_comments_df['senti_pn'] = AM_comments_df['body'].apply(lambda x: senti(x)[0]['label'] if len(str(x)) < 512 else 'n/a')\n",
    "AM_comments_df['senti_score'] = AM_comments_df['body'].apply(lambda x: senti(x)[0]['score'] if len(str(x)) < 512 else 'n/a')"
   ]
  },
  {
   "cell_type": "code",
   "execution_count": 77,
   "metadata": {},
   "outputs": [
    {
     "data": {
      "text/plain": [
       "100"
      ]
     },
     "execution_count": 77,
     "metadata": {},
     "output_type": "execute_result"
    }
   ],
   "source": [
    "len(AW_posts_df[AW_posts_df['senti_pn'] == 'POSITIVE'])"
   ]
  },
  {
   "cell_type": "code",
   "execution_count": 78,
   "metadata": {},
   "outputs": [
    {
     "data": {
      "text/plain": [
       "790"
      ]
     },
     "execution_count": 78,
     "metadata": {},
     "output_type": "execute_result"
    }
   ],
   "source": [
    "len(AW_posts_df[AW_posts_df['senti_pn'] == 'NEGATIVE'])"
   ]
  },
  {
   "cell_type": "code",
   "execution_count": null,
   "metadata": {},
   "outputs": [],
   "source": [
    "len(AM_posts_df[AM_posts_df['senti_pn'] == 'POSITIVE'])"
   ]
  },
  {
   "cell_type": "code",
   "execution_count": 97,
   "metadata": {},
   "outputs": [
    {
     "data": {
      "text/plain": [
       "FreqDist({'I': 1736, 'removed': 715, 'like': 253, 'What': 246, \"'s\": 242, \"n't\": 230, 'How': 185, 'would': 177, 'If': 169, 'think': 162, ...})"
      ]
     },
     "execution_count": 97,
     "metadata": {},
     "output_type": "execute_result"
    }
   ],
   "source": [
    "AW_tokens = word_tokenize(AW_posts_corpus+AW_comments_corpus)\n",
    "AW_tokens_no_stops = [token for token in AW_tokens if not token in stops]\n",
    "\n",
    "FreqDist(AW_tokens_no_stops)"
   ]
  },
  {
   "cell_type": "code",
   "execution_count": 98,
   "metadata": {},
   "outputs": [
    {
     "data": {
      "text/plain": [
       "FreqDist({'I': 1728, 'removed': 619, 'like': 307, \"'s\": 276, \"n't\": 265, 'What': 250, \"''\": 248, '``': 229, '”': 177, 'How': 175, ...})"
      ]
     },
     "execution_count": 98,
     "metadata": {},
     "output_type": "execute_result"
    }
   ],
   "source": [
    "AM_tokens = word_tokenize(AM_posts_corpus+AM_comments_corpus)\n",
    "AM_tokens_no_stops = [token for token in AM_tokens if not token in stops]\n",
    "\n",
    "FreqDist(AM_tokens_no_stops)"
   ]
  },
  {
   "cell_type": "markdown",
   "metadata": {},
   "source": [
    "### OTHER MODELS"
   ]
  },
  {
   "cell_type": "markdown",
   "metadata": {},
   "source": [
    "**K-Nearest Neighbors**"
   ]
  },
  {
   "cell_type": "code",
   "execution_count": 140,
   "metadata": {},
   "outputs": [
    {
     "data": {
      "text/plain": [
       "0.6970253396988616"
      ]
     },
     "execution_count": 140,
     "metadata": {},
     "output_type": "execute_result"
    }
   ],
   "source": [
    "knn = KNeighborsClassifier()\n",
    "knn.fit(train_X_vec, train_y)\n",
    "knn.score(train_X_vec, train_y)"
   ]
  },
  {
   "cell_type": "code",
   "execution_count": 141,
   "metadata": {},
   "outputs": [
    {
     "data": {
      "text/plain": [
       "0.5468061674008811"
      ]
     },
     "execution_count": 141,
     "metadata": {},
     "output_type": "execute_result"
    }
   ],
   "source": [
    "knn.score(test_X_vec, test_y)"
   ]
  },
  {
   "cell_type": "code",
   "execution_count": 142,
   "metadata": {},
   "outputs": [],
   "source": [
    "X_vec = cvec.transform(X)"
   ]
  },
  {
   "cell_type": "code",
   "execution_count": 143,
   "metadata": {},
   "outputs": [
    {
     "name": "stdout",
     "output_type": "stream",
     "text": [
      "k = 1 --> score = 0.5572\n",
      "k = 2 --> score = 0.5461\n",
      "k = 3 --> score = 0.5551\n",
      "k = 4 --> score = 0.5376\n",
      "k = 5 --> score = 0.5311\n",
      "k = 6 --> score = 0.5361\n",
      "k = 7 --> score = 0.5344\n",
      "k = 8 --> score = 0.5387\n",
      "k = 9 --> score = 0.5309\n",
      "k = 10 --> score = 0.5343\n"
     ]
    }
   ],
   "source": [
    "for k in range(1,11):\n",
    "    knn = KNeighborsClassifier(k)\n",
    "    print(f\"k = {k} --> score = {round(cross_val_score(knn, X_vec, y).mean(),4)}\")"
   ]
  },
  {
   "cell_type": "markdown",
   "metadata": {},
   "source": [
    "**Random Forest Classifier**"
   ]
  },
  {
   "cell_type": "code",
   "execution_count": 144,
   "metadata": {},
   "outputs": [
    {
     "data": {
      "text/plain": [
       "0.987146529562982"
      ]
     },
     "execution_count": 144,
     "metadata": {},
     "output_type": "execute_result"
    }
   ],
   "source": [
    "rfc = RandomForestClassifier()\n",
    "rfc.fit(train_X_vec, train_y)\n",
    "rfc.score(train_X_vec, train_y)"
   ]
  },
  {
   "cell_type": "code",
   "execution_count": 145,
   "metadata": {},
   "outputs": [
    {
     "data": {
      "text/plain": [
       "0.704295154185022"
      ]
     },
     "execution_count": 145,
     "metadata": {},
     "output_type": "execute_result"
    }
   ],
   "source": [
    "rfc.score(test_X_vec, test_y)"
   ]
  },
  {
   "cell_type": "code",
   "execution_count": 146,
   "metadata": {},
   "outputs": [
    {
     "name": "stdout",
     "output_type": "stream",
     "text": [
      "Fitting 5 folds for each of 500 candidates, totalling 2500 fits\n"
     ]
    },
    {
     "name": "stderr",
     "output_type": "stream",
     "text": [
      "[Parallel(n_jobs=5)]: Using backend LokyBackend with 5 concurrent workers.\n",
      "[Parallel(n_jobs=5)]: Done  40 tasks      | elapsed:    4.5s\n",
      "[Parallel(n_jobs=5)]: Done 190 tasks      | elapsed:   32.5s\n",
      "[Parallel(n_jobs=5)]: Done 440 tasks      | elapsed:  2.8min\n",
      "[Parallel(n_jobs=5)]: Done 790 tasks      | elapsed:  4.8min\n",
      "[Parallel(n_jobs=5)]: Done 1240 tasks      | elapsed:  8.0min\n",
      "[Parallel(n_jobs=5)]: Done 1790 tasks      | elapsed: 12.1min\n",
      "[Parallel(n_jobs=5)]: Done 2440 tasks      | elapsed: 16.9min\n",
      "[Parallel(n_jobs=5)]: Done 2500 out of 2500 | elapsed: 17.5min finished\n"
     ]
    },
    {
     "data": {
      "text/plain": [
       "0.6290347319784846"
      ]
     },
     "execution_count": 146,
     "metadata": {},
     "output_type": "execute_result"
    }
   ],
   "source": [
    "params = {'bootstrap': [True],\n",
    " 'ccp_alpha': np.linspace(0,1,5),\n",
    " 'criterion': ['gini'],\n",
    " 'max_depth': [2,5,10,15],\n",
    " 'min_samples_leaf': [1,2,3,4,5],\n",
    " 'n_estimators': [25,50,75,100,125]}\n",
    "\n",
    "rfc_gs = GridSearchCV(rfc, params, cv = 5, n_jobs = 5, verbose = 1)\n",
    "\n",
    "rfc_gs.fit(X_vec, y)\n",
    "rfc_gs.best_score_"
   ]
  },
  {
   "cell_type": "markdown",
   "metadata": {},
   "source": [
    "**Logistic Regression**"
   ]
  },
  {
   "cell_type": "code",
   "execution_count": 147,
   "metadata": {},
   "outputs": [
    {
     "data": {
      "text/plain": [
       "0.9799853103195005"
      ]
     },
     "execution_count": 147,
     "metadata": {},
     "output_type": "execute_result"
    }
   ],
   "source": [
    "logreg = LogisticRegression()\n",
    "logreg.fit(train_X_vec, train_y)\n",
    "logreg.score(train_X_vec, train_y)"
   ]
  },
  {
   "cell_type": "code",
   "execution_count": 148,
   "metadata": {},
   "outputs": [
    {
     "data": {
      "text/plain": [
       "0.7147577092511013"
      ]
     },
     "execution_count": 148,
     "metadata": {},
     "output_type": "execute_result"
    }
   ],
   "source": [
    "logreg.score(test_X_vec, test_y)"
   ]
  },
  {
   "cell_type": "markdown",
   "metadata": {},
   "source": [
    "**XGBC**"
   ]
  },
  {
   "cell_type": "code",
   "execution_count": 149,
   "metadata": {},
   "outputs": [
    {
     "data": {
      "text/plain": [
       "0.7871832537642306"
      ]
     },
     "execution_count": 149,
     "metadata": {},
     "output_type": "execute_result"
    }
   ],
   "source": [
    "xgbc = XGBClassifier(use_label_encoder=False, eval_metric = 'logloss')\n",
    "xgbc.fit(train_X_vec, train_y)\n",
    "xgbc.score(train_X_vec, train_y)"
   ]
  },
  {
   "cell_type": "code",
   "execution_count": 150,
   "metadata": {},
   "outputs": [
    {
     "data": {
      "text/plain": [
       "0.670704845814978"
      ]
     },
     "execution_count": 150,
     "metadata": {},
     "output_type": "execute_result"
    }
   ],
   "source": [
    "xgbc.score(test_X_vec, test_y)"
   ]
  },
  {
   "cell_type": "code",
   "execution_count": null,
   "metadata": {},
   "outputs": [],
   "source": []
  }
 ],
 "metadata": {
  "kernelspec": {
   "display_name": "Python 3",
   "language": "python",
   "name": "python3"
  },
  "language_info": {
   "codemirror_mode": {
    "name": "ipython",
    "version": 3
   },
   "file_extension": ".py",
   "mimetype": "text/x-python",
   "name": "python",
   "nbconvert_exporter": "python",
   "pygments_lexer": "ipython3",
   "version": "3.8.3"
  }
 },
 "nbformat": 4,
 "nbformat_minor": 4
}
