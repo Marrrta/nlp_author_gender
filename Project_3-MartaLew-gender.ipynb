{
 "cells": [
  {
   "cell_type": "code",
   "execution_count": 2,
   "metadata": {},
   "outputs": [],
   "source": [
    "import requests\n",
    "import time\n",
    "import datetime\n",
    "import pandas as pd\n",
    "import numpy as np\n",
    "import matplotlib.pyplot as plt\n",
    "import seaborn as sns\n",
    "import re\n",
    "import warnings\n",
    "from nltk.tag import pos_tag\n",
    "from nltk.corpus import stopwords\n",
    "from nltk.tokenize import word_tokenize, wordpunct_tokenize\n",
    "from nltk import FreqDist\n",
    "from nltk.util import ngrams\n",
    "from nltk.stem import WordNetLemmatizer, PorterStemmer\n",
    "from sklearn.model_selection import train_test_split, cross_val_score, GridSearchCV\n",
    "from sklearn.pipeline import Pipeline\n",
    "from sklearn.naive_bayes import MultinomialNB\n",
    "from sklearn.linear_model import LogisticRegression\n",
    "from sklearn.neighbors import KNeighborsClassifier\n",
    "from sklearn.ensemble import RandomForestClassifier, BaggingClassifier, GradientBoostingClassifier, AdaBoostClassifier, VotingClassifier\n",
    "from sklearn.metrics import confusion_matrix, plot_confusion_matrix\n",
    "from sklearn.feature_extraction.text import CountVectorizer, TfidfVectorizer\n",
    "from nltk.sentiment import sentiment_analyzer, vader, SentimentAnalyzer, SentimentIntensityAnalyzer\n",
    "from xgboost import XGBClassifier\n",
    "import gensim\n",
    "import gensim.downloader as api\n",
    "from gensim.models.word2vec import Word2Vec\n",
    "from transformers import pipeline\n",
    "\n",
    "%config InlineBackend.figure_format = 'retina'"
   ]
  },
  {
   "cell_type": "markdown",
   "metadata": {},
   "source": [
    "### Getting data from Ask Men Subreddit ###"
   ]
  },
  {
   "cell_type": "code",
   "execution_count": null,
   "metadata": {},
   "outputs": [],
   "source": [
    "url_submissions = 'https://api.pushshift.io/reddit/search/submission'\n",
    "url_comments = 'https://api.pushshift.io/reddit/search/comment'"
   ]
  },
  {
   "cell_type": "code",
   "execution_count": null,
   "metadata": {},
   "outputs": [],
   "source": [
    "AM_posts_cols = ['all_awardings', 'allow_live_comments', 'author',\n",
    "       'author_flair_css_class', 'author_flair_richtext', 'author_flair_text',\n",
    "       'author_flair_type', 'author_fullname', 'author_patreon_flair',\n",
    "       'author_premium', 'awarders', 'can_mod_post', 'contest_mode',\n",
    "       'created_utc', 'domain', 'full_link', 'gildings', 'id',\n",
    "       'is_crosspostable', 'is_meta', 'is_original_content',\n",
    "       'is_reddit_media_domain', 'is_robot_indexable', 'is_self', 'is_video',\n",
    "       'link_flair_background_color', 'link_flair_richtext',\n",
    "       'link_flair_text_color', 'link_flair_type', 'locked', 'media_only',\n",
    "       'no_follow', 'num_comments', 'num_crossposts', 'over_18',\n",
    "       'parent_whitelist_status', 'permalink', 'pinned', 'pwls',\n",
    "       'removed_by_category', 'retrieved_on', 'score', 'selftext',\n",
    "       'send_replies', 'spoiler', 'stickied', 'subreddit', 'subreddit_id',\n",
    "       'subreddit_subscribers', 'subreddit_type', 'thumbnail', 'title',\n",
    "       'total_awards_received', 'treatment_tags', 'upvote_ratio', 'url',\n",
    "       'whitelist_status', 'wls', 'post_hint', 'preview',\n",
    "       'author_flair_background_color', 'author_flair_text_color',\n",
    "       'banned_by']"
   ]
  },
  {
   "cell_type": "code",
   "execution_count": null,
   "metadata": {},
   "outputs": [],
   "source": [
    "AM_posts_df = pd.DataFrame()#columns = AM_posts_cols)\n",
    "before_params = [1609187173] # first timestamp is equivalent to now \n",
    "for i in range(1, 21):\n",
    "    resp = requests.get(url_submissions, params = {'subreddit': 'AskMen','size': 100,'before': before_params[-1]})\n",
    "    try: \n",
    "        batch = pd.DataFrame(resp.json()['data'])\n",
    "        AM_posts_df = pd.concat([AM_posts_df, batch], axis = 0 )\n",
    "        before_params.append(batch['created_utc'].min())\n",
    "        time.sleep(2)\n",
    "    except:\n",
    "        print(resp.status_code)"
   ]
  },
  {
   "cell_type": "code",
   "execution_count": null,
   "metadata": {},
   "outputs": [],
   "source": [
    "AM_posts_df.shape"
   ]
  },
  {
   "cell_type": "code",
   "execution_count": null,
   "metadata": {},
   "outputs": [],
   "source": [
    "AM_posts_df['title_selftext'] = AM_posts_df['title']+AM_posts_df['selftext']\n",
    "AM_posts_df[['title_selftext', 'title', 'selftext']].head()"
   ]
  },
  {
   "cell_type": "code",
   "execution_count": null,
   "metadata": {},
   "outputs": [],
   "source": [
    "AM_comments_cols = ['all_awardings', 'associated_award', 'author',\n",
    "       'author_flair_background_color', 'author_flair_css_class',\n",
    "       'author_flair_richtext', 'author_flair_template_id',\n",
    "       'author_flair_text', 'author_flair_text_color', 'author_flair_type',\n",
    "       'author_fullname', 'author_patreon_flair', 'author_premium', 'awarders',\n",
    "       'body', 'collapsed_because_crowd_control', 'comment_type',\n",
    "       'created_utc', 'gildings', 'id', 'is_submitter', 'link_id', 'locked',\n",
    "       'no_follow', 'parent_id', 'permalink', 'retrieved_on', 'score',\n",
    "       'send_replies', 'stickied', 'subreddit', 'subreddit_id',\n",
    "       'top_awarded_type', 'total_awards_received', 'treatment_tags',\n",
    "       'distinguished']"
   ]
  },
  {
   "cell_type": "code",
   "execution_count": null,
   "metadata": {},
   "outputs": [],
   "source": [
    "AM_comments_df = pd.DataFrame(columns = AM_comments_cols)\n",
    "before_params = [1609187173] # first timestamp is equivalent to now \n",
    "for i in range(1, 21):\n",
    "    resp = requests.get(url_comments, params = {'subreddit': 'AskMen','size': 100,'before': before_params[-1]})\n",
    "    try: \n",
    "        batch = pd.DataFrame(resp.json()['data'])\n",
    "        AM_comments_df = pd.concat([AM_comments_df, batch], axis = 0 )\n",
    "        before_params.append(batch['created_utc'].min())\n",
    "        time.sleep(2)\n",
    "    except:\n",
    "        print(resp.status_code)"
   ]
  },
  {
   "cell_type": "code",
   "execution_count": 5,
   "metadata": {},
   "outputs": [
    {
     "data": {
      "text/plain": [
       "(1800, 41)"
      ]
     },
     "execution_count": 5,
     "metadata": {},
     "output_type": "execute_result"
    }
   ],
   "source": [
    "AM_comments_df.shape"
   ]
  },
  {
   "cell_type": "markdown",
   "metadata": {},
   "source": [
    "### Getting data from AskWomen Subreddit ###"
   ]
  },
  {
   "cell_type": "code",
   "execution_count": null,
   "metadata": {},
   "outputs": [],
   "source": [
    "resp = requests.get(url_submissions, params = {'subreddit': 'AskWomen','size': 100,'before': before_params[-1]})\n",
    "pd.DataFrame(resp.json()['data']).columns"
   ]
  },
  {
   "cell_type": "code",
   "execution_count": null,
   "metadata": {},
   "outputs": [],
   "source": [
    "AW_posts_cols = ['all_awardings', 'allow_live_comments', 'author',\n",
    "       'author_flair_css_class', 'author_flair_richtext', 'author_flair_text',\n",
    "       'author_flair_type', 'author_fullname', 'author_patreon_flair',\n",
    "       'author_premium', 'awarders', 'can_mod_post', 'contest_mode',\n",
    "       'created_utc', 'domain', 'full_link', 'gildings', 'id',\n",
    "       'is_crosspostable', 'is_meta', 'is_original_content',\n",
    "       'is_reddit_media_domain', 'is_robot_indexable', 'is_self', 'is_video',\n",
    "       'link_flair_background_color', 'link_flair_richtext',\n",
    "       'link_flair_text_color', 'link_flair_type', 'locked', 'media_only',\n",
    "       'no_follow', 'num_comments', 'num_crossposts', 'over_18',\n",
    "       'parent_whitelist_status', 'permalink', 'pinned', 'post_hint',\n",
    "       'preview', 'pwls', 'removed_by_category', 'retrieved_on', 'score',\n",
    "       'selftext', 'send_replies', 'spoiler', 'stickied', 'subreddit',\n",
    "       'subreddit_id', 'subreddit_subscribers', 'subreddit_type',\n",
    "       'suggested_sort', 'thumbnail', 'title', 'total_awards_received',\n",
    "       'treatment_tags', 'upvote_ratio', 'url', 'whitelist_status', 'wls',\n",
    "       'author_flair_template_id', 'author_flair_text_color']"
   ]
  },
  {
   "cell_type": "code",
   "execution_count": null,
   "metadata": {},
   "outputs": [],
   "source": [
    "AW_posts_df = pd.DataFrame(columns = AW_posts_cols)\n",
    "before_params = [1609187173] # first timestamp is equivalent to now \n",
    "for i in range(1, 21):\n",
    "    resp = requests.get(url_submissions, params = {'subreddit': 'AskWomen','size': 100,'before': before_params[-1]})\n",
    "    try: \n",
    "        batch = pd.DataFrame(resp.json()['data'])\n",
    "        AW_posts_df = pd.concat([AW_posts_df, batch], axis = 0 )\n",
    "        before_params.append(batch['created_utc'].min())\n",
    "        time.sleep(2)\n",
    "    except:\n",
    "        print(resp.status_code)"
   ]
  },
  {
   "cell_type": "code",
   "execution_count": 4,
   "metadata": {},
   "outputs": [
    {
     "data": {
      "text/plain": [
       "(2000, 72)"
      ]
     },
     "execution_count": 4,
     "metadata": {},
     "output_type": "execute_result"
    }
   ],
   "source": [
    "AW_posts_df.shape"
   ]
  },
  {
   "cell_type": "code",
   "execution_count": null,
   "metadata": {},
   "outputs": [],
   "source": [
    "AW_posts_df['title_selftext'] = AW_posts_df['title']+AW_posts_df['selftext']\n",
    "AW_posts_df[['title_selftext', 'title', 'selftext']].head()"
   ]
  },
  {
   "cell_type": "code",
   "execution_count": null,
   "metadata": {},
   "outputs": [],
   "source": [
    "AW_comments_cols = ['all_awardings', 'associated_award', 'author',\n",
    "       'author_flair_background_color', 'author_flair_css_class',\n",
    "       'author_flair_richtext', 'author_flair_template_id',\n",
    "       'author_flair_text', 'author_flair_text_color', 'author_flair_type',\n",
    "       'author_fullname', 'author_patreon_flair', 'author_premium', 'awarders',\n",
    "       'body', 'collapsed_because_crowd_control', 'comment_type',\n",
    "       'created_utc', 'distinguished', 'gildings', 'id', 'is_submitter',\n",
    "       'link_id', 'locked', 'no_follow', 'parent_id', 'permalink',\n",
    "       'retrieved_on', 'score', 'send_replies', 'stickied', 'subreddit',\n",
    "       'subreddit_id', 'top_awarded_type', 'total_awards_received',\n",
    "       'treatment_tags']"
   ]
  },
  {
   "cell_type": "code",
   "execution_count": null,
   "metadata": {},
   "outputs": [],
   "source": [
    "AW_comments_df = pd.DataFrame(columns = AW_comments_cols)\n",
    "before_params = [1609187173] # first timestamp is equivalent to now \n",
    "for i in range(1, 21):\n",
    "    resp = requests.get(url_comments, params = {'subreddit': 'AskWomen','size': 100,'before': before_params[-1]})\n",
    "    try: \n",
    "        batch = pd.DataFrame(resp.json()['data'])\n",
    "        AW_comments_df = pd.concat([AW_comments_df, batch], axis = 0 )\n",
    "        before_params.append(batch['created_utc'].min())\n",
    "        time.sleep(2)\n",
    "    except:\n",
    "        print(resp.status_code)"
   ]
  },
  {
   "cell_type": "code",
   "execution_count": 3,
   "metadata": {},
   "outputs": [
    {
     "data": {
      "text/plain": [
       "(1700, 41)"
      ]
     },
     "execution_count": 3,
     "metadata": {},
     "output_type": "execute_result"
    }
   ],
   "source": [
    "AW_comments_df.shape"
   ]
  },
  {
   "cell_type": "code",
   "execution_count": null,
   "metadata": {},
   "outputs": [],
   "source": [
    "AW_comments_df['body']"
   ]
  },
  {
   "cell_type": "markdown",
   "metadata": {},
   "source": [
    "### DATA EXPORTS"
   ]
  },
  {
   "cell_type": "code",
   "execution_count": null,
   "metadata": {},
   "outputs": [],
   "source": [
    "AW_comments_df.to_csv('aw_com.csv')\n",
    "AW_posts_df.to_csv('aw_pos.csv')\n",
    "AM_comments_df.to_csv('am_com.csv')\n",
    "AM_posts_df.to_csv('am_pos.csv')"
   ]
  },
  {
   "cell_type": "code",
   "execution_count": 3,
   "metadata": {},
   "outputs": [],
   "source": [
    "AW_comments_df = pd.read_csv('aw_com.csv')\n",
    "AW_posts_df = pd.read_csv('aw_pos.csv')\n",
    "AM_comments_df = pd.read_csv('am_com.csv')\n",
    "AM_posts_df = pd.read_csv('am_pos.csv')"
   ]
  },
  {
   "cell_type": "markdown",
   "metadata": {},
   "source": [
    "### Dealing with stop words"
   ]
  },
  {
   "cell_type": "code",
   "execution_count": 14,
   "metadata": {},
   "outputs": [],
   "source": [
    "stops = stopwords.words('english')\n",
    "additions = [\"!\",\"?\",\".\",\":\",\";\", \",\", \"\\'\", \"\\\"\",\"*\", \"'\", '\"', \"[\", ']', '(', \")\", '’', '-', '...', '&', '|']\n",
    "stops.extend(additions)"
   ]
  },
  {
   "cell_type": "markdown",
   "metadata": {},
   "source": [
    "_More to be done here later_"
   ]
  },
  {
   "cell_type": "markdown",
   "metadata": {},
   "source": [
    "### Creating corpora"
   ]
  },
  {
   "cell_type": "code",
   "execution_count": 12,
   "metadata": {},
   "outputs": [],
   "source": [
    "AW_comments_corpus = ''\n",
    "for i in range(len(AW_comments_df)):\n",
    "    AW_comments_corpus+=str(AW_comments_df.iloc[i,list(AW_comments_df.columns).index('body')])\n",
    "\n",
    "AM_comments_corpus = ''\n",
    "for i in range(len(AM_comments_df)):\n",
    "    AM_comments_corpus+=str(AM_comments_df.iloc[i,list(AM_comments_df.columns).index('body')])\n",
    "\n",
    "AW_posts_corpus = ''\n",
    "for i in range(len(AW_posts_df)):\n",
    "    AW_posts_corpus+=str(AW_posts_df.iloc[i,list(AW_posts_df.columns).index('title_selftext')])\n",
    "    \n",
    "AM_posts_corpus = ''\n",
    "for i in range(len(AM_posts_df)):\n",
    "    AM_posts_corpus+=str(AM_posts_df.iloc[i,list(AM_posts_df.columns).index('title_selftext')])"
   ]
  },
  {
   "cell_type": "markdown",
   "metadata": {},
   "source": [
    "### CLEANING UP THE GARBAGE"
   ]
  },
  {
   "cell_type": "code",
   "execution_count": 19,
   "metadata": {},
   "outputs": [],
   "source": [
    "def clean_garbage():\n",
    "    regexps = [r'\\\\+', r'\\\\n+', r'\\\\r+', r'http\\S+', r'\"+', r\"'+\", r\"__+\",r\"--+\", r\"==+\", r'\\d+', r'/r\\S+', r'\\u200d', r'“+',r'”+']\n",
    "    trash = ['[removed]', '(', ')', 'removed', '_', '*']\n",
    "    for regexp in regexps:\n",
    "        AM_posts_df['title_selftext'] = AM_posts_df['title_selftext'].apply(lambda x: re.sub(regexp, \"\", str(x), 0, re.MULTILINE))\n",
    "        AW_posts_df['title_selftext'] = AW_posts_df['title_selftext'].apply(lambda x: re.sub(regexp, \"\", str(x), 0, re.MULTILINE))\n",
    "        AM_comments_df['body'] = AM_comments_df['body'].apply(lambda x: re.sub(regexp, \"\", str(x), 0, re.MULTILINE))\n",
    "        AW_comments_df['body'] = AW_comments_df['body'].apply(lambda x: re.sub(regexp, \"\", str(x), 0, re.MULTILINE))\n",
    "    for pot in trash:\n",
    "        AM_posts_df['title_selftext'] = AM_posts_df['title_selftext'].apply(lambda x: x.replace(pot, \"\"))\n",
    "        AW_posts_df['title_selftext'] = AW_posts_df['title_selftext'].apply(lambda x: x.replace(pot, \"\"))\n",
    "        AM_comments_df['body'] = AM_comments_df['body'].apply(lambda x: x.replace(pot, \"\"))\n",
    "        AW_comments_df['body'] = AW_comments_df['body'].apply(lambda x: x.replace(pot, \"\"))"
   ]
  },
  {
   "cell_type": "code",
   "execution_count": 23,
   "metadata": {},
   "outputs": [],
   "source": [
    "clean_garbage()"
   ]
  },
  {
   "cell_type": "markdown",
   "metadata": {},
   "source": [
    "### Sentiment analysis"
   ]
  },
  {
   "cell_type": "code",
   "execution_count": null,
   "metadata": {},
   "outputs": [],
   "source": [
    "sia = SentimentIntensityAnalyzer()"
   ]
  },
  {
   "cell_type": "code",
   "execution_count": null,
   "metadata": {},
   "outputs": [],
   "source": [
    "sia.polarity_scores(AW_comments_corpus)"
   ]
  },
  {
   "cell_type": "code",
   "execution_count": null,
   "metadata": {},
   "outputs": [],
   "source": [
    "sia.polarity_scores(AM_comments_corpus)"
   ]
  },
  {
   "cell_type": "markdown",
   "metadata": {},
   "source": [
    "_How about for each comment separately?_"
   ]
  },
  {
   "cell_type": "markdown",
   "metadata": {},
   "source": [
    "### MESSING WITH SENTIMENT"
   ]
  },
  {
   "cell_type": "code",
   "execution_count": 6,
   "metadata": {},
   "outputs": [],
   "source": [
    "sia = SentimentIntensityAnalyzer()"
   ]
  },
  {
   "cell_type": "code",
   "execution_count": null,
   "metadata": {},
   "outputs": [],
   "source": [
    "sia.polarity_scores(AW_posts_corpus+AW_comments_corpus)"
   ]
  },
  {
   "cell_type": "code",
   "execution_count": null,
   "metadata": {},
   "outputs": [],
   "source": [
    "sia.polarity_scores(AM_posts_corpus+AM_comments_corpus)"
   ]
  },
  {
   "cell_type": "code",
   "execution_count": 7,
   "metadata": {},
   "outputs": [],
   "source": [
    "AW_posts_df['sia_neg'] = AW_posts_df['title_selftext'].apply(lambda x: sia.polarity_scores(str(x))['neg'])\n",
    "AW_posts_df['sia_pos'] = AW_posts_df['title_selftext'].apply(lambda x: sia.polarity_scores(str(x))['pos'])\n",
    "AM_posts_df['sia_neg'] = AM_posts_df['title_selftext'].apply(lambda x: sia.polarity_scores(str(x))['neg'])\n",
    "AM_posts_df['sia_pos'] = AM_posts_df['title_selftext'].apply(lambda x: sia.polarity_scores(str(x))['pos'])\n",
    "\n",
    "AW_comments_df['sia_neg'] = AW_comments_df['body'].apply(lambda x: sia.polarity_scores(str(x))['neg'])\n",
    "AW_comments_df['sia_pos'] = AW_comments_df['body'].apply(lambda x: sia.polarity_scores(str(x))['pos'])\n",
    "AM_comments_df['sia_neg'] = AM_comments_df['body'].apply(lambda x: sia.polarity_scores(str(x))['neg'])\n",
    "AM_comments_df['sia_pos'] = AM_comments_df['body'].apply(lambda x: sia.polarity_scores(str(x))['pos'])"
   ]
  },
  {
   "cell_type": "code",
   "execution_count": null,
   "metadata": {},
   "outputs": [],
   "source": [
    "plt.figure(figsize = (15,12))\n",
    "plt.subplot(2,2,1)\n",
    "plt.title('strength of negative sentiment in posts')\n",
    "plt.hist(AW_posts_df['sia_neg'], histtype = 'step', label = 'women')\n",
    "plt.hist(AM_posts_df['sia_neg'], histtype = 'step', label = 'men')\n",
    "plt.axvline(sia.polarity_scores(AW_posts_corpus)['neg'], ls = '--', lw = 1, color = 'blue')\n",
    "plt.axvline(sia.polarity_scores(AM_posts_corpus)['neg'], ls = '--', lw = 1, color = 'orange')\n",
    "plt.legend();\n",
    "plt.subplot(2,2,2)\n",
    "plt.title('strength of positive sentiment in posts')\n",
    "plt.hist(AW_posts_df['sia_pos'], histtype = 'step', label = 'women')\n",
    "plt.hist(AW_posts_df['sia_pos'], histtype = 'step',label = 'men')\n",
    "plt.axvline(sia.polarity_scores(AW_posts_corpus)['pos'], ls = '--', lw = 1,  color = 'blue')\n",
    "plt.axvline(sia.polarity_scores(AM_posts_corpus)['pos'], ls = '--',lw = 1, color = 'orange')\n",
    "plt.legend();\n",
    "plt.subplot(2,2,3)\n",
    "plt.title('strength of negative sentiment in comments')\n",
    "plt.hist(AW_comments_df['sia_neg'], histtype = 'step', label = 'women')\n",
    "plt.hist(AM_comments_df['sia_neg'], histtype = 'step', label = 'men')\n",
    "plt.axvline(sia.polarity_scores(AW_comments_corpus)['neg'], ls = '--', lw = 1, color = 'blue')\n",
    "plt.axvline(sia.polarity_scores(AM_comments_corpus)['neg'], ls = '--', lw = 1, color = 'orange')\n",
    "plt.legend();\n",
    "plt.subplot(2,2,4)\n",
    "plt.title('strength of positive sentiment in comments')\n",
    "plt.hist(AW_comments_df['sia_pos'], histtype = 'step', label = 'women')\n",
    "plt.hist(AM_comments_df['sia_pos'], histtype = 'step',label = 'men')\n",
    "plt.axvline(sia.polarity_scores(AW_comments_corpus)['pos'], ls = '--', lw = 1,  color = 'blue')\n",
    "plt.axvline(sia.polarity_scores(AM_comments_corpus)['pos'], ls = '--',lw = 1, color = 'orange')\n",
    "plt.legend();"
   ]
  },
  {
   "cell_type": "code",
   "execution_count": 397,
   "metadata": {},
   "outputs": [
    {
     "name": "stderr",
     "output_type": "stream",
     "text": [
      "Some layers from the model checkpoint at distilbert-base-uncased-finetuned-sst-2-english were not used when initializing TFDistilBertModel: ['pre_classifier', 'classifier', 'dropout_19']\n",
      "- This IS expected if you are initializing TFDistilBertModel from the checkpoint of a model trained on another task or with another architecture (e.g. initializing a BertForSequenceClassification model from a BertForPreTraining model).\n",
      "- This IS NOT expected if you are initializing TFDistilBertModel from the checkpoint of a model that you expect to be exactly identical (initializing a BertForSequenceClassification model from a BertForSequenceClassification model).\n",
      "All the layers of TFDistilBertModel were initialized from the model checkpoint at distilbert-base-uncased-finetuned-sst-2-english.\n",
      "If your task is similar to the task the model of the checkpoint was trained on, you can already use TFDistilBertModel for predictions without further training.\n",
      "Some layers from the model checkpoint at distilbert-base-uncased-finetuned-sst-2-english were not used when initializing TFDistilBertForSequenceClassification: ['dropout_19']\n",
      "- This IS expected if you are initializing TFDistilBertForSequenceClassification from the checkpoint of a model trained on another task or with another architecture (e.g. initializing a BertForSequenceClassification model from a BertForPreTraining model).\n",
      "- This IS NOT expected if you are initializing TFDistilBertForSequenceClassification from the checkpoint of a model that you expect to be exactly identical (initializing a BertForSequenceClassification model from a BertForSequenceClassification model).\n",
      "Some layers of TFDistilBertForSequenceClassification were not initialized from the model checkpoint at distilbert-base-uncased-finetuned-sst-2-english and are newly initialized: ['dropout_116']\n",
      "You should probably TRAIN this model on a down-stream task to be able to use it for predictions and inference.\n"
     ]
    }
   ],
   "source": [
    "warnings.filterwarnings(\"ignore\", module = 'gensim')\n",
    "senti = pipeline('sentiment-analysis')"
   ]
  },
  {
   "cell_type": "code",
   "execution_count": 32,
   "metadata": {},
   "outputs": [],
   "source": [
    "AW_posts_df['senti_pn'] = AW_posts_df['title_selftext'].apply(lambda x: senti(str(x)[:512])[0]['label'])\n",
    "AW_posts_df['senti_score'] = AW_posts_df['title_selftext'].apply(lambda x: senti(str(x)[:512])[0]['score'])"
   ]
  },
  {
   "cell_type": "code",
   "execution_count": 33,
   "metadata": {},
   "outputs": [],
   "source": [
    "AM_posts_df['senti_pn'] = AM_posts_df['title_selftext'].apply(lambda x: senti(str(x)[:512])[0]['label'])\n",
    "AM_posts_df['senti_score'] = AM_posts_df['title_selftext'].apply(lambda x: senti(str(x)[:512])[0]['score'])"
   ]
  },
  {
   "cell_type": "code",
   "execution_count": 34,
   "metadata": {},
   "outputs": [],
   "source": [
    "AW_comments_df['senti_pn'] = AW_comments_df['body'].apply(lambda x: senti(str(x)[:512])[0]['label'])\n",
    "AW_comments_df['senti_score'] = AW_comments_df['body'].apply(lambda x: senti(str(x)[:512])[0]['score'])"
   ]
  },
  {
   "cell_type": "code",
   "execution_count": 35,
   "metadata": {},
   "outputs": [],
   "source": [
    "AM_comments_df['senti_pn'] = AM_comments_df['body'].apply(lambda x: senti(str(x)[:512])[0]['label'])\n",
    "AM_comments_df['senti_score'] = AM_comments_df['body'].apply(lambda x: senti(str(x)[:512])[0]['score'])"
   ]
  },
  {
   "cell_type": "code",
   "execution_count": null,
   "metadata": {},
   "outputs": [],
   "source": [
    "len(AW_posts_df[AW_posts_df['senti_pn'] == 'POSITIVE'])/len(AW_posts_df)"
   ]
  },
  {
   "cell_type": "code",
   "execution_count": null,
   "metadata": {},
   "outputs": [],
   "source": [
    "len(AM_posts_df[AM_posts_df['senti_pn'] == 'POSITIVE'])/len(AM_posts_df)"
   ]
  },
  {
   "cell_type": "code",
   "execution_count": null,
   "metadata": {},
   "outputs": [],
   "source": [
    "len(AW_posts_df[AW_posts_df['senti_pn'] == 'NEGATIVE'])/len(AW_posts_df)"
   ]
  },
  {
   "cell_type": "code",
   "execution_count": null,
   "metadata": {},
   "outputs": [],
   "source": [
    "len(AM_posts_df[AM_posts_df['senti_pn'] == 'NEGATIVE'])/len(AM_posts_df)"
   ]
  },
  {
   "cell_type": "code",
   "execution_count": 37,
   "metadata": {},
   "outputs": [],
   "source": [
    "AM_posts_df['senti_score'].fillna(0, inplace = True)\n",
    "AM_comments_df['senti_score'].fillna(0, inplace = True)\n",
    "AW_posts_df['senti_score'].fillna(0, inplace = True)\n",
    "AW_comments_df['senti_score'].fillna(0, inplace = True)"
   ]
  },
  {
   "cell_type": "code",
   "execution_count": 38,
   "metadata": {},
   "outputs": [],
   "source": [
    "AM_posts_df['senti_pn'].fillna('NEUTRAL', inplace = True)\n",
    "AM_comments_df['senti_pn'].fillna('NEUTRAL', inplace = True)\n",
    "AW_posts_df['senti_pn'].fillna('NEUTRAL', inplace = True)\n",
    "AW_comments_df['senti_pn'].fillna('NEUTRAL', inplace = True)"
   ]
  },
  {
   "cell_type": "code",
   "execution_count": 39,
   "metadata": {},
   "outputs": [],
   "source": [
    "AW_posts_df['senti_pn_bin'] = AW_posts_df['senti_pn'].map({'POSITIVE': 1, 'NEUTRAL': 0, 'NEGATIVE': -1})\n",
    "AW_comments_df['senti_pn_bin'] = AW_comments_df['senti_pn'].map({'POSITIVE': 1, 'NEUTRAL': 0, 'NEGATIVE': -1})\n",
    "AM_posts_df['senti_pn_bin'] = AM_posts_df['senti_pn'].map({'POSITIVE': 1, 'NEUTRAL': 0, 'NEGATIVE': -1})\n",
    "AM_comments_df['senti_pn_bin'] = AM_comments_df['senti_pn'].map({'POSITIVE': 1, 'NEUTRAL': 0, 'NEGATIVE': -1})"
   ]
  },
  {
   "cell_type": "code",
   "execution_count": 40,
   "metadata": {},
   "outputs": [],
   "source": [
    "AM_posts_df['senti_score'] = AM_posts_df['senti_pn_bin']*AM_posts_df['senti_score']\n",
    "AM_comments_df['senti_score']= AM_comments_df['senti_pn_bin']*AM_comments_df['senti_score']\n",
    "AW_posts_df['senti_score'] = AW_posts_df['senti_pn_bin']*AW_posts_df['senti_score']\n",
    "AW_comments_df['senti_score'] = AW_comments_df['senti_pn_bin']*AW_comments_df['senti_score']"
   ]
  },
  {
   "cell_type": "code",
   "execution_count": 41,
   "metadata": {},
   "outputs": [
    {
     "data": {
      "text/html": [
       "<div>\n",
       "<style scoped>\n",
       "    .dataframe tbody tr th:only-of-type {\n",
       "        vertical-align: middle;\n",
       "    }\n",
       "\n",
       "    .dataframe tbody tr th {\n",
       "        vertical-align: top;\n",
       "    }\n",
       "\n",
       "    .dataframe thead th {\n",
       "        text-align: right;\n",
       "    }\n",
       "</style>\n",
       "<table border=\"1\" class=\"dataframe\">\n",
       "  <thead>\n",
       "    <tr style=\"text-align: right;\">\n",
       "      <th></th>\n",
       "      <th>senti_pn</th>\n",
       "      <th>senti_score</th>\n",
       "      <th>sia_neg</th>\n",
       "      <th>sia_pos</th>\n",
       "      <th>senti_pn_bin</th>\n",
       "    </tr>\n",
       "  </thead>\n",
       "  <tbody>\n",
       "    <tr>\n",
       "      <th>1795</th>\n",
       "      <td>POSITIVE</td>\n",
       "      <td>0.999653</td>\n",
       "      <td>0.000</td>\n",
       "      <td>0.312</td>\n",
       "      <td>1</td>\n",
       "    </tr>\n",
       "    <tr>\n",
       "      <th>1796</th>\n",
       "      <td>NEGATIVE</td>\n",
       "      <td>-0.939318</td>\n",
       "      <td>0.000</td>\n",
       "      <td>0.000</td>\n",
       "      <td>-1</td>\n",
       "    </tr>\n",
       "    <tr>\n",
       "      <th>1797</th>\n",
       "      <td>NEGATIVE</td>\n",
       "      <td>-0.982188</td>\n",
       "      <td>0.102</td>\n",
       "      <td>0.198</td>\n",
       "      <td>-1</td>\n",
       "    </tr>\n",
       "    <tr>\n",
       "      <th>1798</th>\n",
       "      <td>NEGATIVE</td>\n",
       "      <td>-0.998752</td>\n",
       "      <td>0.000</td>\n",
       "      <td>0.000</td>\n",
       "      <td>-1</td>\n",
       "    </tr>\n",
       "    <tr>\n",
       "      <th>1799</th>\n",
       "      <td>NEGATIVE</td>\n",
       "      <td>-0.997733</td>\n",
       "      <td>0.025</td>\n",
       "      <td>0.106</td>\n",
       "      <td>-1</td>\n",
       "    </tr>\n",
       "  </tbody>\n",
       "</table>\n",
       "</div>"
      ],
      "text/plain": [
       "      senti_pn  senti_score  sia_neg  sia_pos  senti_pn_bin\n",
       "1795  POSITIVE     0.999653    0.000    0.312             1\n",
       "1796  NEGATIVE    -0.939318    0.000    0.000            -1\n",
       "1797  NEGATIVE    -0.982188    0.102    0.198            -1\n",
       "1798  NEGATIVE    -0.998752    0.000    0.000            -1\n",
       "1799  NEGATIVE    -0.997733    0.025    0.106            -1"
      ]
     },
     "execution_count": 41,
     "metadata": {},
     "output_type": "execute_result"
    }
   ],
   "source": [
    "AM_posts_df.tail().iloc[:,-5:]"
   ]
  },
  {
   "cell_type": "code",
   "execution_count": 42,
   "metadata": {},
   "outputs": [],
   "source": [
    "AW_comments_df.to_csv('aw_com.csv')\n",
    "AW_posts_df.to_csv('aw_pos.csv')\n",
    "AM_comments_df.to_csv('am_com.csv')\n",
    "AM_posts_df.to_csv('am_pos.csv')"
   ]
  },
  {
   "cell_type": "markdown",
   "metadata": {},
   "source": [
    "**EXPLORATORY ANALYSIS**"
   ]
  },
  {
   "cell_type": "code",
   "execution_count": 9,
   "metadata": {},
   "outputs": [],
   "source": [
    "AM_posts_df['len_chars'] = AM_posts_df['title_selftext'].apply(lambda x: len(str(x)))\n",
    "AM_posts_df['len_words'] = AM_posts_df['title_selftext'].apply(lambda x: str(x).count(' '))\n",
    "AM_posts_df['avg_word_chars'] = AM_posts_df['len_chars']/AM_posts_df['len_words']\n",
    "AW_posts_df['len_chars'] = AW_posts_df['title_selftext'].apply(lambda x: len(str(x)))\n",
    "AW_posts_df['len_words'] = AW_posts_df['title_selftext'].apply(lambda x: str(x).count(' '))\n",
    "AW_posts_df['avg_word_chars'] = AW_posts_df['len_chars']/AW_posts_df['len_words']\n",
    "\n",
    "AM_comments_df['len_chars'] = AM_comments_df['body'].apply(lambda x: len(str(x)))\n",
    "AM_comments_df['len_words'] = AM_comments_df['body'].apply(lambda x: str(x).count(' '))\n",
    "AM_comments_df['avg_word_chars'] = AM_comments_df['len_chars']/AM_comments_df['len_words']\n",
    "AW_comments_df['len_chars'] = AW_comments_df['body'].apply(lambda x: len(str(x)))\n",
    "AW_comments_df['len_words'] = AW_comments_df['body'].apply(lambda x: str(x).count(' '))\n",
    "AW_comments_df['avg_word_chars'] = AW_comments_df['len_chars']/AW_comments_df['len_words']"
   ]
  },
  {
   "cell_type": "code",
   "execution_count": null,
   "metadata": {},
   "outputs": [],
   "source": [
    "# print(AM_posts_df['len_chars'].mean())\n",
    "# print(AM_posts_df['len_words'].mean())\n",
    "# print(AM_posts_df['avg_word_chars'].median())\n",
    "# print(AW_posts_df['len_chars'].mean())\n",
    "# print(AW_posts_df['len_words'].mean())\n",
    "# print(AW_posts_df['avg_word_chars'].median())\n",
    "\n",
    "# print(AM_comments_df['len_chars'].mean())\n",
    "# print(AM_comments_df['len_words'].mean())\n",
    "# print(AM_comments_df['avg_word_chars'].median())\n",
    "# print(AW_comments_df['len_chars'].mean())\n",
    "# print(AW_comments_df['len_words'].mean())\n",
    "# print(AW_comments_df['avg_word_chars'].median())"
   ]
  },
  {
   "cell_type": "code",
   "execution_count": 10,
   "metadata": {},
   "outputs": [
    {
     "data": {
      "image/png": "[encoded data removed]",
      "text/plain": [
       "<Figure size 1224x720 with 4 Axes>"
      ]
     },
     "metadata": {
      "image/png": {
       "height": 603,
       "width": 1001
      },
      "needs_background": "light"
     },
     "output_type": "display_data"
    }
   ],
   "source": [
    "plt.figure(figsize = (17,10))\n",
    "plt.subplot(2,2,1)\n",
    "plt.title('Lenght of posts and comments submitted to \"AskWomen\" subreddit')\n",
    "plt.hist(AW_posts_df['len_chars'], color = '#ff355e', label = 'posts', bins = 500)\n",
    "plt.hist(AW_comments_df['len_chars'], color = '#651e3e', histtype= 'step', lw = 1.5, label = 'comments', bins = 500)\n",
    "plt.xlim(0,2000)\n",
    "plt.xlabel('Lenght of post / comment, in characters')\n",
    "plt.legend()\n",
    "plt.subplot(2,2,2)\n",
    "plt.title('Lenght of posts and comments submitted to \"AskMen\" subreddit')\n",
    "plt.hist(AM_posts_df['len_chars'], color = '#536878', label = 'posts', bins = 500)\n",
    "plt.hist(AM_comments_df['len_chars'], color = '#051e3e', histtype= 'step', lw = 1.5, label = 'comments', bins = 500)\n",
    "plt.xlim(0,2000)\n",
    "plt.xlabel('Lenght of post / comment, in words')\n",
    "plt.legend()\n",
    "plt.subplot(2,2,3)\n",
    "plt.hist(AW_posts_df['len_words'], color = '#ff355e', label = 'posts', bins = 500)\n",
    "plt.hist(AW_comments_df['len_words'], color = '#651e3e', histtype= 'step', lw = 1.5, label = 'comments', bins = 500)\n",
    "plt.xlim(0,600)\n",
    "plt.xlabel('Lenght of post / comment, in words')\n",
    "plt.legend()\n",
    "plt.subplot(2,2,4)\n",
    "plt.hist(AM_posts_df['len_words'], color = '#536878', label = 'posts', bins = 500)\n",
    "plt.hist(AM_comments_df['len_words'], color = '#051e3e', histtype= 'step', lw = 1.5, label = 'comments', bins = 500)\n",
    "plt.xlim(0,600)\n",
    "plt.xlabel('Lenght of post / comment, in words')\n",
    "plt.legend();"
   ]
  },
  {
   "cell_type": "code",
   "execution_count": 84,
   "metadata": {},
   "outputs": [
    {
     "data": {
      "text/plain": [
       "count    1700.000000\n",
       "mean      272.797059\n",
       "std       344.060838\n",
       "min         1.000000\n",
       "25%        65.750000\n",
       "50%       150.500000\n",
       "75%       349.000000\n",
       "max      4611.000000\n",
       "Name: len_chars, dtype: float64"
      ]
     },
     "execution_count": 84,
     "metadata": {},
     "output_type": "execute_result"
    }
   ],
   "source": [
    "AW_comments_df['len_chars'].describe()"
   ]
  },
  {
   "cell_type": "code",
   "execution_count": 15,
   "metadata": {},
   "outputs": [],
   "source": [
    "lemmatizer = WordNetLemmatizer()\n",
    "stemmer = PorterStemmer()\n",
    "AM_tokens = word_tokenize(AM_posts_corpus.lower()+AM_comments_corpus.lower())\n",
    "AM_stem_tokens = [stemmer.stem(token) for token in AM_tokens]\n",
    "AM_stem_tokens_no_stops = [token for token in AM_stem_tokens if not token in stops]"
   ]
  },
  {
   "cell_type": "code",
   "execution_count": 16,
   "metadata": {},
   "outputs": [],
   "source": [
    "AW_tokens = word_tokenize(AW_posts_corpus.lower()+AW_comments_corpus.lower())\n",
    "AW_stem_tokens = [stemmer.stem(token) for token in AW_tokens]\n",
    "AW_stem_tokens_no_stops = [token for token in AW_stem_tokens if not token in stops]"
   ]
  },
  {
   "cell_type": "code",
   "execution_count": 402,
   "metadata": {},
   "outputs": [],
   "source": [
    "# this is having issues probably because there's some weird characters in the data - will attempt to plot from scratch later\n",
    "\n",
    "# plt.figure(figsize = (17,10))\n",
    "# plt.subplot(2,1,1)\n",
    "# FreqDist(AW_tokens_no_stops).plot(cumulative = 'True', title = 'Frequency of words used by contributors to \"Ask Women\"', color = '#ff355e')\n",
    "\n",
    "# plt.subplot(2,1,2)\n",
    "# FreqDist(AM_tokens_no_stops).plot(cumulative = 'True', color = '#536878', title = 'Frequency of words used by contributors to \"Ask Men\"')"
   ]
  },
  {
   "cell_type": "code",
   "execution_count": 17,
   "metadata": {},
   "outputs": [],
   "source": [
    "AM_most_common = set([word for word, ct in FreqDist(AM_stem_tokens_no_stops).most_common(100)])\n",
    "AW_most_common = set([word for word, ct in FreqDist(AW_stem_tokens_no_stops).most_common(100)])\n",
    "\n",
    "AW_and_AM = set.intersection(AW_most_common, AM_most_common)"
   ]
  },
  {
   "cell_type": "code",
   "execution_count": 46,
   "metadata": {},
   "outputs": [],
   "source": [
    "common_words = pd.DataFrame(np.array([list(AW_and_AM), [-FreqDist(AM_stem_tokens_no_stops)[word] for word in AW_and_AM],\n",
    "                             [FreqDist(AW_stem_tokens_no_stops)[word] for word in AW_and_AM]]).T, \n",
    "                             columns = ['word', 'AM', 'AW'])"
   ]
  },
  {
   "cell_type": "code",
   "execution_count": 70,
   "metadata": {},
   "outputs": [
    {
     "data": {
      "image/png": "[encoded data removed]",
      "text/plain": [
       "<Figure size 1224x360 with 1 Axes>"
      ]
     },
     "metadata": {
      "image/png": {
       "height": 381,
       "width": 1011
      },
      "needs_background": "light"
     },
     "output_type": "display_data"
    }
   ],
   "source": [
    "fig, ax1 = plt.subplots(figsize=(17,5))\n",
    "tidy = common_words.melt(id_vars='word').rename(columns=str.title)\n",
    "sns.barplot(x='Word', y='Value', hue='Variable', data=tidy, ax = ax1, dodge = False, palette = ['#536878','#ff355e'])\n",
    "plt.title('Comparison of most commonly used words')\n",
    "plt.xticks(rotation = 90);"
   ]
  },
  {
   "cell_type": "code",
   "execution_count": 169,
   "metadata": {},
   "outputs": [
    {
     "data": {
      "text/plain": [
       "{'actual',\n",
       " 'anyth',\n",
       " 'attract',\n",
       " 'better',\n",
       " 'call',\n",
       " 'come',\n",
       " 'everi',\n",
       " 'give',\n",
       " 'happen',\n",
       " 'ive',\n",
       " 'keep',\n",
       " 'kid',\n",
       " 'mean',\n",
       " 'old',\n",
       " 'reason',\n",
       " 'right',\n",
       " 'said',\n",
       " 'sinc',\n",
       " 'son',\n",
       " 'us',\n",
       " 'well',\n",
       " 'woman',\n",
       " 'wrong'}"
      ]
     },
     "execution_count": 169,
     "metadata": {},
     "output_type": "execute_result"
    }
   ],
   "source": [
    "AM_most_common.difference(AW_and_AM)"
   ]
  },
  {
   "cell_type": "code",
   "execution_count": 170,
   "metadata": {},
   "outputs": [
    {
     "data": {
      "text/plain": [
       "{'action',\n",
       " 'advic',\n",
       " 'amp',\n",
       " 'askwomen',\n",
       " 'care',\n",
       " 'click',\n",
       " 'comment',\n",
       " 'content',\n",
       " 'els',\n",
       " 'experi',\n",
       " 'famili',\n",
       " 'includ',\n",
       " 'link',\n",
       " 'made',\n",
       " 'messag',\n",
       " 'moder',\n",
       " 'mom',\n",
       " 'pleas',\n",
       " 'post',\n",
       " 'read',\n",
       " 'respons',\n",
       " 'rule',\n",
       " 'submiss'}"
      ]
     },
     "execution_count": 170,
     "metadata": {},
     "output_type": "execute_result"
    }
   ],
   "source": [
    "AW_most_common.difference(AW_and_AM)"
   ]
  },
  {
   "cell_type": "code",
   "execution_count": 236,
   "metadata": {},
   "outputs": [
    {
     "data": {
      "text/plain": [
       "FreqDist({('comment', 'post'): 154, ('post', 'pleas'): 129, ('pleas', 'includ'): 125, ('ani', 'question'): 124, ('question', 'thi'): 123, ('pleas', 'messag'): 122, ('messag', 'moder'): 122, ('thi', 'moder'): 122, ('moder', 'action'): 122, ('messag', 'comment'): 121, ...})"
      ]
     },
     "execution_count": 236,
     "metadata": {},
     "output_type": "execute_result"
    }
   ],
   "source": [
    "AW_bigrams = list(ngrams(AW_stem_tokens_no_stops,2))\n",
    "FreqDist(AW_bigrams)"
   ]
  },
  {
   "cell_type": "code",
   "execution_count": 237,
   "metadata": {},
   "outputs": [
    {
     "data": {
      "text/plain": [
       "FreqDist({('feel', 'like'): 97, ('men', 'reddit'): 70, ('year', 'old'): 53, ('dont', 'know'): 46, ('like', 'thi'): 37, ('think', 'thi'): 37, ('comput', 'wrong'): 36, ('thi', 'subreddit'): 32, ('wan', 'na'): 32, ('gon', 'na'): 32, ...})"
      ]
     },
     "execution_count": 237,
     "metadata": {},
     "output_type": "execute_result"
    }
   ],
   "source": [
    "AM_bigrams = list(ngrams(AM_stem_tokens_no_stops,2))\n",
    "FreqDist(AM_bigrams)"
   ]
  },
  {
   "cell_type": "code",
   "execution_count": 11,
   "metadata": {},
   "outputs": [
    {
     "name": "stdout",
     "output_type": "stream",
     "text": [
      "=========AskMen=========\n",
      "14971\n",
      "\n",
      "========AskWomen========\n",
      "14895\n"
     ]
    }
   ],
   "source": [
    "#AM_vocabulary = sorted(list(set((AM_comments_corpus).split())))\n",
    "AW_vocabulary = sorted(list(set((AW_posts_corpus+AW_comments_corpus).lower().split())))\n",
    "AM_vocabulary = sorted(list(set((AM_posts_corpus+AM_comments_corpus).lower().split())))\n",
    "\n",
    "print(\"=========AskMen=========\")\n",
    "print(len(AM_vocabulary))\n",
    "print(\"\\n========AskWomen========\")\n",
    "print(len(AW_vocabulary))"
   ]
  },
  {
   "cell_type": "code",
   "execution_count": 72,
   "metadata": {},
   "outputs": [],
   "source": [
    "import emoji\n",
    "\n",
    "def extract_emojis(s):\n",
    "  return [c for c in s if c in emoji.UNICODE_EMOJI]"
   ]
  },
  {
   "cell_type": "code",
   "execution_count": 73,
   "metadata": {},
   "outputs": [],
   "source": [
    "AW_emojis = set(extract_emojis(AW_posts_corpus+AW_comments_corpus))\n",
    "AM_emojis = set(extract_emojis(AM_posts_corpus+AM_comments_corpus))"
   ]
  },
  {
   "cell_type": "code",
   "execution_count": 14,
   "metadata": {},
   "outputs": [
    {
     "name": "stdout",
     "output_type": "stream",
     "text": [
      "AskWomen posts and comments feature 49 emojis: {'🤥', '🥺', '🤣', '😯', '🥰', '💕', '😅', '😳', '😊', '👀', '🤷', '🏻', '👇', '🎅', '🙏', '💥', '🙂', '🏾', '🙄', '❤', '💍', '✋', '🌚', '🤦', '🎁', '💚', '🥴', '😋', '🎄', '❓', '♀', '☺', '♥', '🙃', '🤔', '😔', '🤢', '😂', '😭', '👰', '😍', '😱', '💖', '🤡', '😆', '💁', '🏼', '🤭', '✨'}\n"
     ]
    }
   ],
   "source": [
    "print(f\"AskWomen posts and comments feature {len(AW_emojis)} emojis: {AW_emojis}\")"
   ]
  },
  {
   "cell_type": "code",
   "execution_count": 15,
   "metadata": {},
   "outputs": [
    {
     "name": "stdout",
     "output_type": "stream",
     "text": [
      "AskMen posts and comments feature 165 emojis: {'😝', '💩', '🧐', '👶', '🉐', '🌄', '💕', '🤷', '🙌', '🏻', '🌈', '🤚', '🐣', '🚴', '🙈', '✅', '🌙', '🎄', '❓', '🤔', '🐾', '💨', '😭', '🌎', '🤞', '🐝', '🍻', '😱', '👉', '👈', '🇦', '😃', '🗣', '🔗', '🍆', '😈', '👬', '👧', '👭', '✔', '🚬', '⚰', '🏃', '😠', '👅', '⏰', '💼', '👊', '😌', '📅', '🔚', '🇵', '🏾', '💬', '😀', '😏', '☀', '📷', '❔', '👫', '🚶', '💅', '♀', '👌', '🚡', '😔', '👣', '👋', '💹', '🤫', '⬆', '🎼', '👪', '🏘', '💓', '🏽', '🙇', '🍓', '📖', '😤', '💢', '🥶', '🌾', '🤣', '💯', '🙀', '😒', '💪', '🧔', '👁', '👀', '👴', '🏫', '👇', '🙏', '💥', '🔫', '❎', '🚨', '🙄', '🍂', '✋', '🌞', '😜', '😐', '🏿', '🏳', '😩', '👩', '👵', '🍑', '💰', '👱', '😮', '😓', '😆', '🏼', '🌬', '🙅', '🔥', '🎣', '✨', '👥', '💔', '🚫', '🕛', '🎤', '😬', '💦', '❄', '🌪', '🤽', '🏊', '😯', '👍', '☝', '😢', '👦', '📦', '🔔', '🔁', '👻', '🌹', '💀', '🚯', '❤', '✊', '🐰', '❌', '📆', '👨', '📝', '🧠', '🚑', '😂', '📒', '♂', '🔍', '📼', '🌟', '🕺', '🤡', '🏄', '😎', '🤠'}\n"
     ]
    }
   ],
   "source": [
    "print(f\"AskMen posts and comments feature {len(AM_emojis)} emojis: {AM_emojis}\")"
   ]
  },
  {
   "cell_type": "code",
   "execution_count": 158,
   "metadata": {},
   "outputs": [
    {
     "data": {
      "text/plain": [
       "':prohibited:'"
      ]
     },
     "execution_count": 158,
     "metadata": {},
     "output_type": "execute_result"
    }
   ],
   "source": [
    "emoji.UNICODE_EMOJI['🚫']"
   ]
  },
  {
   "cell_type": "code",
   "execution_count": 190,
   "metadata": {},
   "outputs": [],
   "source": [
    "AM_emojis_freq = {emo: (AM_posts_corpus+AM_comments_corpus).count(emo) for emo in AM_emojis}\n",
    "\n",
    "AW_emojis_freq = {emo: (AW_posts_corpus+AW_comments_corpus).count(emo) for emo in AW_emojis}\n",
    "\n",
    "emos = list(set([emo for emo in AM_emojis_freq.keys() if AM_emojis_freq[emo]>= 3]+[emo for emo in AW_emojis_freq.keys() if AW_emojis_freq[emo]>= 3]))"
   ]
  },
  {
   "cell_type": "code",
   "execution_count": 193,
   "metadata": {},
   "outputs": [],
   "source": [
    "emos_chart = pd.DataFrame(np.array([[emoji.UNICODE_EMOJI[emo] for emo in emos], \n",
    "                                    [-AM_emojis_freq.setdefault(emo,0) for emo in emos],\n",
    "                                     [AW_emojis_freq.setdefault(emo,0) for emo in emos]]).T, \n",
    "                                     columns = ['descr', 'AM', 'AW'])"
   ]
  },
  {
   "cell_type": "code",
   "execution_count": 194,
   "metadata": {},
   "outputs": [
    {
     "data": {
      "image/png": "[encoded data removed]",
      "text/plain": [
       "<Figure size 1224x360 with 1 Axes>"
      ]
     },
     "metadata": {
      "image/png": {
       "height": 315,
       "width": 1004
      },
      "needs_background": "light"
     },
     "output_type": "display_data"
    }
   ],
   "source": [
    "\n",
    "from matplotlib.font_manager import FontProperties\n",
    "prop = FontProperties(fname='/System/Library/Fonts/Apple Color Emoji.ttc')\n",
    "fig, ax1 = plt.subplots(figsize=(17,5))\n",
    "tidy = emos_chart.melt(id_vars='descr').rename(columns=str.title)\n",
    "sns.barplot(x='Descr', y='Value', hue='Variable', data=tidy,  dodge = False, palette = ['#536878','#ff355e'])\n",
    "plt.title('Comparison of most commonly used emojis')\n",
    "plt.xticks([]);\n",
    "#plt.xticks(rotation = 90);"
   ]
  },
  {
   "cell_type": "code",
   "execution_count": 116,
   "metadata": {},
   "outputs": [
    {
     "data": {
      "image/png": "[encoded data removed]",
      "text/plain": [
       "<Figure size 1224x288 with 1 Axes>"
      ]
     },
     "metadata": {
      "image/png": {
       "height": 250,
       "width": 982
      },
      "needs_background": "light"
     },
     "output_type": "display_data"
    }
   ],
   "source": [
    "\n",
    "from matplotlib.font_manager import FontProperties\n",
    "prop = FontProperties(fname='/System/Library/Fonts/Apple Color Emoji.ttc')\n",
    "#plt.rcParams['font.family'] = prop.get_family()\n",
    "#pt.rcParams['font.size'] = 5\n",
    "plt.figure(figsize = (17,4))\n",
    "plt.bar(AW_emojis_freq.keys(), AW_emojis_freq.values())\n",
    "\n",
    "plt.xticks(rotation = 90);"
   ]
  },
  {
   "cell_type": "code",
   "execution_count": 16,
   "metadata": {},
   "outputs": [],
   "source": [
    "AW_posts_df['emojis'] = AW_posts_df['title_selftext'].apply(lambda x: sum([1 for c in str(x) if c in emoji.UNICODE_EMOJI]))\n",
    "AM_posts_df['emojis'] = AM_posts_df['title_selftext'].apply(lambda x: sum([1 for c in str(x) if c in emoji.UNICODE_EMOJI]))\n",
    "AW_comments_df['emojis'] = AW_comments_df['body'].apply(lambda x: sum([1 for c in str(x) if c in emoji.UNICODE_EMOJI]))\n",
    "AM_comments_df['emojis'] = AM_comments_df['body'].apply(lambda x: sum([1 for c in str(x) if c in emoji.UNICODE_EMOJI]))"
   ]
  },
  {
   "cell_type": "code",
   "execution_count": 261,
   "metadata": {},
   "outputs": [
    {
     "data": {
      "text/plain": [
       "count    2000.000000\n",
       "mean        0.019500\n",
       "std         0.249301\n",
       "min         0.000000\n",
       "25%         0.000000\n",
       "50%         0.000000\n",
       "75%         0.000000\n",
       "max         6.000000\n",
       "Name: emojis, dtype: float64"
      ]
     },
     "execution_count": 261,
     "metadata": {},
     "output_type": "execute_result"
    }
   ],
   "source": [
    "AW_posts_df['emojis'].describe()"
   ]
  },
  {
   "cell_type": "code",
   "execution_count": 262,
   "metadata": {},
   "outputs": [
    {
     "data": {
      "text/plain": [
       "count    1800.000000\n",
       "mean        0.013333\n",
       "std         0.255762\n",
       "min         0.000000\n",
       "25%         0.000000\n",
       "50%         0.000000\n",
       "75%         0.000000\n",
       "max        10.000000\n",
       "Name: emojis, dtype: float64"
      ]
     },
     "execution_count": 262,
     "metadata": {},
     "output_type": "execute_result"
    }
   ],
   "source": [
    "AM_posts_df['emojis'].describe()"
   ]
  },
  {
   "cell_type": "code",
   "execution_count": 70,
   "metadata": {},
   "outputs": [],
   "source": [
    "dfs = [AW_posts_df, AM_posts_df, AM_comments_df, AW_comments_df]\n",
    "for df in dfs:\n",
    "    df['created_yr'] = df['created_utc'].apply(lambda x: datetime.datetime.utcfromtimestamp(x).replace(tzinfo=datetime.timezone.utc).year)\n",
    "    df['created_mth'] = df['created_utc'].apply(lambda x: datetime.datetime.utcfromtimestamp(x).replace(tzinfo=datetime.timezone.utc).month)\n",
    "    df['created_dy'] = df['created_utc'].apply(lambda x: datetime.datetime.utcfromtimestamp(x).replace(tzinfo=datetime.timezone.utc).day)\n",
    "    df['created_hr'] = df['created_utc'].apply(lambda x: datetime.datetime.utcfromtimestamp(x).replace(tzinfo=datetime.timezone.utc).hour)"
   ]
  },
  {
   "cell_type": "code",
   "execution_count": 78,
   "metadata": {},
   "outputs": [
    {
     "data": {
      "text/plain": [
       "count          1800\n",
       "mean     1609014286\n",
       "std          112369\n",
       "min      1608800712\n",
       "25%      1608919970\n",
       "50%      1609027996\n",
       "75%      1609111573\n",
       "max      1609186931\n",
       "Name: created_utc, dtype: int64"
      ]
     },
     "execution_count": 78,
     "metadata": {},
     "output_type": "execute_result"
    }
   ],
   "source": [
    "AM_posts_df['created_utc'].describe().astype(int)"
   ]
  },
  {
   "cell_type": "markdown",
   "metadata": {},
   "source": [
    "### Classification using only length of posts & comments"
   ]
  },
  {
   "cell_type": "code",
   "execution_count": 49,
   "metadata": {},
   "outputs": [],
   "source": [
    "lens = ['len_chars', 'len_words']\n",
    "X = pd.concat([AM_posts_df[lens], AM_comments_df[lens], AW_posts_df[lens], AW_comments_df[lens]], axis = 0)"
   ]
  },
  {
   "cell_type": "code",
   "execution_count": 50,
   "metadata": {},
   "outputs": [],
   "source": [
    "X['post_comm'] = np.concatenate([np.ones_like(AW_posts_df['title_selftext']),\n",
    "                                np.zeros_like(AW_comments_df['body']),\n",
    "                                np.ones_like(AM_posts_df['title_selftext']),\n",
    "                                np.zeros_like(AM_comments_df['body'])]).astype(int)"
   ]
  },
  {
   "cell_type": "code",
   "execution_count": 51,
   "metadata": {},
   "outputs": [],
   "source": [
    "y = np.concatenate([np.zeros_like(AW_posts_df['title_selftext']),\n",
    "                    np.zeros_like(AW_comments_df['body']),\n",
    "                    np.ones_like(AM_posts_df['title_selftext']),\n",
    "                    np.ones_like(AM_comments_df['body'])]).astype(int)"
   ]
  },
  {
   "cell_type": "code",
   "execution_count": 52,
   "metadata": {},
   "outputs": [],
   "source": [
    "tr_x, ts_x, tr_y, ts_y = train_test_split(X,y)"
   ]
  },
  {
   "cell_type": "code",
   "execution_count": 53,
   "metadata": {},
   "outputs": [],
   "source": [
    "logr = LogisticRegression()"
   ]
  },
  {
   "cell_type": "code",
   "execution_count": 54,
   "metadata": {},
   "outputs": [
    {
     "data": {
      "text/plain": [
       "0.5459360730593608"
      ]
     },
     "execution_count": 54,
     "metadata": {},
     "output_type": "execute_result"
    }
   ],
   "source": [
    "logr.fit(tr_x, tr_y)\n",
    "logr.score(tr_x, tr_y)"
   ]
  },
  {
   "cell_type": "code",
   "execution_count": 55,
   "metadata": {},
   "outputs": [
    {
     "data": {
      "text/plain": [
       "0.5463013698630137"
      ]
     },
     "execution_count": 55,
     "metadata": {},
     "output_type": "execute_result"
    }
   ],
   "source": [
    "logr.score(ts_x, ts_y)"
   ]
  },
  {
   "cell_type": "markdown",
   "metadata": {},
   "source": [
    "### Classification based only on contnent (incl. comments)"
   ]
  },
  {
   "cell_type": "code",
   "execution_count": 5,
   "metadata": {},
   "outputs": [],
   "source": [
    "X = pd.concat([AW_posts_df['title_selftext'].dropna(), AW_comments_df['body'].dropna(), AM_posts_df['title_selftext'].dropna(), AM_comments_df['body'].dropna()], axis = 0)\n",
    "\n",
    "y = np.concatenate([np.zeros_like(AW_posts_df['title_selftext'].dropna()),\n",
    "                    np.zeros_like(AW_comments_df['body'].dropna()),\n",
    "                    np.ones_like(AM_posts_df['title_selftext'].dropna()),\n",
    "                    np.ones_like(AM_comments_df['body'].dropna())]).astype(int)\n",
    "\n",
    "train_X, test_X, train_y, test_y = train_test_split(X,y, random_state = 1)"
   ]
  },
  {
   "cell_type": "code",
   "execution_count": 6,
   "metadata": {},
   "outputs": [],
   "source": [
    "cvec = CountVectorizer(stop_words='english', lowercase = True, ngram_range=(1,2))#max_features=10_000)\n",
    "train_X_vec = cvec.fit_transform(train_X)\n",
    "test_X_vec = cvec.transform(test_X)"
   ]
  },
  {
   "cell_type": "code",
   "execution_count": 7,
   "metadata": {},
   "outputs": [],
   "source": [
    "tvec = TfidfVectorizer(stop_words='english', lowercase = True, ngram_range=(1,2), use_idf = True)#max_features=10_000)\n",
    "train_X_vec = tvec.fit_transform(train_X)\n",
    "test_X_vec = tvec.transform(test_X)"
   ]
  },
  {
   "cell_type": "code",
   "execution_count": 8,
   "metadata": {},
   "outputs": [
    {
     "data": {
      "text/plain": [
       "0.9794584500466853"
      ]
     },
     "execution_count": 8,
     "metadata": {},
     "output_type": "execute_result"
    }
   ],
   "source": [
    "mnb = MultinomialNB()\n",
    "\n",
    "mnb.fit(train_X_vec, train_y)\n",
    "mnb.score(train_X_vec, train_y)"
   ]
  },
  {
   "cell_type": "code",
   "execution_count": 9,
   "metadata": {},
   "outputs": [
    {
     "data": {
      "text/plain": [
       "0.6868347338935574"
      ]
     },
     "execution_count": 9,
     "metadata": {},
     "output_type": "execute_result"
    }
   ],
   "source": [
    "mnb.score(test_X_vec, test_y)"
   ]
  },
  {
   "cell_type": "code",
   "execution_count": 65,
   "metadata": {},
   "outputs": [
    {
     "data": {
      "image/png": "[encoded data removed]",
      "text/plain": [
       "<Figure size 432x288 with 2 Axes>"
      ]
     },
     "metadata": {
      "needs_background": "light"
     },
     "output_type": "display_data"
    }
   ],
   "source": [
    "plot_confusion_matrix(mnb, test_X_vec, test_y);"
   ]
  },
  {
   "cell_type": "code",
   "execution_count": 66,
   "metadata": {},
   "outputs": [
    {
     "data": {
      "text/plain": [
       "11      Trigger warning!!!! Is it true half of all wom...\n",
       "14      [Recommendation] What are some thought provoki...\n",
       "20           Ladies of Reddit: What hobbies do you enjoy?\n",
       "25      Do you have sex with your husband even if you ...\n",
       "47      What brief encounter in your life has really s...\n",
       "                              ...                        \n",
       "1792    Black women - what is your experience been lik...\n",
       "1799      How should I approach prostate play with my BF?\n",
       "1806    Ladies who are hypochondriacs, how do you cope...\n",
       "1814    Women of reddit how many inches is considered ...\n",
       "1815    What do you think about asking a man for consent?\n",
       "Length: 206, dtype: object"
      ]
     },
     "execution_count": 66,
     "metadata": {},
     "output_type": "execute_result"
    }
   ],
   "source": [
    "X.iloc[[i for i in range(len(mnb.predict(test_X_vec))) if mnb.predict(test_X_vec[i]) == 1 and test_y[i] ==0]]"
   ]
  },
  {
   "cell_type": "code",
   "execution_count": 67,
   "metadata": {},
   "outputs": [
    {
     "data": {
      "text/plain": [
       "7       What birth control would be best considering t...\n",
       "12      Hi is this a good potential tinder Profile/can...\n",
       "17      Women who worked in the porn industry and DONT...\n",
       "21      Why do you think the mid-s so the - age range ...\n",
       "33      Would you marry someone who cheated on you onc...\n",
       "                              ...                        \n",
       "1789    Have you ever dated someone who seemed too goo...\n",
       "1798    The life you live is wealthy and amazing but y...\n",
       "1807    What changes can a company implement to make t...\n",
       "1810    If your partner stayed the EXACT same forever,...\n",
       "1818         Penis size i am small how real are big ones?\n",
       "Length: 323, dtype: object"
      ]
     },
     "execution_count": 67,
     "metadata": {},
     "output_type": "execute_result"
    }
   ],
   "source": [
    "X.iloc[[i for i in range(len(mnb.predict(test_X_vec))) if mnb.predict(test_X_vec[i]) == 0 and test_y[i] ==1]]"
   ]
  },
  {
   "cell_type": "code",
   "execution_count": null,
   "metadata": {},
   "outputs": [],
   "source": [
    "X_vec = cvec.transform(X)\n",
    "\n",
    "params = {'alpha': np.linspace(0,1,10)}\n",
    "mnb_gs = GridSearchCV(mnb, params, n_jobs = 5, verbose = 1, cv = 5)\n",
    "\n",
    "mnb_gs.fit(X_vec, y)\n",
    "print(f\"Best CV score of {round(mnb_gs.best_score_,4)} achieved with alpha = {round(mnb_gs.best_params_['alpha'],4)}\")"
   ]
  },
  {
   "cell_type": "markdown",
   "metadata": {},
   "source": [
    "### Classifying using word vector and sentiment scores"
   ]
  },
  {
   "cell_type": "code",
   "execution_count": 335,
   "metadata": {},
   "outputs": [],
   "source": [
    "X_cont = pd.concat([AW_posts_df['title_selftext'].dropna(), AW_comments_df['body'].dropna(), \n",
    "                    AM_posts_df['title_selftext'].dropna(), AM_comments_df['body'].dropna()], axis = 0)\n",
    "\n",
    "X_sent = pd.concat([AW_posts_df[['sia_neg', 'sia_pos', 'senti_score']], AW_comments_df[['sia_neg', 'sia_pos', 'senti_score']],\n",
    "                  AM_posts_df[['sia_neg', 'sia_pos', 'senti_score']], AM_comments_df[['sia_neg', 'sia_pos', 'senti_score']]], axis = 0)\n",
    "\n",
    "X = pd.concat([X_cont, X_sent], axis = 1)\n",
    "\n",
    "y = np.concatenate([np.zeros_like(AW_posts_df['title_selftext']),\n",
    "                    np.zeros_like(AW_comments_df['body']),\n",
    "                    np.ones_like(AM_posts_df['title_selftext']),\n",
    "                    np.ones_like(AM_comments_df['body'])]).astype(int)\n",
    "\n",
    "X_train, X_test, y_train, y_test = train_test_split(X,y, test_size = 0.33, random_state = 11)\n",
    "\n",
    "tvec = TfidfVectorizer()\n",
    "#tvec.fit(X_train.iloc[:,0])\n",
    "\n",
    "X_train_vec = pd.merge(pd.DataFrame(tvec.fit_transform(X_train.iloc[:,0]).todense()), X_train.iloc[:,1:], how = 'inner', \n",
    "                        left_index= True, right_index= True)\n",
    "\n",
    "X_test_vec = pd.merge(pd.DataFrame(tvec.transform(X_test.iloc[:,0]).todense()), X_test.iloc[:,1:], how = 'inner', \n",
    "                        left_index= True, right_index= True)"
   ]
  },
  {
   "cell_type": "code",
   "execution_count": 336,
   "metadata": {},
   "outputs": [
    {
     "data": {
      "text/plain": [
       "0.7176446534451032"
      ]
     },
     "execution_count": 336,
     "metadata": {},
     "output_type": "execute_result"
    }
   ],
   "source": [
    "logreg = LogisticRegression(max_iter = 10_000)\n",
    "logreg.fit(X_train_vec,y_train)\n",
    "logreg.score(X_train_vec, y_train)"
   ]
  },
  {
   "cell_type": "code",
   "execution_count": 337,
   "metadata": {},
   "outputs": [
    {
     "data": {
      "text/plain": [
       "0.4989622249896222"
      ]
     },
     "execution_count": 337,
     "metadata": {},
     "output_type": "execute_result"
    }
   ],
   "source": [
    "logreg.score(X_test_vec, y_test)"
   ]
  },
  {
   "cell_type": "code",
   "execution_count": 76,
   "metadata": {},
   "outputs": [
    {
     "data": {
      "image/png": "[encoded data removed]",
      "text/plain": [
       "<Figure size 432x288 with 2 Axes>"
      ]
     },
     "metadata": {
      "needs_background": "light"
     },
     "output_type": "display_data"
    }
   ],
   "source": [
    "plot_confusion_matrix(logreg, X,y);"
   ]
  },
  {
   "cell_type": "code",
   "execution_count": 77,
   "metadata": {},
   "outputs": [
    {
     "data": {
      "text/plain": [
       "0.8927397260273973"
      ]
     },
     "execution_count": 77,
     "metadata": {},
     "output_type": "execute_result"
    }
   ],
   "source": [
    "logreg.score(X,y)"
   ]
  },
  {
   "cell_type": "code",
   "execution_count": 78,
   "metadata": {},
   "outputs": [
    {
     "data": {
      "text/plain": [
       "array([0.51027397, 0.50410959, 0.58424658, 0.49863014, 0.49726027])"
      ]
     },
     "execution_count": 78,
     "metadata": {},
     "output_type": "execute_result"
    }
   ],
   "source": [
    "cross_val_score(logreg, X, y, cv = 5)"
   ]
  },
  {
   "cell_type": "code",
   "execution_count": null,
   "metadata": {},
   "outputs": [],
   "source": [
    "int(X.shape[0]/5)"
   ]
  },
  {
   "cell_type": "code",
   "execution_count": null,
   "metadata": {},
   "outputs": [],
   "source": [
    "for i in range(5):\n",
    "    X.sample(n = int(X.shape[0]/5), replace = True)\n",
    "    train_X, test_X, train_y, test_y = train_test_split(X,y)\n",
    "    print(f\"Score for first cross-val test sample # {i+1} = {bag.score(test_X, test_y)}\")"
   ]
  },
  {
   "cell_type": "markdown",
   "metadata": {},
   "source": [
    "### Classifying using word vector and sentiment scores, as well as emoji count"
   ]
  },
  {
   "cell_type": "code",
   "execution_count": 317,
   "metadata": {},
   "outputs": [],
   "source": [
    "X_cont = pd.concat([AW_posts_df['title_selftext'].dropna(), AW_comments_df['body'].dropna(), \n",
    "                    AM_posts_df['title_selftext'].dropna(), AM_comments_df['body'].dropna()], axis = 0)\n",
    "\n",
    "y = np.concatenate([np.zeros_like(AW_posts_df['title_selftext'].dropna()),\n",
    "                    np.zeros_like(AW_comments_df['body'].dropna()),\n",
    "                    np.ones_like(AM_posts_df['title_selftext'].dropna()),\n",
    "                    np.ones_like(AM_comments_df['body'].dropna())]).astype(int)\n",
    "\n",
    "\n",
    "X_sent_emo = pd.concat([AW_posts_df[['sia_neg', 'sia_pos', 'senti_score', 'emojis']], AW_comments_df[['sia_neg', 'sia_pos', 'senti_score','emojis']],\n",
    "                  AM_posts_df[['sia_neg', 'sia_pos', 'senti_score','emojis']], AM_comments_df[['sia_neg', 'sia_pos', 'senti_score', 'emojis']]], axis = 0)\n",
    "\n",
    "X = pd.concat([X_cont ,X_sent_emo], axis = 1)\n",
    "\n",
    "X_train, X_test, y_train, y_test = train_test_split(X,y, test_size = 0.33, random_state = 11)\n",
    "\n",
    "tvec = TfidfVectorizer()\n",
    "X_train_vec = pd.merge(pd.DataFrame(tvec.fit_transform(X_train.iloc[:,0]).todense()), X_train.iloc[:,1:], how = 'inner', \n",
    "                       left_index= True, right_index= True)\n",
    "\n",
    "X_test_vec = pd.merge(pd.DataFrame(tvec.transform(X_test.iloc[:,0]).todense()), X_test.iloc[:,1:], how = 'inner', \n",
    "                       left_index= True, right_index= True)"
   ]
  },
  {
   "cell_type": "code",
   "execution_count": 318,
   "metadata": {},
   "outputs": [
    {
     "data": {
      "text/plain": [
       "(2409, 9745)"
      ]
     },
     "execution_count": 318,
     "metadata": {},
     "output_type": "execute_result"
    }
   ],
   "source": [
    "X_test_vec.shape"
   ]
  },
  {
   "cell_type": "code",
   "execution_count": 70,
   "metadata": {},
   "outputs": [],
   "source": [
    "y = np.concatenate([np.zeros_like(AW_posts_df['title_selftext']),\n",
    "                    np.zeros_like(AW_comments_df['body']),\n",
    "                    np.ones_like(AM_posts_df['title_selftext']),\n",
    "                    np.ones_like(AM_comments_df['body'])]).astype(int)"
   ]
  },
  {
   "cell_type": "code",
   "execution_count": 320,
   "metadata": {},
   "outputs": [
    {
     "data": {
      "text/plain": [
       "0.7176446534451032"
      ]
     },
     "execution_count": 320,
     "metadata": {},
     "output_type": "execute_result"
    }
   ],
   "source": [
    "logreg = LogisticRegression(max_iter = 10_000)\n",
    "logreg.fit(X_train_vec,y_train)\n",
    "logreg.score(X_train_vec, y_train)"
   ]
  },
  {
   "cell_type": "code",
   "execution_count": 321,
   "metadata": {},
   "outputs": [
    {
     "data": {
      "text/plain": [
       "0.5014528850145289"
      ]
     },
     "execution_count": 321,
     "metadata": {},
     "output_type": "execute_result"
    }
   ],
   "source": [
    "logreg.score(X_test_vec, y_test)"
   ]
  },
  {
   "cell_type": "code",
   "execution_count": 290,
   "metadata": {},
   "outputs": [
    {
     "data": {
      "image/png": "[encoded data removed]",
      "text/plain": [
       "<Figure size 432x288 with 2 Axes>"
      ]
     },
     "metadata": {
      "image/png": {
       "height": 261,
       "width": 318
      },
      "needs_background": "light"
     },
     "output_type": "display_data"
    }
   ],
   "source": [
    "plot_confusion_matrix(logreg, X,y);"
   ]
  },
  {
   "cell_type": "code",
   "execution_count": 291,
   "metadata": {},
   "outputs": [
    {
     "data": {
      "text/plain": [
       "0.8923287671232877"
      ]
     },
     "execution_count": 291,
     "metadata": {},
     "output_type": "execute_result"
    }
   ],
   "source": [
    "logreg.score(X,y)"
   ]
  },
  {
   "cell_type": "markdown",
   "metadata": {},
   "source": [
    "### BAGGING"
   ]
  },
  {
   "cell_type": "code",
   "execution_count": 79,
   "metadata": {},
   "outputs": [
    {
     "data": {
      "text/plain": [
       "0.9979554283377632"
      ]
     },
     "execution_count": 79,
     "metadata": {},
     "output_type": "execute_result"
    }
   ],
   "source": [
    "bag = BaggingClassifier()\n",
    "bag.fit(X_train, y_train)\n",
    "bag.score(X_train, y_train)"
   ]
  },
  {
   "cell_type": "code",
   "execution_count": 80,
   "metadata": {},
   "outputs": [
    {
     "data": {
      "text/plain": [
       "0.9319219593192196"
      ]
     },
     "execution_count": 80,
     "metadata": {},
     "output_type": "execute_result"
    }
   ],
   "source": [
    "bag.score(X_test, y_test)"
   ]
  },
  {
   "cell_type": "code",
   "execution_count": 81,
   "metadata": {},
   "outputs": [
    {
     "data": {
      "image/png": "[encoded data removed]",
      "text/plain": [
       "<Figure size 432x288 with 2 Axes>"
      ]
     },
     "metadata": {
      "needs_background": "light"
     },
     "output_type": "display_data"
    }
   ],
   "source": [
    "plot_confusion_matrix(bag, X,y);"
   ]
  },
  {
   "cell_type": "code",
   "execution_count": null,
   "metadata": {},
   "outputs": [],
   "source": [
    "cross_val_score(bag,X,y)"
   ]
  },
  {
   "cell_type": "code",
   "execution_count": null,
   "metadata": {},
   "outputs": [],
   "source": [
    "for i in range(5):\n",
    "    X.sample(n = X.shape[0], replace = True)\n",
    "    train_X, test_X, train_y, test_y = train_test_split(X,y)\n",
    "    print(f\"Score for first cross-val test sample # {i+1} = {bag.score(test_X, test_y)}\")"
   ]
  },
  {
   "cell_type": "code",
   "execution_count": null,
   "metadata": {},
   "outputs": [],
   "source": [
    "for i in range(5):\n",
    "    X.sample(n = X.shape[0], replace = True)\n",
    "    train_X, test_X, train_y, test_y = train_test_split(X,y)\n",
    "    bag.fit(train_X, train_y)\n",
    "    print(f\"Score for cross-val test sample #{i+1} = {bag.score(test_X, test_y)}\")"
   ]
  },
  {
   "cell_type": "markdown",
   "metadata": {},
   "source": [
    "### OTHER MODELS"
   ]
  },
  {
   "cell_type": "markdown",
   "metadata": {},
   "source": [
    "**K-Nearest Neighbors**"
   ]
  },
  {
   "cell_type": "code",
   "execution_count": 83,
   "metadata": {},
   "outputs": [],
   "source": [
    "X = pd.concat([AW_posts_df['title_selftext'].dropna(), AW_comments_df['body'].dropna(), \n",
    "                    AM_posts_df['title_selftext'].dropna(), AM_comments_df['body'].dropna()], axis = 0)\n",
    "\n",
    "y = np.concatenate([np.zeros_like(AW_posts_df['title_selftext'].dropna()),\n",
    "                    np.zeros_like(AW_comments_df['body'].dropna()),\n",
    "                    np.ones_like(AM_posts_df['title_selftext'].dropna()),\n",
    "                    np.ones_like(AM_comments_df['body'].dropna())]).astype(int)\n",
    "\n",
    "train_X, test_X, train_y, test_y = train_test_split(X,y, test_size = 0.33)\n",
    "\n",
    "tvec = TfidfVectorizer()\n",
    "train_X_vec = tvec.fit_transform(train_X)\n",
    "test_X_vec = tvec.transform(test_X)"
   ]
  },
  {
   "cell_type": "code",
   "execution_count": 86,
   "metadata": {},
   "outputs": [
    {
     "data": {
      "text/plain": [
       "0.5330012453300125"
      ]
     },
     "execution_count": 86,
     "metadata": {},
     "output_type": "execute_result"
    }
   ],
   "source": [
    "knn = KNeighborsClassifier()\n",
    "knn.fit(train_X_vec, train_y)\n",
    "knn.score(test_X_vec, test_y)"
   ]
  },
  {
   "cell_type": "code",
   "execution_count": null,
   "metadata": {},
   "outputs": [],
   "source": [
    "plot_confusion_matrix(knn, X_vec, y);"
   ]
  },
  {
   "cell_type": "code",
   "execution_count": 90,
   "metadata": {},
   "outputs": [],
   "source": [
    "X_vec = cvec.transform(X)"
   ]
  },
  {
   "cell_type": "code",
   "execution_count": null,
   "metadata": {},
   "outputs": [],
   "source": [
    "for k in range(1,11):\n",
    "    knn = KNeighborsClassifier(k)\n",
    "    print(f\"k = {k} --> score = {round(cross_val_score(knn, X_vec, y).mean(),4)}\")"
   ]
  },
  {
   "cell_type": "markdown",
   "metadata": {},
   "source": [
    "**Random Forest Classifier**"
   ]
  },
  {
   "cell_type": "code",
   "execution_count": 390,
   "metadata": {},
   "outputs": [],
   "source": [
    "X = pd.concat([AW_posts_df['title_selftext'].dropna(), AW_comments_df['body'].dropna(), \n",
    "                    AM_posts_df['title_selftext'].dropna(), AM_comments_df['body'].dropna()], axis = 0)\n",
    "\n",
    "y = np.concatenate([np.zeros_like(AW_posts_df['title_selftext'].dropna()),\n",
    "                    np.zeros_like(AW_comments_df['body'].dropna()),\n",
    "                    np.ones_like(AM_posts_df['title_selftext'].dropna()),\n",
    "                    np.ones_like(AM_comments_df['body'].dropna())]).astype(int)\n",
    "\n",
    "train_X, test_X, train_y, test_y = train_test_split(X,y, test_size = 0.2)\n",
    "\n",
    "tvec = TfidfVectorizer()\n",
    "train_X_vec = tvec.fit_transform(train_X)\n",
    "test_X_vec = tvec.transform(test_X)"
   ]
  },
  {
   "cell_type": "code",
   "execution_count": 345,
   "metadata": {},
   "outputs": [
    {
     "data": {
      "text/plain": [
       "0.9904109589041096"
      ]
     },
     "execution_count": 345,
     "metadata": {},
     "output_type": "execute_result"
    }
   ],
   "source": [
    "rfc = RandomForestClassifier()\n",
    "rfc.fit(train_X_vec, train_y)\n",
    "rfc.score(train_X_vec, train_y)"
   ]
  },
  {
   "cell_type": "code",
   "execution_count": 346,
   "metadata": {},
   "outputs": [
    {
     "data": {
      "text/plain": [
       "0.7191780821917808"
      ]
     },
     "execution_count": 346,
     "metadata": {},
     "output_type": "execute_result"
    }
   ],
   "source": [
    "rfc.score(test_X_vec, test_y)"
   ]
  },
  {
   "cell_type": "code",
   "execution_count": 347,
   "metadata": {},
   "outputs": [
    {
     "name": "stdout",
     "output_type": "stream",
     "text": [
      "Fitting 5 folds for each of 500 candidates, totalling 2500 fits\n"
     ]
    },
    {
     "name": "stderr",
     "output_type": "stream",
     "text": [
      "[Parallel(n_jobs=5)]: Using backend LokyBackend with 5 concurrent workers.\n",
      "[Parallel(n_jobs=5)]: Done  40 tasks      | elapsed:    4.9s\n",
      "[Parallel(n_jobs=5)]: Done 190 tasks      | elapsed:   20.0s\n",
      "[Parallel(n_jobs=5)]: Done 440 tasks      | elapsed:  1.3min\n",
      "[Parallel(n_jobs=5)]: Done 790 tasks      | elapsed:  2.3min\n",
      "[Parallel(n_jobs=5)]: Done 1240 tasks      | elapsed:  3.9min\n",
      "[Parallel(n_jobs=5)]: Done 1790 tasks      | elapsed:  5.9min\n",
      "[Parallel(n_jobs=5)]: Done 2440 tasks      | elapsed:  8.4min\n",
      "[Parallel(n_jobs=5)]: Done 2500 out of 2500 | elapsed:  8.7min finished\n"
     ]
    },
    {
     "data": {
      "text/plain": [
       "0.6945205479452057"
      ]
     },
     "execution_count": 347,
     "metadata": {},
     "output_type": "execute_result"
    }
   ],
   "source": [
    "params = {'bootstrap': [True],\n",
    " 'ccp_alpha': np.linspace(0,1,5),\n",
    " 'criterion': ['gini'],\n",
    " 'max_depth': [2,5,10,15],\n",
    " 'min_samples_leaf': [1,2,3,4,5],\n",
    " 'n_estimators': [25,50,75,100,125]}\n",
    "\n",
    "rfc_gs = GridSearchCV(rfc, params, cv = 5, n_jobs = 5, verbose = 1)\n",
    "\n",
    "rfc_gs.fit(train_X_vec, train_y)\n",
    "rfc_gs.best_score_"
   ]
  },
  {
   "cell_type": "markdown",
   "metadata": {},
   "source": [
    "### cvec / tfidf MNB GridSearch"
   ]
  },
  {
   "cell_type": "code",
   "execution_count": 348,
   "metadata": {},
   "outputs": [],
   "source": [
    "X = pd.concat([AW_posts_df['title_selftext'].dropna(), AW_comments_df['body'].dropna(), \n",
    "                    AM_posts_df['title_selftext'].dropna(), AM_comments_df['body'].dropna()], axis = 0)\n",
    "\n",
    "\n",
    "y = np.concatenate([np.zeros_like(AW_posts_df['title_selftext'].dropna()),\n",
    "                    np.zeros_like(AW_comments_df['body'].dropna()),\n",
    "                    np.ones_like(AM_posts_df['title_selftext'].dropna()),\n",
    "                    np.ones_like(AM_comments_df['body'].dropna())]).astype(int)"
   ]
  },
  {
   "cell_type": "code",
   "execution_count": 349,
   "metadata": {},
   "outputs": [
    {
     "name": "stdout",
     "output_type": "stream",
     "text": [
      "Fitting 5 folds for each of 900 candidates, totalling 4500 fits\n"
     ]
    },
    {
     "name": "stderr",
     "output_type": "stream",
     "text": [
      "[Parallel(n_jobs=5)]: Using backend LokyBackend with 5 concurrent workers.\n",
      "[Parallel(n_jobs=5)]: Done  40 tasks      | elapsed:    4.5s\n",
      "[Parallel(n_jobs=5)]: Done 190 tasks      | elapsed:   30.5s\n",
      "[Parallel(n_jobs=5)]: Done 440 tasks      | elapsed:  1.7min\n",
      "[Parallel(n_jobs=5)]: Done 790 tasks      | elapsed:  2.9min\n",
      "[Parallel(n_jobs=5)]: Done 1240 tasks      | elapsed:  4.7min\n",
      "[Parallel(n_jobs=5)]: Done 1790 tasks      | elapsed:  7.0min\n",
      "[Parallel(n_jobs=5)]: Done 2440 tasks      | elapsed:  9.5min\n",
      "[Parallel(n_jobs=5)]: Done 3190 tasks      | elapsed: 12.5min\n",
      "[Parallel(n_jobs=5)]: Done 4040 tasks      | elapsed: 15.4min\n",
      "[Parallel(n_jobs=5)]: Done 4500 out of 4500 | elapsed: 17.6min finished\n"
     ]
    },
    {
     "data": {
      "text/plain": [
       "0.6628767123287671"
      ]
     },
     "execution_count": 349,
     "metadata": {},
     "output_type": "execute_result"
    }
   ],
   "source": [
    "cvec_mnb_pipe = Pipeline([('cvec', CountVectorizer()), \n",
    "                          ('mnb', MultinomialNB())])\n",
    "\n",
    "cvec_mnb_params = {'cvec__stop_words': ['english', None],\n",
    "                    'cvec__ngram_range': [(1,1), (1,2), (2,2), (1,3), (3,3)],\n",
    "                  'cvec__max_features': [5_000, 10_000, None],\n",
    "                    'cvec__max_df': [0.7, 0.8, 0.9],\n",
    "                  'mnb__alpha': np.linspace(0,1,10)}\n",
    "\n",
    "cvec_mnb_gs = GridSearchCV(cvec_mnb_pipe, cvec_mnb_params, cv = 5, verbose = 1, n_jobs = 5)\n",
    "cvec_mnb_gs.fit(X,y)\n",
    "cvec_mnb_gs.best_score_"
   ]
  },
  {
   "cell_type": "code",
   "execution_count": null,
   "metadata": {},
   "outputs": [],
   "source": [
    "tfidf_mnb_pipe = Pipeline([('tfidf', TfidfVectorizer()), \n",
    "                          ('mnb', MultinomialNB())])\n",
    "\n",
    "tfidf_mnb_params = {'tfidf__stop_words': ['english', None],\n",
    "                    'tfidf__ngram_range': [(1,1), (1,2), (2,2), (1,3), (3,3)],\n",
    "                  'tfidf__max_features': [5_000, 10_000, None],\n",
    "                    'tfidf__max_df': [0.7, 0.8, 0.9],\n",
    "                  'mnb__alpha': np.linspace(0,1,10)}\n",
    "\n",
    "tfidf_mnb_gs = GridSearchCV(cvec_mnb_pipe, cvec_mnb_params, cv = 5, verbose = 1, n_jobs = 5)\n",
    "tfidf_mnb_gs.fit(X,y)\n",
    "tfidf_mnb_gs.best_score_"
   ]
  },
  {
   "cell_type": "markdown",
   "metadata": {},
   "source": [
    "**Logistic Regression**"
   ]
  },
  {
   "cell_type": "code",
   "execution_count": 415,
   "metadata": {},
   "outputs": [],
   "source": [
    "X = pd.concat([AW_posts_df['title_selftext'].dropna(), AW_comments_df['body'].dropna(), \n",
    "                    AM_posts_df['title_selftext'].dropna(), AM_comments_df['body'].dropna()], axis = 0)\n",
    "\n",
    "y = np.concatenate([np.zeros_like(AW_posts_df['title_selftext'].dropna()),\n",
    "                    np.zeros_like(AW_comments_df['body'].dropna()),\n",
    "                    np.ones_like(AM_posts_df['title_selftext'].dropna()),\n",
    "                    np.ones_like(AM_comments_df['body'].dropna())]).astype(int)\n",
    "\n",
    "train_X, test_X, train_y, test_y = train_test_split(X,y, test_size = 0.33)\n",
    "\n",
    "\n",
    "tvec = TfidfVectorizer(stop_words = 'english')\n",
    "train_X_vec = tvec.fit_transform(train_X)\n",
    "test_X_vec = tvec.transform(test_X)"
   ]
  },
  {
   "cell_type": "code",
   "execution_count": 418,
   "metadata": {},
   "outputs": [
    {
     "data": {
      "text/plain": [
       "0.8581067266407688"
      ]
     },
     "execution_count": 418,
     "metadata": {},
     "output_type": "execute_result"
    }
   ],
   "source": [
    "logreg = LogisticRegression(C = 0.5)\n",
    "logreg.fit(train_X_vec, train_y)\n",
    "logreg.score(train_X_vec, train_y)"
   ]
  },
  {
   "cell_type": "code",
   "execution_count": 419,
   "metadata": {},
   "outputs": [
    {
     "data": {
      "text/plain": [
       "0.7023661270236613"
      ]
     },
     "execution_count": 419,
     "metadata": {},
     "output_type": "execute_result"
    }
   ],
   "source": [
    "logreg.score(test_X_vec, test_y)"
   ]
  },
  {
   "cell_type": "code",
   "execution_count": null,
   "metadata": {},
   "outputs": [],
   "source": [
    "cross_val_score(logreg, train_X_vec+test_X_vec, train_y+test_y)"
   ]
  },
  {
   "cell_type": "markdown",
   "metadata": {},
   "source": [
    "**XGBC**"
   ]
  },
  {
   "cell_type": "code",
   "execution_count": 358,
   "metadata": {},
   "outputs": [
    {
     "data": {
      "text/plain": [
       "0.9039051318748722"
      ]
     },
     "execution_count": 358,
     "metadata": {},
     "output_type": "execute_result"
    }
   ],
   "source": [
    "xgbc = XGBClassifier(use_label_encoder=False, eval_metric = 'logloss')\n",
    "xgbc.fit(train_X_vec, train_y)\n",
    "xgbc.score(train_X_vec, train_y)"
   ]
  },
  {
   "cell_type": "code",
   "execution_count": 359,
   "metadata": {},
   "outputs": [
    {
     "data": {
      "text/plain": [
       "0.7027812370278124"
      ]
     },
     "execution_count": 359,
     "metadata": {},
     "output_type": "execute_result"
    }
   ],
   "source": [
    "xgbc.score(test_X_vec, test_y)"
   ]
  },
  {
   "cell_type": "markdown",
   "metadata": {},
   "source": [
    "### Voting classifiers"
   ]
  },
  {
   "cell_type": "markdown",
   "metadata": {},
   "source": [
    "#### Without GridSearch"
   ]
  },
  {
   "cell_type": "code",
   "execution_count": 369,
   "metadata": {},
   "outputs": [],
   "source": [
    "vote = VotingClassifier([('xgbc', XGBClassifier(use_label_encoder=False, eval_metric = 'logloss')),\n",
    "    ('rfc', RandomForestClassifier()),\n",
    "    ('logreg', LogisticRegression()),\n",
    "  #  ('knn', KNeighborsClassifier())],\n",
    "                       verbose = 1)"
   ]
  },
  {
   "cell_type": "code",
   "execution_count": 370,
   "metadata": {
    "collapsed": true,
    "jupyter": {
     "outputs_hidden": true
    }
   },
   "outputs": [
    {
     "name": "stdout",
     "output_type": "stream",
     "text": [
      "[Voting] ..................... (1 of 4) Processing xgbc, total=   2.3s\n",
      "[Voting] ...................... (2 of 4) Processing rfc, total=   3.4s\n",
      "[Voting] ................... (3 of 4) Processing logreg, total=   0.2s\n",
      "[Voting] ...................... (4 of 4) Processing knn, total=   0.0s\n"
     ]
    },
    {
     "data": {
      "text/plain": [
       "0.9685135964015539"
      ]
     },
     "execution_count": 370,
     "metadata": {},
     "output_type": "execute_result"
    }
   ],
   "source": [
    "vote.fit(train_X_vec, train_y)\n",
    "vote.score(train_X_vec, train_y)"
   ]
  },
  {
   "cell_type": "code",
   "execution_count": 371,
   "metadata": {},
   "outputs": [
    {
     "data": {
      "text/plain": [
       "0.7376504773765048"
      ]
     },
     "execution_count": 371,
     "metadata": {},
     "output_type": "execute_result"
    }
   ],
   "source": [
    "vote.score(test_X_vec, test_y)"
   ]
  },
  {
   "cell_type": "markdown",
   "metadata": {},
   "source": [
    "#### Using GridSearch"
   ]
  },
  {
   "cell_type": "code",
   "execution_count": 4,
   "metadata": {},
   "outputs": [],
   "source": [
    "X = pd.concat([AW_posts_df['title_selftext'].dropna(), AW_comments_df['body'].dropna(), AM_posts_df['title_selftext'].dropna(), AM_comments_df['body'].dropna()], axis = 0)\n",
    "\n",
    "y = np.concatenate([np.zeros_like(AW_posts_df['title_selftext'].dropna()),\n",
    "                    np.zeros_like(AW_comments_df['body'].dropna()),\n",
    "                    np.ones_like(AM_posts_df['title_selftext'].dropna()),\n",
    "                    np.ones_like(AM_comments_df['body'].dropna())]).astype(int)\n",
    "\n",
    "train_X, test_X, train_y, test_y = train_test_split(X,y, test_size = 0.2)"
   ]
  },
  {
   "cell_type": "code",
   "execution_count": 6,
   "metadata": {},
   "outputs": [],
   "source": [
    "# knn_pipe = Pipeline ([\n",
    "#     ('stan', StandardScaler()),\n",
    "#     ('knn', KNeighborsClassifier())\n",
    "# ])\n",
    "\n",
    "logreg_pipe = Pipeline ([\n",
    "    ('tvec', TfidfVectorizer()),\n",
    "    ('logreg', LogisticRegression())])\n",
    "\n",
    "rfc_pipe = Pipeline([\n",
    "    ('tvec', TfidfVectorizer()),\n",
    "    ('rfc', RandomForestClassifier())])\n",
    "\n",
    "xgbc_pipe = Pipeline([\n",
    "    ('tvec', TfidfVectorizer()),\n",
    "    ('xgbc', XGBClassifier(use_label_encoder=False, eval_metric = 'logloss'))\n",
    "])"
   ]
  },
  {
   "cell_type": "code",
   "execution_count": 29,
   "metadata": {},
   "outputs": [
    {
     "data": {
      "text/plain": [
       "dict_keys(['memory', 'steps', 'verbose', 'tvec', 'rfc', 'tvec__analyzer', 'tvec__binary', 'tvec__decode_error', 'tvec__dtype', 'tvec__encoding', 'tvec__input', 'tvec__lowercase', 'tvec__max_df', 'tvec__max_features', 'tvec__min_df', 'tvec__ngram_range', 'tvec__norm', 'tvec__preprocessor', 'tvec__smooth_idf', 'tvec__stop_words', 'tvec__strip_accents', 'tvec__sublinear_tf', 'tvec__token_pattern', 'tvec__tokenizer', 'tvec__use_idf', 'tvec__vocabulary', 'rfc__bootstrap', 'rfc__ccp_alpha', 'rfc__class_weight', 'rfc__criterion', 'rfc__max_depth', 'rfc__max_features', 'rfc__max_leaf_nodes', 'rfc__max_samples', 'rfc__min_impurity_decrease', 'rfc__min_impurity_split', 'rfc__min_samples_leaf', 'rfc__min_samples_split', 'rfc__min_weight_fraction_leaf', 'rfc__n_estimators', 'rfc__n_jobs', 'rfc__oob_score', 'rfc__random_state', 'rfc__verbose', 'rfc__warm_start'])"
      ]
     },
     "execution_count": 29,
     "metadata": {},
     "output_type": "execute_result"
    }
   ],
   "source": [
    "rfc_pipe.get_params().keys()"
   ]
  },
  {
   "cell_type": "code",
   "execution_count": 5,
   "metadata": {},
   "outputs": [],
   "source": [
    "# logreg_params = {\n",
    "#     'logreg_pipe__tvec__max_df': [0.8, 0.9, 1],\n",
    "#     'logreg_pipe__tvec__ngram_range': [(1,1), (1,2)],\n",
    "#     'logreg_pipe__tvec__stop_words': [None, 'english'],\n",
    "#     'logreg_pipe__tvec__use_idf': [True, False],\n",
    "#     'logreg_pipe__logreg__C': np.linspace(0,1,5)\n",
    "# }\n",
    "\n",
    "logreg_params = {\n",
    "    'tvec__max_df': [0.8, 0.9, 1],\n",
    "    'tvec__ngram_range': [(1,1), (1,2)],\n",
    "    'tvec__stop_words': [None, 'english'],\n",
    "    'tvec__use_idf': [True, False],\n",
    "    'logreg__C': np.linspace(0.00000001,1,5)\n",
    "}\n",
    "\n",
    "rfc_params = {\n",
    "    'tvec__max_df': [0.8, 0.9, 1],\n",
    "    'tvec__ngram_range': [(1,1), (1,2)],\n",
    "    'tvec__stop_words': [None, 'english'],\n",
    "    'tvec__use_idf': [True, False],\n",
    "    #'rfc__max_depth': , \n",
    "    'rfc__max_features': [None, 10_000, 5_000], \n",
    "    #'rfc__max_leaf_nodes', \n",
    "    #'rfc__max_samples', 'rfc__min_impurity_decrease', \n",
    "    #'rfc__min_impurity_split': []\n",
    "    'rfc__min_samples_leaf': [1,5,10], \n",
    "    #'rfc__min_samples_split', 'rfc__min_weight_fraction_leaf', \n",
    "    'rfc__n_estimators': [5, 10, 15]\n",
    "}"
   ]
  },
  {
   "cell_type": "code",
   "execution_count": 17,
   "metadata": {},
   "outputs": [
    {
     "data": {
      "text/plain": [
       "Pipeline(steps=[('tvec', TfidfVectorizer()), ('logreg', LogisticRegression())])"
      ]
     },
     "execution_count": 17,
     "metadata": {},
     "output_type": "execute_result"
    }
   ],
   "source": [
    "logreg_pipe.fit(train_X, train_y)"
   ]
  },
  {
   "cell_type": "code",
   "execution_count": 20,
   "metadata": {},
   "outputs": [
    {
     "data": {
      "text/plain": [
       "0.7275910364145658"
      ]
     },
     "execution_count": 20,
     "metadata": {},
     "output_type": "execute_result"
    }
   ],
   "source": [
    "logreg_pipe.score(test_X, test_y)"
   ]
  },
  {
   "cell_type": "code",
   "execution_count": 26,
   "metadata": {},
   "outputs": [
    {
     "name": "stdout",
     "output_type": "stream",
     "text": [
      "Fitting 3 folds for each of 120 candidates, totalling 360 fits\n"
     ]
    },
    {
     "name": "stderr",
     "output_type": "stream",
     "text": [
      "[Parallel(n_jobs=1)]: Using backend SequentialBackend with 1 concurrent workers.\n",
      "[Parallel(n_jobs=1)]: Done 360 out of 360 | elapsed:  2.3min finished\n"
     ]
    },
    {
     "data": {
      "text/plain": [
       "GridSearchCV(cv=3,\n",
       "             estimator=Pipeline(steps=[('tvec', TfidfVectorizer()),\n",
       "                                       ('logreg', LogisticRegression())]),\n",
       "             n_jobs=1,\n",
       "             param_grid={'logreg__C': array([1.00000000e-08, 2.50000008e-01, 5.00000005e-01, 7.50000002e-01,\n",
       "       1.00000000e+00]),\n",
       "                         'tvec__max_df': [0.8, 0.9, 1],\n",
       "                         'tvec__ngram_range': [(1, 1), (1, 2)],\n",
       "                         'tvec__stop_words': [None, 'english'],\n",
       "                         'tvec__use_idf': [True, False]},\n",
       "             verbose=1)"
      ]
     },
     "execution_count": 26,
     "metadata": {},
     "output_type": "execute_result"
    }
   ],
   "source": [
    "logreg_pipe_gs = GridSearchCV(logreg_pipe, logreg_params, n_jobs = 3, cv = 5, verbose = 1, return_train_score=True)\n",
    "logreg_pipe_gs.fit(train_X,train_y)"
   ]
  },
  {
   "cell_type": "code",
   "execution_count": 27,
   "metadata": {},
   "outputs": [
    {
     "data": {
      "text/plain": [
       "0.9264705882352942"
      ]
     },
     "execution_count": 27,
     "metadata": {},
     "output_type": "execute_result"
    }
   ],
   "source": [
    "logreg_pipe_gs.score(train_X,train_y)"
   ]
  },
  {
   "cell_type": "code",
   "execution_count": 28,
   "metadata": {},
   "outputs": [
    {
     "data": {
      "text/plain": [
       "0.7303921568627451"
      ]
     },
     "execution_count": 28,
     "metadata": {},
     "output_type": "execute_result"
    }
   ],
   "source": [
    "logreg_pipe_gs.score(test_X,test_y)"
   ]
  },
  {
   "cell_type": "code",
   "execution_count": 7,
   "metadata": {},
   "outputs": [
    {
     "name": "stdout",
     "output_type": "stream",
     "text": [
      "Fitting 5 folds for each of 648 candidates, totalling 3240 fits\n"
     ]
    },
    {
     "name": "stderr",
     "output_type": "stream",
     "text": [
      "[Parallel(n_jobs=3)]: Using backend LokyBackend with 3 concurrent workers.\n",
      "[Parallel(n_jobs=3)]: Done  35 tasks      | elapsed:  1.4min\n",
      "[Parallel(n_jobs=3)]: Done 156 tasks      | elapsed: 12.7min\n"
     ]
    },
    {
     "ename": "KeyboardInterrupt",
     "evalue": "",
     "output_type": "error",
     "traceback": [
      "\u001b[0;31m---------------------------------------------------------------------------\u001b[0m",
      "\u001b[0;31mKeyboardInterrupt\u001b[0m                         Traceback (most recent call last)",
      "\u001b[0;32m<ipython-input-7-be19931e487e>\u001b[0m in \u001b[0;36m<module>\u001b[0;34m\u001b[0m\n\u001b[1;32m      1\u001b[0m \u001b[0mrfc_pipe_gs\u001b[0m \u001b[0;34m=\u001b[0m \u001b[0mGridSearchCV\u001b[0m\u001b[0;34m(\u001b[0m\u001b[0mrfc_pipe\u001b[0m\u001b[0;34m,\u001b[0m \u001b[0mrfc_params\u001b[0m\u001b[0;34m,\u001b[0m \u001b[0mn_jobs\u001b[0m \u001b[0;34m=\u001b[0m \u001b[0;36m3\u001b[0m\u001b[0;34m,\u001b[0m \u001b[0mcv\u001b[0m \u001b[0;34m=\u001b[0m \u001b[0;36m5\u001b[0m\u001b[0;34m,\u001b[0m \u001b[0mverbose\u001b[0m \u001b[0;34m=\u001b[0m \u001b[0;36m2\u001b[0m\u001b[0;34m,\u001b[0m \u001b[0mreturn_train_score\u001b[0m\u001b[0;34m=\u001b[0m\u001b[0;32mTrue\u001b[0m\u001b[0;34m)\u001b[0m\u001b[0;34m\u001b[0m\u001b[0;34m\u001b[0m\u001b[0m\n\u001b[0;32m----> 2\u001b[0;31m \u001b[0mrfc_pipe_gs\u001b[0m\u001b[0;34m.\u001b[0m\u001b[0mfit\u001b[0m\u001b[0;34m(\u001b[0m\u001b[0mtrain_X\u001b[0m\u001b[0;34m,\u001b[0m\u001b[0mtrain_y\u001b[0m\u001b[0;34m)\u001b[0m\u001b[0;34m\u001b[0m\u001b[0;34m\u001b[0m\u001b[0m\n\u001b[0m",
      "\u001b[0;32m~/anaconda3/lib/python3.8/site-packages/sklearn/utils/validation.py\u001b[0m in \u001b[0;36minner_f\u001b[0;34m(*args, **kwargs)\u001b[0m\n\u001b[1;32m     71\u001b[0m                           FutureWarning)\n\u001b[1;32m     72\u001b[0m         \u001b[0mkwargs\u001b[0m\u001b[0;34m.\u001b[0m\u001b[0mupdate\u001b[0m\u001b[0;34m(\u001b[0m\u001b[0;34m{\u001b[0m\u001b[0mk\u001b[0m\u001b[0;34m:\u001b[0m \u001b[0marg\u001b[0m \u001b[0;32mfor\u001b[0m \u001b[0mk\u001b[0m\u001b[0;34m,\u001b[0m \u001b[0marg\u001b[0m \u001b[0;32min\u001b[0m \u001b[0mzip\u001b[0m\u001b[0;34m(\u001b[0m\u001b[0msig\u001b[0m\u001b[0;34m.\u001b[0m\u001b[0mparameters\u001b[0m\u001b[0;34m,\u001b[0m \u001b[0margs\u001b[0m\u001b[0;34m)\u001b[0m\u001b[0;34m}\u001b[0m\u001b[0;34m)\u001b[0m\u001b[0;34m\u001b[0m\u001b[0;34m\u001b[0m\u001b[0m\n\u001b[0;32m---> 73\u001b[0;31m         \u001b[0;32mreturn\u001b[0m \u001b[0mf\u001b[0m\u001b[0;34m(\u001b[0m\u001b[0;34m**\u001b[0m\u001b[0mkwargs\u001b[0m\u001b[0;34m)\u001b[0m\u001b[0;34m\u001b[0m\u001b[0;34m\u001b[0m\u001b[0m\n\u001b[0m\u001b[1;32m     74\u001b[0m     \u001b[0;32mreturn\u001b[0m \u001b[0minner_f\u001b[0m\u001b[0;34m\u001b[0m\u001b[0;34m\u001b[0m\u001b[0m\n\u001b[1;32m     75\u001b[0m \u001b[0;34m\u001b[0m\u001b[0m\n",
      "\u001b[0;32m~/anaconda3/lib/python3.8/site-packages/sklearn/model_selection/_search.py\u001b[0m in \u001b[0;36mfit\u001b[0;34m(self, X, y, groups, **fit_params)\u001b[0m\n\u001b[1;32m    734\u001b[0m                 \u001b[0;32mreturn\u001b[0m \u001b[0mresults\u001b[0m\u001b[0;34m\u001b[0m\u001b[0;34m\u001b[0m\u001b[0m\n\u001b[1;32m    735\u001b[0m \u001b[0;34m\u001b[0m\u001b[0m\n\u001b[0;32m--> 736\u001b[0;31m             \u001b[0mself\u001b[0m\u001b[0;34m.\u001b[0m\u001b[0m_run_search\u001b[0m\u001b[0;34m(\u001b[0m\u001b[0mevaluate_candidates\u001b[0m\u001b[0;34m)\u001b[0m\u001b[0;34m\u001b[0m\u001b[0;34m\u001b[0m\u001b[0m\n\u001b[0m\u001b[1;32m    737\u001b[0m \u001b[0;34m\u001b[0m\u001b[0m\n\u001b[1;32m    738\u001b[0m         \u001b[0;31m# For multi-metric evaluation, store the best_index_, best_params_ and\u001b[0m\u001b[0;34m\u001b[0m\u001b[0;34m\u001b[0m\u001b[0;34m\u001b[0m\u001b[0m\n",
      "\u001b[0;32m~/anaconda3/lib/python3.8/site-packages/sklearn/model_selection/_search.py\u001b[0m in \u001b[0;36m_run_search\u001b[0;34m(self, evaluate_candidates)\u001b[0m\n\u001b[1;32m   1186\u001b[0m     \u001b[0;32mdef\u001b[0m \u001b[0m_run_search\u001b[0m\u001b[0;34m(\u001b[0m\u001b[0mself\u001b[0m\u001b[0;34m,\u001b[0m \u001b[0mevaluate_candidates\u001b[0m\u001b[0;34m)\u001b[0m\u001b[0;34m:\u001b[0m\u001b[0;34m\u001b[0m\u001b[0;34m\u001b[0m\u001b[0m\n\u001b[1;32m   1187\u001b[0m         \u001b[0;34m\"\"\"Search all candidates in param_grid\"\"\"\u001b[0m\u001b[0;34m\u001b[0m\u001b[0;34m\u001b[0m\u001b[0m\n\u001b[0;32m-> 1188\u001b[0;31m         \u001b[0mevaluate_candidates\u001b[0m\u001b[0;34m(\u001b[0m\u001b[0mParameterGrid\u001b[0m\u001b[0;34m(\u001b[0m\u001b[0mself\u001b[0m\u001b[0;34m.\u001b[0m\u001b[0mparam_grid\u001b[0m\u001b[0;34m)\u001b[0m\u001b[0;34m)\u001b[0m\u001b[0;34m\u001b[0m\u001b[0;34m\u001b[0m\u001b[0m\n\u001b[0m\u001b[1;32m   1189\u001b[0m \u001b[0;34m\u001b[0m\u001b[0m\n\u001b[1;32m   1190\u001b[0m \u001b[0;34m\u001b[0m\u001b[0m\n",
      "\u001b[0;32m~/anaconda3/lib/python3.8/site-packages/sklearn/model_selection/_search.py\u001b[0m in \u001b[0;36mevaluate_candidates\u001b[0;34m(candidate_params)\u001b[0m\n\u001b[1;32m    706\u001b[0m                               n_splits, n_candidates, n_candidates * n_splits))\n\u001b[1;32m    707\u001b[0m \u001b[0;34m\u001b[0m\u001b[0m\n\u001b[0;32m--> 708\u001b[0;31m                 out = parallel(delayed(_fit_and_score)(clone(base_estimator),\n\u001b[0m\u001b[1;32m    709\u001b[0m                                                        \u001b[0mX\u001b[0m\u001b[0;34m,\u001b[0m \u001b[0my\u001b[0m\u001b[0;34m,\u001b[0m\u001b[0;34m\u001b[0m\u001b[0;34m\u001b[0m\u001b[0m\n\u001b[1;32m    710\u001b[0m                                                        \u001b[0mtrain\u001b[0m\u001b[0;34m=\u001b[0m\u001b[0mtrain\u001b[0m\u001b[0;34m,\u001b[0m \u001b[0mtest\u001b[0m\u001b[0;34m=\u001b[0m\u001b[0mtest\u001b[0m\u001b[0;34m,\u001b[0m\u001b[0;34m\u001b[0m\u001b[0;34m\u001b[0m\u001b[0m\n",
      "\u001b[0;32m~/anaconda3/lib/python3.8/site-packages/joblib/parallel.py\u001b[0m in \u001b[0;36m__call__\u001b[0;34m(self, iterable)\u001b[0m\n\u001b[1;32m   1040\u001b[0m \u001b[0;34m\u001b[0m\u001b[0m\n\u001b[1;32m   1041\u001b[0m             \u001b[0;32mwith\u001b[0m \u001b[0mself\u001b[0m\u001b[0;34m.\u001b[0m\u001b[0m_backend\u001b[0m\u001b[0;34m.\u001b[0m\u001b[0mretrieval_context\u001b[0m\u001b[0;34m(\u001b[0m\u001b[0;34m)\u001b[0m\u001b[0;34m:\u001b[0m\u001b[0;34m\u001b[0m\u001b[0;34m\u001b[0m\u001b[0m\n\u001b[0;32m-> 1042\u001b[0;31m                 \u001b[0mself\u001b[0m\u001b[0;34m.\u001b[0m\u001b[0mretrieve\u001b[0m\u001b[0;34m(\u001b[0m\u001b[0;34m)\u001b[0m\u001b[0;34m\u001b[0m\u001b[0;34m\u001b[0m\u001b[0m\n\u001b[0m\u001b[1;32m   1043\u001b[0m             \u001b[0;31m# Make sure that we get a last message telling us we are done\u001b[0m\u001b[0;34m\u001b[0m\u001b[0;34m\u001b[0m\u001b[0;34m\u001b[0m\u001b[0m\n\u001b[1;32m   1044\u001b[0m             \u001b[0melapsed_time\u001b[0m \u001b[0;34m=\u001b[0m \u001b[0mtime\u001b[0m\u001b[0;34m.\u001b[0m\u001b[0mtime\u001b[0m\u001b[0;34m(\u001b[0m\u001b[0;34m)\u001b[0m \u001b[0;34m-\u001b[0m \u001b[0mself\u001b[0m\u001b[0;34m.\u001b[0m\u001b[0m_start_time\u001b[0m\u001b[0;34m\u001b[0m\u001b[0;34m\u001b[0m\u001b[0m\n",
      "\u001b[0;32m~/anaconda3/lib/python3.8/site-packages/joblib/parallel.py\u001b[0m in \u001b[0;36mretrieve\u001b[0;34m(self)\u001b[0m\n\u001b[1;32m    919\u001b[0m             \u001b[0;32mtry\u001b[0m\u001b[0;34m:\u001b[0m\u001b[0;34m\u001b[0m\u001b[0;34m\u001b[0m\u001b[0m\n\u001b[1;32m    920\u001b[0m                 \u001b[0;32mif\u001b[0m \u001b[0mgetattr\u001b[0m\u001b[0;34m(\u001b[0m\u001b[0mself\u001b[0m\u001b[0;34m.\u001b[0m\u001b[0m_backend\u001b[0m\u001b[0;34m,\u001b[0m \u001b[0;34m'supports_timeout'\u001b[0m\u001b[0;34m,\u001b[0m \u001b[0;32mFalse\u001b[0m\u001b[0;34m)\u001b[0m\u001b[0;34m:\u001b[0m\u001b[0;34m\u001b[0m\u001b[0;34m\u001b[0m\u001b[0m\n\u001b[0;32m--> 921\u001b[0;31m                     \u001b[0mself\u001b[0m\u001b[0;34m.\u001b[0m\u001b[0m_output\u001b[0m\u001b[0;34m.\u001b[0m\u001b[0mextend\u001b[0m\u001b[0;34m(\u001b[0m\u001b[0mjob\u001b[0m\u001b[0;34m.\u001b[0m\u001b[0mget\u001b[0m\u001b[0;34m(\u001b[0m\u001b[0mtimeout\u001b[0m\u001b[0;34m=\u001b[0m\u001b[0mself\u001b[0m\u001b[0;34m.\u001b[0m\u001b[0mtimeout\u001b[0m\u001b[0;34m)\u001b[0m\u001b[0;34m)\u001b[0m\u001b[0;34m\u001b[0m\u001b[0;34m\u001b[0m\u001b[0m\n\u001b[0m\u001b[1;32m    922\u001b[0m                 \u001b[0;32melse\u001b[0m\u001b[0;34m:\u001b[0m\u001b[0;34m\u001b[0m\u001b[0;34m\u001b[0m\u001b[0m\n\u001b[1;32m    923\u001b[0m                     \u001b[0mself\u001b[0m\u001b[0;34m.\u001b[0m\u001b[0m_output\u001b[0m\u001b[0;34m.\u001b[0m\u001b[0mextend\u001b[0m\u001b[0;34m(\u001b[0m\u001b[0mjob\u001b[0m\u001b[0;34m.\u001b[0m\u001b[0mget\u001b[0m\u001b[0;34m(\u001b[0m\u001b[0;34m)\u001b[0m\u001b[0;34m)\u001b[0m\u001b[0;34m\u001b[0m\u001b[0;34m\u001b[0m\u001b[0m\n",
      "\u001b[0;32m~/anaconda3/lib/python3.8/site-packages/joblib/_parallel_backends.py\u001b[0m in \u001b[0;36mwrap_future_result\u001b[0;34m(future, timeout)\u001b[0m\n\u001b[1;32m    540\u001b[0m         AsyncResults.get from multiprocessing.\"\"\"\n\u001b[1;32m    541\u001b[0m         \u001b[0;32mtry\u001b[0m\u001b[0;34m:\u001b[0m\u001b[0;34m\u001b[0m\u001b[0;34m\u001b[0m\u001b[0m\n\u001b[0;32m--> 542\u001b[0;31m             \u001b[0;32mreturn\u001b[0m \u001b[0mfuture\u001b[0m\u001b[0;34m.\u001b[0m\u001b[0mresult\u001b[0m\u001b[0;34m(\u001b[0m\u001b[0mtimeout\u001b[0m\u001b[0;34m=\u001b[0m\u001b[0mtimeout\u001b[0m\u001b[0;34m)\u001b[0m\u001b[0;34m\u001b[0m\u001b[0;34m\u001b[0m\u001b[0m\n\u001b[0m\u001b[1;32m    543\u001b[0m         \u001b[0;32mexcept\u001b[0m \u001b[0mCfTimeoutError\u001b[0m \u001b[0;32mas\u001b[0m \u001b[0me\u001b[0m\u001b[0;34m:\u001b[0m\u001b[0;34m\u001b[0m\u001b[0;34m\u001b[0m\u001b[0m\n\u001b[1;32m    544\u001b[0m             \u001b[0;32mraise\u001b[0m \u001b[0mTimeoutError\u001b[0m \u001b[0;32mfrom\u001b[0m \u001b[0me\u001b[0m\u001b[0;34m\u001b[0m\u001b[0;34m\u001b[0m\u001b[0m\n",
      "\u001b[0;32m~/anaconda3/lib/python3.8/concurrent/futures/_base.py\u001b[0m in \u001b[0;36mresult\u001b[0;34m(self, timeout)\u001b[0m\n\u001b[1;32m    432\u001b[0m                 \u001b[0;32mreturn\u001b[0m \u001b[0mself\u001b[0m\u001b[0;34m.\u001b[0m\u001b[0m__get_result\u001b[0m\u001b[0;34m(\u001b[0m\u001b[0;34m)\u001b[0m\u001b[0;34m\u001b[0m\u001b[0;34m\u001b[0m\u001b[0m\n\u001b[1;32m    433\u001b[0m \u001b[0;34m\u001b[0m\u001b[0m\n\u001b[0;32m--> 434\u001b[0;31m             \u001b[0mself\u001b[0m\u001b[0;34m.\u001b[0m\u001b[0m_condition\u001b[0m\u001b[0;34m.\u001b[0m\u001b[0mwait\u001b[0m\u001b[0;34m(\u001b[0m\u001b[0mtimeout\u001b[0m\u001b[0;34m)\u001b[0m\u001b[0;34m\u001b[0m\u001b[0;34m\u001b[0m\u001b[0m\n\u001b[0m\u001b[1;32m    435\u001b[0m \u001b[0;34m\u001b[0m\u001b[0m\n\u001b[1;32m    436\u001b[0m             \u001b[0;32mif\u001b[0m \u001b[0mself\u001b[0m\u001b[0;34m.\u001b[0m\u001b[0m_state\u001b[0m \u001b[0;32min\u001b[0m \u001b[0;34m[\u001b[0m\u001b[0mCANCELLED\u001b[0m\u001b[0;34m,\u001b[0m \u001b[0mCANCELLED_AND_NOTIFIED\u001b[0m\u001b[0;34m]\u001b[0m\u001b[0;34m:\u001b[0m\u001b[0;34m\u001b[0m\u001b[0;34m\u001b[0m\u001b[0m\n",
      "\u001b[0;32m~/anaconda3/lib/python3.8/threading.py\u001b[0m in \u001b[0;36mwait\u001b[0;34m(self, timeout)\u001b[0m\n\u001b[1;32m    300\u001b[0m         \u001b[0;32mtry\u001b[0m\u001b[0;34m:\u001b[0m    \u001b[0;31m# restore state no matter what (e.g., KeyboardInterrupt)\u001b[0m\u001b[0;34m\u001b[0m\u001b[0;34m\u001b[0m\u001b[0m\n\u001b[1;32m    301\u001b[0m             \u001b[0;32mif\u001b[0m \u001b[0mtimeout\u001b[0m \u001b[0;32mis\u001b[0m \u001b[0;32mNone\u001b[0m\u001b[0;34m:\u001b[0m\u001b[0;34m\u001b[0m\u001b[0;34m\u001b[0m\u001b[0m\n\u001b[0;32m--> 302\u001b[0;31m                 \u001b[0mwaiter\u001b[0m\u001b[0;34m.\u001b[0m\u001b[0macquire\u001b[0m\u001b[0;34m(\u001b[0m\u001b[0;34m)\u001b[0m\u001b[0;34m\u001b[0m\u001b[0;34m\u001b[0m\u001b[0m\n\u001b[0m\u001b[1;32m    303\u001b[0m                 \u001b[0mgotit\u001b[0m \u001b[0;34m=\u001b[0m \u001b[0;32mTrue\u001b[0m\u001b[0;34m\u001b[0m\u001b[0;34m\u001b[0m\u001b[0m\n\u001b[1;32m    304\u001b[0m             \u001b[0;32melse\u001b[0m\u001b[0;34m:\u001b[0m\u001b[0;34m\u001b[0m\u001b[0;34m\u001b[0m\u001b[0m\n",
      "\u001b[0;31mKeyboardInterrupt\u001b[0m: "
     ]
    }
   ],
   "source": [
    "rfc_pipe_gs = GridSearchCV(rfc_pipe, rfc_params, n_jobs = 3, cv = 5, verbose = 2, return_train_score=True)\n",
    "rfc_pipe_gs.fit(train_X,train_y)"
   ]
  },
  {
   "cell_type": "code",
   "execution_count": 369,
   "metadata": {},
   "outputs": [],
   "source": [
    "vote = VotingClassifier([('xgbc', XGBClassifier(use_label_encoder=False, eval_metric = 'logloss')),\n",
    "    ('rfc', RandomForestClassifier()),\n",
    "    ('logreg', LogisticRegression()),\n",
    "  #  ('knn', KNeighborsClassifier())],\n",
    "                       verbose = 1)"
   ]
  },
  {
   "cell_type": "code",
   "execution_count": 370,
   "metadata": {
    "collapsed": true,
    "jupyter": {
     "outputs_hidden": true
    }
   },
   "outputs": [
    {
     "name": "stdout",
     "output_type": "stream",
     "text": [
      "[Voting] ..................... (1 of 4) Processing xgbc, total=   2.3s\n",
      "[Voting] ...................... (2 of 4) Processing rfc, total=   3.4s\n",
      "[Voting] ................... (3 of 4) Processing logreg, total=   0.2s\n",
      "[Voting] ...................... (4 of 4) Processing knn, total=   0.0s\n"
     ]
    },
    {
     "data": {
      "text/plain": [
       "0.9685135964015539"
      ]
     },
     "execution_count": 370,
     "metadata": {},
     "output_type": "execute_result"
    }
   ],
   "source": [
    "vote.fit(train_X_vec, train_y)\n",
    "vote.score(train_X_vec, train_y)"
   ]
  },
  {
   "cell_type": "code",
   "execution_count": 371,
   "metadata": {},
   "outputs": [
    {
     "data": {
      "text/plain": [
       "0.7376504773765048"
      ]
     },
     "execution_count": 371,
     "metadata": {},
     "output_type": "execute_result"
    }
   ],
   "source": [
    "vote.score(test_X_vec, test_y)"
   ]
  },
  {
   "cell_type": "code",
   "execution_count": null,
   "metadata": {},
   "outputs": [],
   "source": []
  }
 ],
 "metadata": {
  "kernelspec": {
   "display_name": "Python 3",
   "language": "python",
   "name": "python3"
  },
  "language_info": {
   "codemirror_mode": {
    "name": "ipython",
    "version": 3
   },
   "file_extension": ".py",
   "mimetype": "text/x-python",
   "name": "python",
   "nbconvert_exporter": "python",
   "pygments_lexer": "ipython3",
   "version": "3.8.3"
  }
 },
 "nbformat": 4,
 "nbformat_minor": 4
}
